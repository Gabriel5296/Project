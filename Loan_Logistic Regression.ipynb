{
 "cells": [
  {
   "cell_type": "markdown",
   "metadata": {},
   "source": [
    "# Context:\n",
    "A Non-Banking Finance Company  is an online platform committed to delivering customized loan products to millennials.\n",
    "They innovate in an otherwise dull loan segment, to deliver instant, flexible loans on consumer friendly terms to salaried professionals and businessmen.\n",
    "The data science team is building an underwriting layer to determine the creditworthiness of MSMEs as well as individuals.\n",
    "\n",
    "#### Company deploys formal credit to salaried individuals and businesses 4 main financial instruments:\n",
    "\n",
    "- Personal Loan\n",
    "- EMI Free Loan\n",
    "- Personal Overdraft\n",
    "- Advance Salary Loan\n",
    "\n",
    "### This case study will focus on the underwriting process behind Personal Loan only\n",
    "\n",
    "# Problem Statement:\n",
    "\n",
    "Given a set of attributes for an Individual, determine if a credit line should be extended to them. If so, what should the repayment terms be in business recommendations?\n",
    "Tradeoff Questions:\n",
    "How can we make sure that our model can detect real defaulters and there are less false positives? This is important as we can lose out on an opportunity to finance more individuals and earn interest on it.\n",
    "\n",
    "Since NPA (non-performing asset) is a real problem in this industry, it’s important we play safe and shouldn’t disburse loans to anyone\n",
    "\n",
    "### Data dictionary:\n",
    "- loan_amnt : The listed amount of the loan applied for by the borrower. If at some point in time, the credit department reduces the loan amount, then it will be reflected in this value.\n",
    "- term : The number of payments on the loan. Values are in months and can be either 36 or 60.\n",
    "- int_rate : Interest Rate on the loan\n",
    "- installment : The monthly payment owed by the borrower if the loan originates.\n",
    "- grade : Institution assigned loan grade\n",
    "- sub_grade : Institution assigned loan subgrade\n",
    "- emp_title :The job title supplied by the Borrower when applying for the loan.*\n",
    "- emp_length : Employment length in years. Possible values are between 0 and 10 where 0 means less than one year and 10 means ten or more years.\n",
    "- home_ownership : The home ownership status provided by the borrower during registration or obtained from the credit report.\n",
    "- annual_inc : The self-reported annual income provided by the borrower during registration.\n",
    "- verification_status : Indicates if income was verified by Institution, not verified, or if the income source was verified\n",
    "- issue_d : The month which the loan was funded\n",
    "- loan_status : Current status of the loan - Target Variable\n",
    "- purpose : A category provided by the borrower for the loan request.\n",
    "- title : The loan title provided by the borrower\n",
    "- dti : A ratio calculated using the borrower’s total monthly debt payments on the total debt obligations, excluding mortgage and the requested Institution loan, divided by the borrower’s self-reported monthly income.\n",
    "- earliest_cr_line :The month the borrower's earliest reported credit line was opened\n",
    "- open_acc : The number of open credit lines in the borrower's credit file.\n",
    "- pub_rec : Number of derogatory public records\n",
    "- revol_bal : Total credit revolving balance\n",
    "- revol_util : Revolving line utilization rate, or the amount of credit the borrower is using relative to all available revolving credit.\n",
    "- total_acc : The total number of credit lines currently in the borrower's credit file\n",
    "- initial_list_status : The initial listing status of the loan. Possible values are – W, F\n",
    "- application_type : Indicates whether the loan is an individual application or a joint application with two co-borrowers\n",
    "- mort_acc : Number of mortgage accounts.\n",
    "- pub_rec_bankruptcies : Number of public record bankruptcies\n",
    "- Address: Address of the individual"
   ]
  },
  {
   "cell_type": "code",
   "execution_count": 3,
   "metadata": {
    "execution": {
     "iopub.execute_input": "2023-06-07T14:19:40.637229Z",
     "iopub.status.busy": "2023-06-07T14:19:40.636574Z",
     "iopub.status.idle": "2023-06-07T14:19:43.534812Z",
     "shell.execute_reply": "2023-06-07T14:19:43.533244Z",
     "shell.execute_reply.started": "2023-06-07T14:19:40.637198Z"
    }
   },
   "outputs": [],
   "source": [
    "import pandas as pd\n",
    "import numpy as np\n",
    "import seaborn as sns\n",
    "from scipy import stats \n",
    "import matplotlib.pyplot as plt\n",
    "from sklearn.linear_model import LogisticRegression\n",
    "from sklearn import metrics\n",
    "from sklearn.metrics import confusion_matrix\n",
    "from sklearn.metrics import classification_report\n",
    "from sklearn.metrics import roc_auc_score\n",
    "from sklearn.metrics import roc_curve\n",
    "from sklearn.metrics import precision_recall_curve\n",
    "from sklearn.model_selection import train_test_split, KFold, cross_val_score\n",
    "from sklearn.preprocessing import MinMaxScaler\n",
    "from sklearn.metrics import accuracy_score, auc, ConfusionMatrixDisplay, RocCurveDisplay\n",
    "from statsmodels.stats.outliers_influence import variance_inflation_factor\n",
    "from imblearn.over_sampling import SMOTE"
   ]
  },
  {
   "cell_type": "code",
   "execution_count": 89,
   "metadata": {
    "execution": {
     "iopub.execute_input": "2023-06-07T14:19:43.537396Z",
     "iopub.status.busy": "2023-06-07T14:19:43.537008Z",
     "iopub.status.idle": "2023-06-07T14:19:48.177106Z",
     "shell.execute_reply": "2023-06-07T14:19:48.175930Z",
     "shell.execute_reply.started": "2023-06-07T14:19:43.537364Z"
    }
   },
   "outputs": [
    {
     "data": {
      "text/html": [
       "<div>\n",
       "<style scoped>\n",
       "    .dataframe tbody tr th:only-of-type {\n",
       "        vertical-align: middle;\n",
       "    }\n",
       "\n",
       "    .dataframe tbody tr th {\n",
       "        vertical-align: top;\n",
       "    }\n",
       "\n",
       "    .dataframe thead th {\n",
       "        text-align: right;\n",
       "    }\n",
       "</style>\n",
       "<table border=\"1\" class=\"dataframe\">\n",
       "  <thead>\n",
       "    <tr style=\"text-align: right;\">\n",
       "      <th></th>\n",
       "      <th>loan_amnt</th>\n",
       "      <th>term</th>\n",
       "      <th>int_rate</th>\n",
       "      <th>installment</th>\n",
       "      <th>grade</th>\n",
       "      <th>sub_grade</th>\n",
       "      <th>emp_title</th>\n",
       "      <th>emp_length</th>\n",
       "      <th>home_ownership</th>\n",
       "      <th>annual_inc</th>\n",
       "      <th>verification_status</th>\n",
       "      <th>issue_d</th>\n",
       "      <th>loan_status</th>\n",
       "      <th>purpose</th>\n",
       "      <th>title</th>\n",
       "      <th>dti</th>\n",
       "      <th>earliest_cr_line</th>\n",
       "      <th>open_acc</th>\n",
       "      <th>pub_rec</th>\n",
       "      <th>revol_bal</th>\n",
       "      <th>revol_util</th>\n",
       "      <th>total_acc</th>\n",
       "      <th>initial_list_status</th>\n",
       "      <th>application_type</th>\n",
       "      <th>mort_acc</th>\n",
       "      <th>pub_rec_bankruptcies</th>\n",
       "      <th>address</th>\n",
       "    </tr>\n",
       "  </thead>\n",
       "  <tbody>\n",
       "    <tr>\n",
       "      <th>0</th>\n",
       "      <td>10000.0</td>\n",
       "      <td>36 months</td>\n",
       "      <td>11.44</td>\n",
       "      <td>329.48</td>\n",
       "      <td>B</td>\n",
       "      <td>B4</td>\n",
       "      <td>Marketing</td>\n",
       "      <td>10+ years</td>\n",
       "      <td>RENT</td>\n",
       "      <td>117000.0</td>\n",
       "      <td>Not Verified</td>\n",
       "      <td>Jan-2015</td>\n",
       "      <td>Fully Paid</td>\n",
       "      <td>vacation</td>\n",
       "      <td>Vacation</td>\n",
       "      <td>26.24</td>\n",
       "      <td>Jun-1990</td>\n",
       "      <td>16.0</td>\n",
       "      <td>0.0</td>\n",
       "      <td>36369.0</td>\n",
       "      <td>41.8</td>\n",
       "      <td>25.0</td>\n",
       "      <td>w</td>\n",
       "      <td>INDIVIDUAL</td>\n",
       "      <td>0.0</td>\n",
       "      <td>0.0</td>\n",
       "      <td>0174 Michelle Gateway\\r\\nMendozaberg, OK 22690</td>\n",
       "    </tr>\n",
       "    <tr>\n",
       "      <th>1</th>\n",
       "      <td>8000.0</td>\n",
       "      <td>36 months</td>\n",
       "      <td>11.99</td>\n",
       "      <td>265.68</td>\n",
       "      <td>B</td>\n",
       "      <td>B5</td>\n",
       "      <td>Credit analyst</td>\n",
       "      <td>4 years</td>\n",
       "      <td>MORTGAGE</td>\n",
       "      <td>65000.0</td>\n",
       "      <td>Not Verified</td>\n",
       "      <td>Jan-2015</td>\n",
       "      <td>Fully Paid</td>\n",
       "      <td>debt_consolidation</td>\n",
       "      <td>Debt consolidation</td>\n",
       "      <td>22.05</td>\n",
       "      <td>Jul-2004</td>\n",
       "      <td>17.0</td>\n",
       "      <td>0.0</td>\n",
       "      <td>20131.0</td>\n",
       "      <td>53.3</td>\n",
       "      <td>27.0</td>\n",
       "      <td>f</td>\n",
       "      <td>INDIVIDUAL</td>\n",
       "      <td>3.0</td>\n",
       "      <td>0.0</td>\n",
       "      <td>1076 Carney Fort Apt. 347\\r\\nLoganmouth, SD 05113</td>\n",
       "    </tr>\n",
       "    <tr>\n",
       "      <th>2</th>\n",
       "      <td>15600.0</td>\n",
       "      <td>36 months</td>\n",
       "      <td>10.49</td>\n",
       "      <td>506.97</td>\n",
       "      <td>B</td>\n",
       "      <td>B3</td>\n",
       "      <td>Statistician</td>\n",
       "      <td>&lt; 1 year</td>\n",
       "      <td>RENT</td>\n",
       "      <td>43057.0</td>\n",
       "      <td>Source Verified</td>\n",
       "      <td>Jan-2015</td>\n",
       "      <td>Fully Paid</td>\n",
       "      <td>credit_card</td>\n",
       "      <td>Credit card refinancing</td>\n",
       "      <td>12.79</td>\n",
       "      <td>Aug-2007</td>\n",
       "      <td>13.0</td>\n",
       "      <td>0.0</td>\n",
       "      <td>11987.0</td>\n",
       "      <td>92.2</td>\n",
       "      <td>26.0</td>\n",
       "      <td>f</td>\n",
       "      <td>INDIVIDUAL</td>\n",
       "      <td>0.0</td>\n",
       "      <td>0.0</td>\n",
       "      <td>87025 Mark Dale Apt. 269\\r\\nNew Sabrina, WV 05113</td>\n",
       "    </tr>\n",
       "    <tr>\n",
       "      <th>3</th>\n",
       "      <td>7200.0</td>\n",
       "      <td>36 months</td>\n",
       "      <td>6.49</td>\n",
       "      <td>220.65</td>\n",
       "      <td>A</td>\n",
       "      <td>A2</td>\n",
       "      <td>Client Advocate</td>\n",
       "      <td>6 years</td>\n",
       "      <td>RENT</td>\n",
       "      <td>54000.0</td>\n",
       "      <td>Not Verified</td>\n",
       "      <td>Nov-2014</td>\n",
       "      <td>Fully Paid</td>\n",
       "      <td>credit_card</td>\n",
       "      <td>Credit card refinancing</td>\n",
       "      <td>2.60</td>\n",
       "      <td>Sep-2006</td>\n",
       "      <td>6.0</td>\n",
       "      <td>0.0</td>\n",
       "      <td>5472.0</td>\n",
       "      <td>21.5</td>\n",
       "      <td>13.0</td>\n",
       "      <td>f</td>\n",
       "      <td>INDIVIDUAL</td>\n",
       "      <td>0.0</td>\n",
       "      <td>0.0</td>\n",
       "      <td>823 Reid Ford\\r\\nDelacruzside, MA 00813</td>\n",
       "    </tr>\n",
       "    <tr>\n",
       "      <th>4</th>\n",
       "      <td>24375.0</td>\n",
       "      <td>60 months</td>\n",
       "      <td>17.27</td>\n",
       "      <td>609.33</td>\n",
       "      <td>C</td>\n",
       "      <td>C5</td>\n",
       "      <td>Destiny Management Inc.</td>\n",
       "      <td>9 years</td>\n",
       "      <td>MORTGAGE</td>\n",
       "      <td>55000.0</td>\n",
       "      <td>Verified</td>\n",
       "      <td>Apr-2013</td>\n",
       "      <td>Charged Off</td>\n",
       "      <td>credit_card</td>\n",
       "      <td>Credit Card Refinance</td>\n",
       "      <td>33.95</td>\n",
       "      <td>Mar-1999</td>\n",
       "      <td>13.0</td>\n",
       "      <td>0.0</td>\n",
       "      <td>24584.0</td>\n",
       "      <td>69.8</td>\n",
       "      <td>43.0</td>\n",
       "      <td>f</td>\n",
       "      <td>INDIVIDUAL</td>\n",
       "      <td>1.0</td>\n",
       "      <td>0.0</td>\n",
       "      <td>679 Luna Roads\\r\\nGreggshire, VA 11650</td>\n",
       "    </tr>\n",
       "  </tbody>\n",
       "</table>\n",
       "</div>"
      ],
      "text/plain": [
       "   loan_amnt        term  int_rate  installment grade sub_grade  \\\n",
       "0    10000.0   36 months     11.44       329.48     B        B4   \n",
       "1     8000.0   36 months     11.99       265.68     B        B5   \n",
       "2    15600.0   36 months     10.49       506.97     B        B3   \n",
       "3     7200.0   36 months      6.49       220.65     A        A2   \n",
       "4    24375.0   60 months     17.27       609.33     C        C5   \n",
       "\n",
       "                 emp_title emp_length home_ownership  annual_inc  \\\n",
       "0                Marketing  10+ years           RENT    117000.0   \n",
       "1          Credit analyst     4 years       MORTGAGE     65000.0   \n",
       "2             Statistician   < 1 year           RENT     43057.0   \n",
       "3          Client Advocate    6 years           RENT     54000.0   \n",
       "4  Destiny Management Inc.    9 years       MORTGAGE     55000.0   \n",
       "\n",
       "  verification_status   issue_d  loan_status             purpose  \\\n",
       "0        Not Verified  Jan-2015   Fully Paid            vacation   \n",
       "1        Not Verified  Jan-2015   Fully Paid  debt_consolidation   \n",
       "2     Source Verified  Jan-2015   Fully Paid         credit_card   \n",
       "3        Not Verified  Nov-2014   Fully Paid         credit_card   \n",
       "4            Verified  Apr-2013  Charged Off         credit_card   \n",
       "\n",
       "                     title    dti earliest_cr_line  open_acc  pub_rec  \\\n",
       "0                 Vacation  26.24         Jun-1990      16.0      0.0   \n",
       "1       Debt consolidation  22.05         Jul-2004      17.0      0.0   \n",
       "2  Credit card refinancing  12.79         Aug-2007      13.0      0.0   \n",
       "3  Credit card refinancing   2.60         Sep-2006       6.0      0.0   \n",
       "4    Credit Card Refinance  33.95         Mar-1999      13.0      0.0   \n",
       "\n",
       "   revol_bal  revol_util  total_acc initial_list_status application_type  \\\n",
       "0    36369.0        41.8       25.0                   w       INDIVIDUAL   \n",
       "1    20131.0        53.3       27.0                   f       INDIVIDUAL   \n",
       "2    11987.0        92.2       26.0                   f       INDIVIDUAL   \n",
       "3     5472.0        21.5       13.0                   f       INDIVIDUAL   \n",
       "4    24584.0        69.8       43.0                   f       INDIVIDUAL   \n",
       "\n",
       "   mort_acc  pub_rec_bankruptcies  \\\n",
       "0       0.0                   0.0   \n",
       "1       3.0                   0.0   \n",
       "2       0.0                   0.0   \n",
       "3       0.0                   0.0   \n",
       "4       1.0                   0.0   \n",
       "\n",
       "                                             address  \n",
       "0     0174 Michelle Gateway\\r\\nMendozaberg, OK 22690  \n",
       "1  1076 Carney Fort Apt. 347\\r\\nLoganmouth, SD 05113  \n",
       "2  87025 Mark Dale Apt. 269\\r\\nNew Sabrina, WV 05113  \n",
       "3            823 Reid Ford\\r\\nDelacruzside, MA 00813  \n",
       "4             679 Luna Roads\\r\\nGreggshire, VA 11650  "
      ]
     },
     "execution_count": 89,
     "metadata": {},
     "output_type": "execute_result"
    }
   ],
   "source": [
    "# Reading the data\n",
    "data=pd.read_csv('loan.csv')\n",
    "data.head()"
   ]
  },
  {
   "cell_type": "code",
   "execution_count": 14,
   "metadata": {
    "execution": {
     "iopub.execute_input": "2023-06-07T14:19:48.181728Z",
     "iopub.status.busy": "2023-06-07T14:19:48.180711Z",
     "iopub.status.idle": "2023-06-07T14:19:48.188243Z",
     "shell.execute_reply": "2023-06-07T14:19:48.186751Z",
     "shell.execute_reply.started": "2023-06-07T14:19:48.181642Z"
    }
   },
   "outputs": [
    {
     "name": "stdout",
     "output_type": "stream",
     "text": [
      "No. of rows :  396030\n",
      "No. of columns :  27\n"
     ]
    }
   ],
   "source": [
    "# Shape of the dataset\n",
    "print(\"No. of rows : \",data.shape[0])\n",
    "print(\"No. of columns : \",data.shape[1])"
   ]
  },
  {
   "cell_type": "code",
   "execution_count": 6,
   "metadata": {
    "execution": {
     "iopub.execute_input": "2023-06-07T14:19:48.192207Z",
     "iopub.status.busy": "2023-06-07T14:19:48.191740Z",
     "iopub.status.idle": "2023-06-07T14:19:48.297561Z",
     "shell.execute_reply": "2023-06-07T14:19:48.296282Z",
     "shell.execute_reply.started": "2023-06-07T14:19:48.192166Z"
    }
   },
   "outputs": [
    {
     "data": {
      "text/plain": [
       "Fully Paid     80.387092\n",
       "Charged Off    19.612908\n",
       "Name: loan_status, dtype: float64"
      ]
     },
     "execution_count": 6,
     "metadata": {},
     "output_type": "execute_result"
    }
   ],
   "source": [
    "# Checking the distribution of the outcome labels\n",
    "data.loan_status.value_counts(normalize=True)*100"
   ]
  },
  {
   "cell_type": "code",
   "execution_count": 7,
   "metadata": {
    "execution": {
     "iopub.execute_input": "2023-06-07T14:19:48.299487Z",
     "iopub.status.busy": "2023-06-07T14:19:48.299153Z",
     "iopub.status.idle": "2023-06-07T14:19:50.916113Z",
     "shell.execute_reply": "2023-06-07T14:19:50.914708Z",
     "shell.execute_reply.started": "2023-06-07T14:19:48.299458Z"
    }
   },
   "outputs": [
    {
     "data": {
      "text/html": [
       "<div>\n",
       "<style scoped>\n",
       "    .dataframe tbody tr th:only-of-type {\n",
       "        vertical-align: middle;\n",
       "    }\n",
       "\n",
       "    .dataframe tbody tr th {\n",
       "        vertical-align: top;\n",
       "    }\n",
       "\n",
       "    .dataframe thead th {\n",
       "        text-align: right;\n",
       "    }\n",
       "</style>\n",
       "<table border=\"1\" class=\"dataframe\">\n",
       "  <thead>\n",
       "    <tr style=\"text-align: right;\">\n",
       "      <th></th>\n",
       "      <th>loan_amnt</th>\n",
       "      <th>term</th>\n",
       "      <th>int_rate</th>\n",
       "      <th>installment</th>\n",
       "      <th>grade</th>\n",
       "      <th>sub_grade</th>\n",
       "      <th>emp_title</th>\n",
       "      <th>emp_length</th>\n",
       "      <th>home_ownership</th>\n",
       "      <th>annual_inc</th>\n",
       "      <th>...</th>\n",
       "      <th>open_acc</th>\n",
       "      <th>pub_rec</th>\n",
       "      <th>revol_bal</th>\n",
       "      <th>revol_util</th>\n",
       "      <th>total_acc</th>\n",
       "      <th>initial_list_status</th>\n",
       "      <th>application_type</th>\n",
       "      <th>mort_acc</th>\n",
       "      <th>pub_rec_bankruptcies</th>\n",
       "      <th>address</th>\n",
       "    </tr>\n",
       "  </thead>\n",
       "  <tbody>\n",
       "    <tr>\n",
       "      <th>count</th>\n",
       "      <td>396030.000000</td>\n",
       "      <td>396030</td>\n",
       "      <td>396030.000000</td>\n",
       "      <td>396030.000000</td>\n",
       "      <td>396030</td>\n",
       "      <td>396030</td>\n",
       "      <td>373103</td>\n",
       "      <td>377729</td>\n",
       "      <td>396030</td>\n",
       "      <td>3.960300e+05</td>\n",
       "      <td>...</td>\n",
       "      <td>396030.000000</td>\n",
       "      <td>396030.000000</td>\n",
       "      <td>3.960300e+05</td>\n",
       "      <td>395754.000000</td>\n",
       "      <td>396030.000000</td>\n",
       "      <td>396030</td>\n",
       "      <td>396030</td>\n",
       "      <td>358235.000000</td>\n",
       "      <td>395495.000000</td>\n",
       "      <td>396030</td>\n",
       "    </tr>\n",
       "    <tr>\n",
       "      <th>unique</th>\n",
       "      <td>NaN</td>\n",
       "      <td>2</td>\n",
       "      <td>NaN</td>\n",
       "      <td>NaN</td>\n",
       "      <td>7</td>\n",
       "      <td>35</td>\n",
       "      <td>173105</td>\n",
       "      <td>11</td>\n",
       "      <td>6</td>\n",
       "      <td>NaN</td>\n",
       "      <td>...</td>\n",
       "      <td>NaN</td>\n",
       "      <td>NaN</td>\n",
       "      <td>NaN</td>\n",
       "      <td>NaN</td>\n",
       "      <td>NaN</td>\n",
       "      <td>2</td>\n",
       "      <td>3</td>\n",
       "      <td>NaN</td>\n",
       "      <td>NaN</td>\n",
       "      <td>393700</td>\n",
       "    </tr>\n",
       "    <tr>\n",
       "      <th>top</th>\n",
       "      <td>NaN</td>\n",
       "      <td>36 months</td>\n",
       "      <td>NaN</td>\n",
       "      <td>NaN</td>\n",
       "      <td>B</td>\n",
       "      <td>B3</td>\n",
       "      <td>Teacher</td>\n",
       "      <td>10+ years</td>\n",
       "      <td>MORTGAGE</td>\n",
       "      <td>NaN</td>\n",
       "      <td>...</td>\n",
       "      <td>NaN</td>\n",
       "      <td>NaN</td>\n",
       "      <td>NaN</td>\n",
       "      <td>NaN</td>\n",
       "      <td>NaN</td>\n",
       "      <td>f</td>\n",
       "      <td>INDIVIDUAL</td>\n",
       "      <td>NaN</td>\n",
       "      <td>NaN</td>\n",
       "      <td>USCGC Smith\\r\\nFPO AE 70466</td>\n",
       "    </tr>\n",
       "    <tr>\n",
       "      <th>freq</th>\n",
       "      <td>NaN</td>\n",
       "      <td>302005</td>\n",
       "      <td>NaN</td>\n",
       "      <td>NaN</td>\n",
       "      <td>116018</td>\n",
       "      <td>26655</td>\n",
       "      <td>4389</td>\n",
       "      <td>126041</td>\n",
       "      <td>198348</td>\n",
       "      <td>NaN</td>\n",
       "      <td>...</td>\n",
       "      <td>NaN</td>\n",
       "      <td>NaN</td>\n",
       "      <td>NaN</td>\n",
       "      <td>NaN</td>\n",
       "      <td>NaN</td>\n",
       "      <td>238066</td>\n",
       "      <td>395319</td>\n",
       "      <td>NaN</td>\n",
       "      <td>NaN</td>\n",
       "      <td>8</td>\n",
       "    </tr>\n",
       "    <tr>\n",
       "      <th>mean</th>\n",
       "      <td>14113.888089</td>\n",
       "      <td>NaN</td>\n",
       "      <td>13.639400</td>\n",
       "      <td>431.849698</td>\n",
       "      <td>NaN</td>\n",
       "      <td>NaN</td>\n",
       "      <td>NaN</td>\n",
       "      <td>NaN</td>\n",
       "      <td>NaN</td>\n",
       "      <td>7.420318e+04</td>\n",
       "      <td>...</td>\n",
       "      <td>11.311153</td>\n",
       "      <td>0.178191</td>\n",
       "      <td>1.584454e+04</td>\n",
       "      <td>53.791749</td>\n",
       "      <td>25.414744</td>\n",
       "      <td>NaN</td>\n",
       "      <td>NaN</td>\n",
       "      <td>1.813991</td>\n",
       "      <td>0.121648</td>\n",
       "      <td>NaN</td>\n",
       "    </tr>\n",
       "    <tr>\n",
       "      <th>std</th>\n",
       "      <td>8357.441341</td>\n",
       "      <td>NaN</td>\n",
       "      <td>4.472157</td>\n",
       "      <td>250.727790</td>\n",
       "      <td>NaN</td>\n",
       "      <td>NaN</td>\n",
       "      <td>NaN</td>\n",
       "      <td>NaN</td>\n",
       "      <td>NaN</td>\n",
       "      <td>6.163762e+04</td>\n",
       "      <td>...</td>\n",
       "      <td>5.137649</td>\n",
       "      <td>0.530671</td>\n",
       "      <td>2.059184e+04</td>\n",
       "      <td>24.452193</td>\n",
       "      <td>11.886991</td>\n",
       "      <td>NaN</td>\n",
       "      <td>NaN</td>\n",
       "      <td>2.147930</td>\n",
       "      <td>0.356174</td>\n",
       "      <td>NaN</td>\n",
       "    </tr>\n",
       "    <tr>\n",
       "      <th>min</th>\n",
       "      <td>500.000000</td>\n",
       "      <td>NaN</td>\n",
       "      <td>5.320000</td>\n",
       "      <td>16.080000</td>\n",
       "      <td>NaN</td>\n",
       "      <td>NaN</td>\n",
       "      <td>NaN</td>\n",
       "      <td>NaN</td>\n",
       "      <td>NaN</td>\n",
       "      <td>0.000000e+00</td>\n",
       "      <td>...</td>\n",
       "      <td>0.000000</td>\n",
       "      <td>0.000000</td>\n",
       "      <td>0.000000e+00</td>\n",
       "      <td>0.000000</td>\n",
       "      <td>2.000000</td>\n",
       "      <td>NaN</td>\n",
       "      <td>NaN</td>\n",
       "      <td>0.000000</td>\n",
       "      <td>0.000000</td>\n",
       "      <td>NaN</td>\n",
       "    </tr>\n",
       "    <tr>\n",
       "      <th>25%</th>\n",
       "      <td>8000.000000</td>\n",
       "      <td>NaN</td>\n",
       "      <td>10.490000</td>\n",
       "      <td>250.330000</td>\n",
       "      <td>NaN</td>\n",
       "      <td>NaN</td>\n",
       "      <td>NaN</td>\n",
       "      <td>NaN</td>\n",
       "      <td>NaN</td>\n",
       "      <td>4.500000e+04</td>\n",
       "      <td>...</td>\n",
       "      <td>8.000000</td>\n",
       "      <td>0.000000</td>\n",
       "      <td>6.025000e+03</td>\n",
       "      <td>35.800000</td>\n",
       "      <td>17.000000</td>\n",
       "      <td>NaN</td>\n",
       "      <td>NaN</td>\n",
       "      <td>0.000000</td>\n",
       "      <td>0.000000</td>\n",
       "      <td>NaN</td>\n",
       "    </tr>\n",
       "    <tr>\n",
       "      <th>50%</th>\n",
       "      <td>12000.000000</td>\n",
       "      <td>NaN</td>\n",
       "      <td>13.330000</td>\n",
       "      <td>375.430000</td>\n",
       "      <td>NaN</td>\n",
       "      <td>NaN</td>\n",
       "      <td>NaN</td>\n",
       "      <td>NaN</td>\n",
       "      <td>NaN</td>\n",
       "      <td>6.400000e+04</td>\n",
       "      <td>...</td>\n",
       "      <td>10.000000</td>\n",
       "      <td>0.000000</td>\n",
       "      <td>1.118100e+04</td>\n",
       "      <td>54.800000</td>\n",
       "      <td>24.000000</td>\n",
       "      <td>NaN</td>\n",
       "      <td>NaN</td>\n",
       "      <td>1.000000</td>\n",
       "      <td>0.000000</td>\n",
       "      <td>NaN</td>\n",
       "    </tr>\n",
       "    <tr>\n",
       "      <th>75%</th>\n",
       "      <td>20000.000000</td>\n",
       "      <td>NaN</td>\n",
       "      <td>16.490000</td>\n",
       "      <td>567.300000</td>\n",
       "      <td>NaN</td>\n",
       "      <td>NaN</td>\n",
       "      <td>NaN</td>\n",
       "      <td>NaN</td>\n",
       "      <td>NaN</td>\n",
       "      <td>9.000000e+04</td>\n",
       "      <td>...</td>\n",
       "      <td>14.000000</td>\n",
       "      <td>0.000000</td>\n",
       "      <td>1.962000e+04</td>\n",
       "      <td>72.900000</td>\n",
       "      <td>32.000000</td>\n",
       "      <td>NaN</td>\n",
       "      <td>NaN</td>\n",
       "      <td>3.000000</td>\n",
       "      <td>0.000000</td>\n",
       "      <td>NaN</td>\n",
       "    </tr>\n",
       "    <tr>\n",
       "      <th>max</th>\n",
       "      <td>40000.000000</td>\n",
       "      <td>NaN</td>\n",
       "      <td>30.990000</td>\n",
       "      <td>1533.810000</td>\n",
       "      <td>NaN</td>\n",
       "      <td>NaN</td>\n",
       "      <td>NaN</td>\n",
       "      <td>NaN</td>\n",
       "      <td>NaN</td>\n",
       "      <td>8.706582e+06</td>\n",
       "      <td>...</td>\n",
       "      <td>90.000000</td>\n",
       "      <td>86.000000</td>\n",
       "      <td>1.743266e+06</td>\n",
       "      <td>892.300000</td>\n",
       "      <td>151.000000</td>\n",
       "      <td>NaN</td>\n",
       "      <td>NaN</td>\n",
       "      <td>34.000000</td>\n",
       "      <td>8.000000</td>\n",
       "      <td>NaN</td>\n",
       "    </tr>\n",
       "  </tbody>\n",
       "</table>\n",
       "<p>11 rows × 27 columns</p>\n",
       "</div>"
      ],
      "text/plain": [
       "            loan_amnt        term       int_rate    installment   grade  \\\n",
       "count   396030.000000      396030  396030.000000  396030.000000  396030   \n",
       "unique            NaN           2            NaN            NaN       7   \n",
       "top               NaN   36 months            NaN            NaN       B   \n",
       "freq              NaN      302005            NaN            NaN  116018   \n",
       "mean     14113.888089         NaN      13.639400     431.849698     NaN   \n",
       "std       8357.441341         NaN       4.472157     250.727790     NaN   \n",
       "min        500.000000         NaN       5.320000      16.080000     NaN   \n",
       "25%       8000.000000         NaN      10.490000     250.330000     NaN   \n",
       "50%      12000.000000         NaN      13.330000     375.430000     NaN   \n",
       "75%      20000.000000         NaN      16.490000     567.300000     NaN   \n",
       "max      40000.000000         NaN      30.990000    1533.810000     NaN   \n",
       "\n",
       "       sub_grade emp_title emp_length home_ownership    annual_inc  ...  \\\n",
       "count     396030    373103     377729         396030  3.960300e+05  ...   \n",
       "unique        35    173105         11              6           NaN  ...   \n",
       "top           B3   Teacher  10+ years       MORTGAGE           NaN  ...   \n",
       "freq       26655      4389     126041         198348           NaN  ...   \n",
       "mean         NaN       NaN        NaN            NaN  7.420318e+04  ...   \n",
       "std          NaN       NaN        NaN            NaN  6.163762e+04  ...   \n",
       "min          NaN       NaN        NaN            NaN  0.000000e+00  ...   \n",
       "25%          NaN       NaN        NaN            NaN  4.500000e+04  ...   \n",
       "50%          NaN       NaN        NaN            NaN  6.400000e+04  ...   \n",
       "75%          NaN       NaN        NaN            NaN  9.000000e+04  ...   \n",
       "max          NaN       NaN        NaN            NaN  8.706582e+06  ...   \n",
       "\n",
       "             open_acc        pub_rec     revol_bal     revol_util  \\\n",
       "count   396030.000000  396030.000000  3.960300e+05  395754.000000   \n",
       "unique            NaN            NaN           NaN            NaN   \n",
       "top               NaN            NaN           NaN            NaN   \n",
       "freq              NaN            NaN           NaN            NaN   \n",
       "mean        11.311153       0.178191  1.584454e+04      53.791749   \n",
       "std          5.137649       0.530671  2.059184e+04      24.452193   \n",
       "min          0.000000       0.000000  0.000000e+00       0.000000   \n",
       "25%          8.000000       0.000000  6.025000e+03      35.800000   \n",
       "50%         10.000000       0.000000  1.118100e+04      54.800000   \n",
       "75%         14.000000       0.000000  1.962000e+04      72.900000   \n",
       "max         90.000000      86.000000  1.743266e+06     892.300000   \n",
       "\n",
       "            total_acc  initial_list_status application_type       mort_acc  \\\n",
       "count   396030.000000               396030           396030  358235.000000   \n",
       "unique            NaN                    2                3            NaN   \n",
       "top               NaN                    f       INDIVIDUAL            NaN   \n",
       "freq              NaN               238066           395319            NaN   \n",
       "mean        25.414744                  NaN              NaN       1.813991   \n",
       "std         11.886991                  NaN              NaN       2.147930   \n",
       "min          2.000000                  NaN              NaN       0.000000   \n",
       "25%         17.000000                  NaN              NaN       0.000000   \n",
       "50%         24.000000                  NaN              NaN       1.000000   \n",
       "75%         32.000000                  NaN              NaN       3.000000   \n",
       "max        151.000000                  NaN              NaN      34.000000   \n",
       "\n",
       "        pub_rec_bankruptcies                      address  \n",
       "count          395495.000000                       396030  \n",
       "unique                   NaN                       393700  \n",
       "top                      NaN  USCGC Smith\\r\\nFPO AE 70466  \n",
       "freq                     NaN                            8  \n",
       "mean                0.121648                          NaN  \n",
       "std                 0.356174                          NaN  \n",
       "min                 0.000000                          NaN  \n",
       "25%                 0.000000                          NaN  \n",
       "50%                 0.000000                          NaN  \n",
       "75%                 0.000000                          NaN  \n",
       "max                 8.000000                          NaN  \n",
       "\n",
       "[11 rows x 27 columns]"
      ]
     },
     "execution_count": 7,
     "metadata": {},
     "output_type": "execute_result"
    }
   ],
   "source": [
    "# Statistical summary of the dataset\n",
    "data.describe(include='all')"
   ]
  },
  {
   "cell_type": "code",
   "execution_count": 8,
   "metadata": {
    "execution": {
     "iopub.execute_input": "2023-06-07T14:19:50.918309Z",
     "iopub.status.busy": "2023-06-07T14:19:50.917839Z",
     "iopub.status.idle": "2023-06-07T14:19:52.826025Z",
     "shell.execute_reply": "2023-06-07T14:19:52.824691Z",
     "shell.execute_reply.started": "2023-06-07T14:19:50.918265Z"
    }
   },
   "outputs": [
    {
     "name": "stdout",
     "output_type": "stream",
     "text": [
      "<class 'pandas.core.frame.DataFrame'>\n",
      "RangeIndex: 396030 entries, 0 to 396029\n",
      "Data columns (total 27 columns):\n",
      " #   Column                Non-Null Count   Dtype  \n",
      "---  ------                --------------   -----  \n",
      " 0   loan_amnt             396030 non-null  float64\n",
      " 1   term                  396030 non-null  object \n",
      " 2   int_rate              396030 non-null  float64\n",
      " 3   installment           396030 non-null  float64\n",
      " 4   grade                 396030 non-null  object \n",
      " 5   sub_grade             396030 non-null  object \n",
      " 6   emp_title             373103 non-null  object \n",
      " 7   emp_length            377729 non-null  object \n",
      " 8   home_ownership        396030 non-null  object \n",
      " 9   annual_inc            396030 non-null  float64\n",
      " 10  verification_status   396030 non-null  object \n",
      " 11  issue_d               396030 non-null  object \n",
      " 12  loan_status           396030 non-null  object \n",
      " 13  purpose               396030 non-null  object \n",
      " 14  title                 394275 non-null  object \n",
      " 15  dti                   396030 non-null  float64\n",
      " 16  earliest_cr_line      396030 non-null  object \n",
      " 17  open_acc              396030 non-null  float64\n",
      " 18  pub_rec               396030 non-null  float64\n",
      " 19  revol_bal             396030 non-null  float64\n",
      " 20  revol_util            395754 non-null  float64\n",
      " 21  total_acc             396030 non-null  float64\n",
      " 22  initial_list_status   396030 non-null  object \n",
      " 23  application_type      396030 non-null  object \n",
      " 24  mort_acc              358235 non-null  float64\n",
      " 25  pub_rec_bankruptcies  395495 non-null  float64\n",
      " 26  address               396030 non-null  object \n",
      "dtypes: float64(12), object(15)\n",
      "memory usage: 81.6+ MB\n"
     ]
    }
   ],
   "source": [
    "data.info()"
   ]
  },
  {
   "cell_type": "code",
   "execution_count": 78,
   "metadata": {},
   "outputs": [
    {
     "data": {
      "text/plain": [
       "loan_amnt                               1385\n",
       "term                                       2\n",
       "int_rate                                 502\n",
       "annual_inc                             22685\n",
       "loan_status                                2\n",
       "dti                                     4038\n",
       "open_acc                                  26\n",
       "pub_rec                                    2\n",
       "revol_bal                              48276\n",
       "revol_util                              1196\n",
       "total_acc                                 58\n",
       "initial_list_status                        2\n",
       "mort_acc                                   2\n",
       "pub_rec_bankruptcies                       2\n",
       "purpose_credit_card                        2\n",
       "purpose_debt_consolidation                 2\n",
       "purpose_educational                        2\n",
       "purpose_home_improvement                   2\n",
       "purpose_house                              2\n",
       "purpose_major_purchase                     2\n",
       "purpose_medical                            2\n",
       "purpose_moving                             2\n",
       "purpose_other                              2\n",
       "purpose_renewable_energy                   2\n",
       "purpose_small_business                     2\n",
       "purpose_vacation                           2\n",
       "purpose_wedding                            2\n",
       "zip_code_05113                             2\n",
       "zip_code_11650                             2\n",
       "zip_code_22690                             2\n",
       "zip_code_29597                             2\n",
       "zip_code_30723                             2\n",
       "zip_code_48052                             2\n",
       "zip_code_70466                             2\n",
       "zip_code_86630                             2\n",
       "zip_code_93700                             2\n",
       "grade_B                                    2\n",
       "grade_C                                    2\n",
       "grade_D                                    2\n",
       "grade_E                                    2\n",
       "grade_F                                    2\n",
       "grade_G                                    2\n",
       "verification_status_Source Verified        2\n",
       "verification_status_Verified               2\n",
       "application_type_INDIVIDUAL                2\n",
       "application_type_JOINT                     2\n",
       "home_ownership_OTHER                       2\n",
       "home_ownership_OWN                         2\n",
       "home_ownership_RENT                        2\n",
       "dtype: int64"
      ]
     },
     "execution_count": 78,
     "metadata": {},
     "output_type": "execute_result"
    }
   ],
   "source": [
    "data.nunique()"
   ]
  },
  {
   "cell_type": "code",
   "execution_count": 9,
   "metadata": {
    "execution": {
     "iopub.execute_input": "2023-06-07T14:19:52.828324Z",
     "iopub.status.busy": "2023-06-07T14:19:52.827848Z",
     "iopub.status.idle": "2023-06-07T14:19:56.995370Z",
     "shell.execute_reply": "2023-06-07T14:19:56.994490Z",
     "shell.execute_reply.started": "2023-06-07T14:19:52.828283Z"
    }
   },
   "outputs": [
    {
     "data": {
      "image/png": "[encoded data removed]",
      "text/plain": [
       "<Figure size 864x576 with 2 Axes>"
      ]
     },
     "metadata": {
      "needs_background": "light"
     },
     "output_type": "display_data"
    }
   ],
   "source": [
    "import warnings\n",
    "warnings.filterwarnings(\"ignore\")\n",
    "# Correlation Heatmap\n",
    "plt.figure(figsize=(12,8))\n",
    "sns.heatmap(data.corr(method='spearman'),annot=True,cmap='viridis')\n",
    "plt.show()"
   ]
  },
  {
   "cell_type": "markdown",
   "metadata": {},
   "source": [
    "We noticed almost perfect correlation between \"loan_amnt\" the \"installment\" feature. \n",
    "\n",
    "- installment: The monthly payment owed by the borrower if the loan originates.\n",
    "- loan_amnt: The listed amount of the loan applied for by the borrower. If at some point in time, the credit department reduces the loan amount, then it will be reflected in this value.\n",
    "\n",
    "So, we can drop either one of those columns."
   ]
  },
  {
   "cell_type": "code",
   "execution_count": 15,
   "metadata": {
    "execution": {
     "iopub.execute_input": "2023-06-07T14:19:56.997537Z",
     "iopub.status.busy": "2023-06-07T14:19:56.996908Z",
     "iopub.status.idle": "2023-06-07T14:19:57.134092Z",
     "shell.execute_reply": "2023-06-07T14:19:57.132871Z",
     "shell.execute_reply.started": "2023-06-07T14:19:56.997506Z"
    }
   },
   "outputs": [],
   "source": [
    "data.drop(columns=['installment'],axis=1,inplace=True)"
   ]
  },
  {
   "cell_type": "code",
   "execution_count": 16,
   "metadata": {
    "execution": {
     "iopub.execute_input": "2023-06-07T14:19:57.136090Z",
     "iopub.status.busy": "2023-06-07T14:19:57.135746Z",
     "iopub.status.idle": "2023-06-07T14:20:00.889516Z",
     "shell.execute_reply": "2023-06-07T14:20:00.888161Z",
     "shell.execute_reply.started": "2023-06-07T14:19:57.136061Z"
    }
   },
   "outputs": [
    {
     "data": {
      "image/png": "[encoded data removed]",
      "text/plain": [
       "<Figure size 864x576 with 2 Axes>"
      ]
     },
     "metadata": {
      "needs_background": "light"
     },
     "output_type": "display_data"
    }
   ],
   "source": [
    "plt.figure(figsize=(12, 8))\n",
    "sns.heatmap(data.corr(method='spearman'), annot=True, cmap='viridis')\n",
    "plt.show()"
   ]
  },
  {
   "cell_type": "markdown",
   "metadata": {},
   "source": [
    "## Data Exploration"
   ]
  },
  {
   "cell_type": "markdown",
   "metadata": {},
   "source": [
    "1. The no. of people who have paid fully and the no. of people who are charged off"
   ]
  },
  {
   "cell_type": "code",
   "execution_count": 17,
   "metadata": {
    "execution": {
     "iopub.execute_input": "2023-06-07T14:20:00.895877Z",
     "iopub.status.busy": "2023-06-07T14:20:00.895119Z",
     "iopub.status.idle": "2023-06-07T14:20:00.997635Z",
     "shell.execute_reply": "2023-06-07T14:20:00.996309Z",
     "shell.execute_reply.started": "2023-06-07T14:20:00.895835Z"
    }
   },
   "outputs": [
    {
     "data": {
      "text/html": [
       "<div>\n",
       "<style scoped>\n",
       "    .dataframe tbody tr th:only-of-type {\n",
       "        vertical-align: middle;\n",
       "    }\n",
       "\n",
       "    .dataframe tbody tr th {\n",
       "        vertical-align: top;\n",
       "    }\n",
       "\n",
       "    .dataframe thead th {\n",
       "        text-align: right;\n",
       "    }\n",
       "</style>\n",
       "<table border=\"1\" class=\"dataframe\">\n",
       "  <thead>\n",
       "    <tr style=\"text-align: right;\">\n",
       "      <th></th>\n",
       "      <th>count</th>\n",
       "      <th>mean</th>\n",
       "      <th>std</th>\n",
       "      <th>min</th>\n",
       "      <th>25%</th>\n",
       "      <th>50%</th>\n",
       "      <th>75%</th>\n",
       "      <th>max</th>\n",
       "    </tr>\n",
       "    <tr>\n",
       "      <th>loan_status</th>\n",
       "      <th></th>\n",
       "      <th></th>\n",
       "      <th></th>\n",
       "      <th></th>\n",
       "      <th></th>\n",
       "      <th></th>\n",
       "      <th></th>\n",
       "      <th></th>\n",
       "    </tr>\n",
       "  </thead>\n",
       "  <tbody>\n",
       "    <tr>\n",
       "      <th>Charged Off</th>\n",
       "      <td>77673.0</td>\n",
       "      <td>15126.300967</td>\n",
       "      <td>8505.090557</td>\n",
       "      <td>1000.0</td>\n",
       "      <td>8525.0</td>\n",
       "      <td>14000.0</td>\n",
       "      <td>20000.0</td>\n",
       "      <td>40000.0</td>\n",
       "    </tr>\n",
       "    <tr>\n",
       "      <th>Fully Paid</th>\n",
       "      <td>318357.0</td>\n",
       "      <td>13866.878771</td>\n",
       "      <td>8302.319699</td>\n",
       "      <td>500.0</td>\n",
       "      <td>7500.0</td>\n",
       "      <td>12000.0</td>\n",
       "      <td>19225.0</td>\n",
       "      <td>40000.0</td>\n",
       "    </tr>\n",
       "  </tbody>\n",
       "</table>\n",
       "</div>"
      ],
      "text/plain": [
       "                count          mean          std     min     25%      50%  \\\n",
       "loan_status                                                                 \n",
       "Charged Off   77673.0  15126.300967  8505.090557  1000.0  8525.0  14000.0   \n",
       "Fully Paid   318357.0  13866.878771  8302.319699   500.0  7500.0  12000.0   \n",
       "\n",
       "                 75%      max  \n",
       "loan_status                    \n",
       "Charged Off  20000.0  40000.0  \n",
       "Fully Paid   19225.0  40000.0  "
      ]
     },
     "execution_count": 17,
     "metadata": {},
     "output_type": "execute_result"
    }
   ],
   "source": [
    "data.groupby(by='loan_status')['loan_amnt'].describe()"
   ]
  },
  {
   "cell_type": "markdown",
   "metadata": {},
   "source": [
    "2. The majority of ownership as Mortgage and Rent"
   ]
  },
  {
   "cell_type": "code",
   "execution_count": 18,
   "metadata": {
    "execution": {
     "iopub.execute_input": "2023-06-07T14:20:01.000097Z",
     "iopub.status.busy": "2023-06-07T14:20:00.999472Z",
     "iopub.status.idle": "2023-06-07T14:20:01.087230Z",
     "shell.execute_reply": "2023-06-07T14:20:01.086133Z",
     "shell.execute_reply.started": "2023-06-07T14:20:01.000057Z"
    }
   },
   "outputs": [
    {
     "data": {
      "text/plain": [
       "MORTGAGE    198348\n",
       "RENT        159790\n",
       "OWN          37746\n",
       "OTHER          112\n",
       "NONE            31\n",
       "ANY              3\n",
       "Name: home_ownership, dtype: int64"
      ]
     },
     "execution_count": 18,
     "metadata": {},
     "output_type": "execute_result"
    }
   ],
   "source": [
    "data['home_ownership'].value_counts()"
   ]
  },
  {
   "cell_type": "markdown",
   "metadata": {},
   "source": [
    "3. Combining the minority classes as 'OTHERS'"
   ]
  },
  {
   "cell_type": "code",
   "execution_count": 19,
   "metadata": {
    "execution": {
     "iopub.execute_input": "2023-06-07T14:20:01.089506Z",
     "iopub.status.busy": "2023-06-07T14:20:01.088392Z",
     "iopub.status.idle": "2023-06-07T14:20:01.315583Z",
     "shell.execute_reply": "2023-06-07T14:20:01.314334Z",
     "shell.execute_reply.started": "2023-06-07T14:20:01.089462Z"
    }
   },
   "outputs": [
    {
     "data": {
      "text/plain": [
       "MORTGAGE    198348\n",
       "RENT        159790\n",
       "OWN          37746\n",
       "OTHER          146\n",
       "Name: home_ownership, dtype: int64"
      ]
     },
     "execution_count": 19,
     "metadata": {},
     "output_type": "execute_result"
    }
   ],
   "source": [
    "data.loc[(data.home_ownership == 'ANY') | (data.home_ownership == 'NONE'), 'home_ownership'] = 'OTHER'  \n",
    "data.home_ownership.value_counts()"
   ]
  },
  {
   "cell_type": "code",
   "execution_count": 20,
   "metadata": {
    "execution": {
     "iopub.execute_input": "2023-06-07T14:20:01.317801Z",
     "iopub.status.busy": "2023-06-07T14:20:01.317225Z",
     "iopub.status.idle": "2023-06-07T14:20:01.406012Z",
     "shell.execute_reply": "2023-06-07T14:20:01.404941Z",
     "shell.execute_reply.started": "2023-06-07T14:20:01.317762Z"
    }
   },
   "outputs": [
    {
     "data": {
      "text/plain": [
       "MORTGAGE    198348\n",
       "RENT        159790\n",
       "OWN          37746\n",
       "OTHER          146\n",
       "Name: home_ownership, dtype: int64"
      ]
     },
     "execution_count": 20,
     "metadata": {},
     "output_type": "execute_result"
    }
   ],
   "source": [
    "data['home_ownership'].value_counts()"
   ]
  },
  {
   "cell_type": "code",
   "execution_count": 21,
   "metadata": {
    "execution": {
     "iopub.execute_input": "2023-06-07T14:20:01.408624Z",
     "iopub.status.busy": "2023-06-07T14:20:01.408055Z",
     "iopub.status.idle": "2023-06-07T14:20:01.491272Z",
     "shell.execute_reply": "2023-06-07T14:20:01.490051Z",
     "shell.execute_reply.started": "2023-06-07T14:20:01.408584Z"
    }
   },
   "outputs": [
    {
     "data": {
      "text/plain": [
       "Fully Paid     123\n",
       "Charged Off     23\n",
       "Name: loan_status, dtype: int64"
      ]
     },
     "execution_count": 21,
     "metadata": {},
     "output_type": "execute_result"
    }
   ],
   "source": [
    "# Checking the distribution of 'Other'\n",
    "data.loc[data['home_ownership']=='OTHER','loan_status'].value_counts()"
   ]
  },
  {
   "cell_type": "markdown",
   "metadata": {},
   "source": [
    "4. Converting string to date-time format"
   ]
  },
  {
   "cell_type": "code",
   "execution_count": 22,
   "metadata": {
    "execution": {
     "iopub.execute_input": "2023-06-07T14:20:01.493342Z",
     "iopub.status.busy": "2023-06-07T14:20:01.492959Z",
     "iopub.status.idle": "2023-06-07T14:20:01.911549Z",
     "shell.execute_reply": "2023-06-07T14:20:01.910259Z",
     "shell.execute_reply.started": "2023-06-07T14:20:01.493310Z"
    }
   },
   "outputs": [],
   "source": [
    "data['issue_d']=pd.to_datetime(data['issue_d'])\n",
    "data['earliest_cr_line']=pd.to_datetime(data['earliest_cr_line'])"
   ]
  },
  {
   "cell_type": "markdown",
   "metadata": {},
   "source": [
    "5. Saw some issues in title(Looks like it was filled manually and needs some fixing)."
   ]
  },
  {
   "cell_type": "code",
   "execution_count": 23,
   "metadata": {
    "execution": {
     "iopub.execute_input": "2023-06-07T14:20:01.914251Z",
     "iopub.status.busy": "2023-06-07T14:20:01.913786Z",
     "iopub.status.idle": "2023-06-07T14:20:02.027314Z",
     "shell.execute_reply": "2023-06-07T14:20:02.025920Z",
     "shell.execute_reply.started": "2023-06-07T14:20:01.914204Z"
    }
   },
   "outputs": [
    {
     "data": {
      "text/plain": [
       "Debt consolidation           152472\n",
       "Credit card refinancing       51487\n",
       "Home improvement              15264\n",
       "Other                         12930\n",
       "Debt Consolidation            11608\n",
       "Major purchase                 4769\n",
       "Consolidation                  3852\n",
       "debt consolidation             3547\n",
       "Business                       2949\n",
       "Debt Consolidation Loan        2864\n",
       "Medical expenses               2742\n",
       "Car financing                  2139\n",
       "Credit Card Consolidation      1775\n",
       "Vacation                       1717\n",
       "Moving and relocation          1689\n",
       "consolidation                  1595\n",
       "Personal Loan                  1591\n",
       "Consolidation Loan             1299\n",
       "Home Improvement               1268\n",
       "Home buying                    1183\n",
       "Name: title, dtype: int64"
      ]
     },
     "execution_count": 23,
     "metadata": {},
     "output_type": "execute_result"
    }
   ],
   "source": [
    "data['title'].value_counts()[:20]"
   ]
  },
  {
   "cell_type": "code",
   "execution_count": 24,
   "metadata": {
    "execution": {
     "iopub.execute_input": "2023-06-07T14:20:02.028999Z",
     "iopub.status.busy": "2023-06-07T14:20:02.028618Z",
     "iopub.status.idle": "2023-06-07T14:20:02.286324Z",
     "shell.execute_reply": "2023-06-07T14:20:02.284964Z",
     "shell.execute_reply.started": "2023-06-07T14:20:02.028969Z"
    }
   },
   "outputs": [],
   "source": [
    "data['title']=data.title.str.lower()"
   ]
  },
  {
   "cell_type": "code",
   "execution_count": 25,
   "metadata": {
    "execution": {
     "iopub.execute_input": "2023-06-07T14:20:02.288103Z",
     "iopub.status.busy": "2023-06-07T14:20:02.287788Z",
     "iopub.status.idle": "2023-06-07T14:20:02.417405Z",
     "shell.execute_reply": "2023-06-07T14:20:02.415945Z",
     "shell.execute_reply.started": "2023-06-07T14:20:02.288077Z"
    }
   },
   "outputs": [
    {
     "data": {
      "text/plain": [
       "debt consolidation           168108\n",
       "credit card refinancing       51781\n",
       "home improvement              17117\n",
       "other                         12993\n",
       "consolidation                  5583\n",
       "major purchase                 4998\n",
       "debt consolidation loan        3513\n",
       "business                       3017\n",
       "medical expenses               2820\n",
       "credit card consolidation      2638\n",
       "personal loan                  2460\n",
       "car financing                  2160\n",
       "credit card payoff             1904\n",
       "consolidation loan             1887\n",
       "vacation                       1866\n",
       "credit card refinance          1832\n",
       "moving and relocation          1693\n",
       "consolidate                    1528\n",
       "personal                       1465\n",
       "home buying                    1196\n",
       "Name: title, dtype: int64"
      ]
     },
     "execution_count": 25,
     "metadata": {},
     "output_type": "execute_result"
    }
   ],
   "source": [
    "data['title'].value_counts()[:20]"
   ]
  },
  {
   "cell_type": "code",
   "execution_count": 79,
   "metadata": {},
   "outputs": [
    {
     "data": {
      "text/plain": [
       "<AxesSubplot: xlabel='loan_status', ylabel='loan_amnt'>"
      ]
     },
     "execution_count": 79,
     "metadata": {},
     "output_type": "execute_result"
    },
    {
     "data": {
      "image/png": "[encoded data removed]",
      "text/plain": [
       "<Figure size 360x504 with 1 Axes>"
      ]
     },
     "metadata": {
      "needs_background": "light"
     },
     "output_type": "display_data"
    }
   ],
   "source": [
    "plt.figure(figsize=(5,7))\n",
    "sns.boxplot(y=data[\"loan_amnt\"],\n",
    "            x=data[\"loan_status\"])"
   ]
  },
  {
   "cell_type": "code",
   "execution_count": 80,
   "metadata": {},
   "outputs": [
    {
     "data": {
      "text/plain": [
       "<AxesSubplot: xlabel='loan_amnt', ylabel='Count'>"
      ]
     },
     "execution_count": 80,
     "metadata": {},
     "output_type": "execute_result"
    },
    {
     "data": {
      "image/png": "[encoded data removed]",
      "text/plain": [
       "<Figure size 432x288 with 1 Axes>"
      ]
     },
     "metadata": {
      "needs_background": "light"
     },
     "output_type": "display_data"
    }
   ],
   "source": [
    "sns.histplot(data[\"loan_amnt\"],bins = 15)"
   ]
  },
  {
   "cell_type": "code",
   "execution_count": 81,
   "metadata": {},
   "outputs": [
    {
     "data": {
      "text/html": [
       "<div>\n",
       "<style scoped>\n",
       "    .dataframe tbody tr th:only-of-type {\n",
       "        vertical-align: middle;\n",
       "    }\n",
       "\n",
       "    .dataframe tbody tr th {\n",
       "        vertical-align: top;\n",
       "    }\n",
       "\n",
       "    .dataframe thead th {\n",
       "        text-align: right;\n",
       "    }\n",
       "</style>\n",
       "<table border=\"1\" class=\"dataframe\">\n",
       "  <thead>\n",
       "    <tr style=\"text-align: right;\">\n",
       "      <th></th>\n",
       "      <th>count</th>\n",
       "      <th>mean</th>\n",
       "      <th>std</th>\n",
       "      <th>min</th>\n",
       "      <th>25%</th>\n",
       "      <th>50%</th>\n",
       "      <th>75%</th>\n",
       "      <th>max</th>\n",
       "    </tr>\n",
       "    <tr>\n",
       "      <th>loan_status</th>\n",
       "      <th></th>\n",
       "      <th></th>\n",
       "      <th></th>\n",
       "      <th></th>\n",
       "      <th></th>\n",
       "      <th></th>\n",
       "      <th></th>\n",
       "      <th></th>\n",
       "    </tr>\n",
       "  </thead>\n",
       "  <tbody>\n",
       "    <tr>\n",
       "      <th>0</th>\n",
       "      <td>286293.0</td>\n",
       "      <td>13.075118</td>\n",
       "      <td>4.266280</td>\n",
       "      <td>5.32</td>\n",
       "      <td>9.99</td>\n",
       "      <td>12.99</td>\n",
       "      <td>15.610</td>\n",
       "      <td>26.99</td>\n",
       "    </tr>\n",
       "    <tr>\n",
       "      <th>1</th>\n",
       "      <td>68226.0</td>\n",
       "      <td>15.876401</td>\n",
       "      <td>4.312881</td>\n",
       "      <td>5.32</td>\n",
       "      <td>12.99</td>\n",
       "      <td>15.61</td>\n",
       "      <td>18.635</td>\n",
       "      <td>26.99</td>\n",
       "    </tr>\n",
       "  </tbody>\n",
       "</table>\n",
       "</div>"
      ],
      "text/plain": [
       "                count       mean       std   min    25%    50%     75%    max\n",
       "loan_status                                                                  \n",
       "0            286293.0  13.075118  4.266280  5.32   9.99  12.99  15.610  26.99\n",
       "1             68226.0  15.876401  4.312881  5.32  12.99  15.61  18.635  26.99"
      ]
     },
     "execution_count": 81,
     "metadata": {},
     "output_type": "execute_result"
    }
   ],
   "source": [
    "data.groupby(by = \"loan_status\")[\"int_rate\"].describe()"
   ]
  },
  {
   "cell_type": "code",
   "execution_count": 83,
   "metadata": {},
   "outputs": [
    {
     "data": {
      "text/plain": [
       "<AxesSubplot: xlabel='int_rate', ylabel='Count'>"
      ]
     },
     "execution_count": 83,
     "metadata": {},
     "output_type": "execute_result"
    },
    {
     "data": {
      "image/png": "[encoded data removed]",
      "text/plain": [
       "<Figure size 432x288 with 1 Axes>"
      ]
     },
     "metadata": {
      "needs_background": "light"
     },
     "output_type": "display_data"
    }
   ],
   "source": [
    "sns.histplot(data[\"int_rate\"],bins = 15)"
   ]
  },
  {
   "cell_type": "markdown",
   "metadata": {},
   "source": [
    "## Visualization"
   ]
  },
  {
   "cell_type": "markdown",
   "metadata": {},
   "source": [
    "The grade of majority of people those who have fully paid the loan is 'B' and have subgrade 'B3'.\n",
    "\n",
    "So from that we can infer that people with grade 'B' and subgrade 'B3' are more likely to fully pay the loan."
   ]
  },
  {
   "cell_type": "code",
   "execution_count": 26,
   "metadata": {
    "execution": {
     "iopub.execute_input": "2023-06-07T14:20:02.419061Z",
     "iopub.status.busy": "2023-06-07T14:20:02.418729Z",
     "iopub.status.idle": "2023-06-07T14:20:04.792924Z",
     "shell.execute_reply": "2023-06-07T14:20:04.791573Z",
     "shell.execute_reply.started": "2023-06-07T14:20:02.419036Z"
    }
   },
   "outputs": [
    {
     "data": {
      "text/plain": [
       "[Text(0, 0, 'A1'),\n",
       " Text(1, 0, 'A2'),\n",
       " Text(2, 0, 'A3'),\n",
       " Text(3, 0, 'A4'),\n",
       " Text(4, 0, 'A5'),\n",
       " Text(5, 0, 'B1'),\n",
       " Text(6, 0, 'B2'),\n",
       " Text(7, 0, 'B3'),\n",
       " Text(8, 0, 'B4'),\n",
       " Text(9, 0, 'B5'),\n",
       " Text(10, 0, 'C1'),\n",
       " Text(11, 0, 'C2'),\n",
       " Text(12, 0, 'C3'),\n",
       " Text(13, 0, 'C4'),\n",
       " Text(14, 0, 'C5'),\n",
       " Text(15, 0, 'D1'),\n",
       " Text(16, 0, 'D2'),\n",
       " Text(17, 0, 'D3'),\n",
       " Text(18, 0, 'D4'),\n",
       " Text(19, 0, 'D5'),\n",
       " Text(20, 0, 'E1'),\n",
       " Text(21, 0, 'E2'),\n",
       " Text(22, 0, 'E3'),\n",
       " Text(23, 0, 'E4'),\n",
       " Text(24, 0, 'E5'),\n",
       " Text(25, 0, 'F1'),\n",
       " Text(26, 0, 'F2'),\n",
       " Text(27, 0, 'F3'),\n",
       " Text(28, 0, 'F4'),\n",
       " Text(29, 0, 'F5'),\n",
       " Text(30, 0, 'G1'),\n",
       " Text(31, 0, 'G2'),\n",
       " Text(32, 0, 'G3'),\n",
       " Text(33, 0, 'G4'),\n",
       " Text(34, 0, 'G5')]"
      ]
     },
     "execution_count": 26,
     "metadata": {},
     "output_type": "execute_result"
    },
    {
     "data": {
      "image/png": "[encoded data removed]",
      "text/plain": [
       "<Figure size 1080x720 with 2 Axes>"
      ]
     },
     "metadata": {
      "needs_background": "light"
     },
     "output_type": "display_data"
    }
   ],
   "source": [
    "plt.figure(figsize=(15, 10))\n",
    "\n",
    "plt.subplot(2, 2, 1)\n",
    "grade = sorted(data.grade.unique().tolist())\n",
    "sns.countplot(x='grade', data=data, hue='loan_status', order=grade)\n",
    "\n",
    "plt.subplot(2, 2, 2)\n",
    "sub_grade = sorted(data.sub_grade.unique().tolist())\n",
    "g = sns.countplot(x='sub_grade', data=data, hue='loan_status', order=sub_grade)\n",
    "g.set_xticklabels(g.get_xticklabels(), rotation=90)"
   ]
  },
  {
   "cell_type": "code",
   "execution_count": 27,
   "metadata": {
    "execution": {
     "iopub.execute_input": "2023-06-07T14:20:04.795002Z",
     "iopub.status.busy": "2023-06-07T14:20:04.794570Z",
     "iopub.status.idle": "2023-06-07T14:20:09.103598Z",
     "shell.execute_reply": "2023-06-07T14:20:09.102738Z",
     "shell.execute_reply.started": "2023-06-07T14:20:04.794970Z"
    }
   },
   "outputs": [
    {
     "data": {
      "text/plain": [
       "[Text(0, 0, 'vacation'),\n",
       " Text(1, 0, 'debt_consolidation'),\n",
       " Text(2, 0, 'credit_card'),\n",
       " Text(3, 0, 'home_improvement'),\n",
       " Text(4, 0, 'small_business'),\n",
       " Text(5, 0, 'major_purchase'),\n",
       " Text(6, 0, 'other'),\n",
       " Text(7, 0, 'medical'),\n",
       " Text(8, 0, 'wedding'),\n",
       " Text(9, 0, 'car'),\n",
       " Text(10, 0, 'moving'),\n",
       " Text(11, 0, 'house'),\n",
       " Text(12, 0, 'educational'),\n",
       " Text(13, 0, 'renewable_energy')]"
      ]
     },
     "execution_count": 27,
     "metadata": {},
     "output_type": "execute_result"
    },
    {
     "data": {
      "image/png": "[encoded data removed]",
      "text/plain": [
       "<Figure size 1080x1440 with 4 Axes>"
      ]
     },
     "metadata": {
      "needs_background": "light"
     },
     "output_type": "display_data"
    }
   ],
   "source": [
    "plt.figure(figsize=(15,20))\n",
    "\n",
    "plt.subplot(4,2,1)\n",
    "sns.countplot(x='term',data=data,hue='loan_status')\n",
    "\n",
    "plt.subplot(4,2,2)\n",
    "sns.countplot(x='home_ownership',data=data,hue='loan_status')\n",
    "\n",
    "plt.subplot(4,2,3)\n",
    "sns.countplot(x='verification_status',data=data,hue='loan_status')\n",
    "\n",
    "plt.subplot(4,2,4)\n",
    "g=sns.countplot(x='purpose',data=data,hue='loan_status')\n",
    "g.set_xticklabels(g.get_xticklabels(),rotation=90)"
   ]
  },
  {
   "cell_type": "markdown",
   "metadata": {},
   "source": [
    "Manager and Teacher are the most afforded loan on titles"
   ]
  },
  {
   "cell_type": "code",
   "execution_count": 28,
   "metadata": {
    "execution": {
     "iopub.execute_input": "2023-06-07T14:20:09.105842Z",
     "iopub.status.busy": "2023-06-07T14:20:09.104954Z",
     "iopub.status.idle": "2023-06-07T14:20:11.344829Z",
     "shell.execute_reply": "2023-06-07T14:20:11.343747Z",
     "shell.execute_reply.started": "2023-06-07T14:20:09.105809Z"
    }
   },
   "outputs": [
    {
     "data": {
      "image/png": "[encoded data removed]",
      "text/plain": [
       "<Figure size 1080x864 with 2 Axes>"
      ]
     },
     "metadata": {
      "needs_background": "light"
     },
     "output_type": "display_data"
    }
   ],
   "source": [
    "plt.figure(figsize=(15,12))\n",
    "\n",
    "plt.subplot(2,2,1)\n",
    "order = ['< 1 year', '1 year', '2 years', '3 years', '4 years', '5 years', \n",
    "          '6 years', '7 years', '8 years', '9 years', '10+ years',]\n",
    "g=sns.countplot(x='emp_length',data=data,hue='loan_status',order=order)\n",
    "g.set_xticklabels(g.get_xticklabels(),rotation=90)\n",
    "\n",
    "plt.subplot(2,2,2)\n",
    "plt.barh(data.emp_title.value_counts()[:30].index,data.emp_title.value_counts()[:30])\n",
    "plt.title(\"The most 30 jobs title afforded a laon\")\n",
    "plt.tight_layout()"
   ]
  },
  {
   "cell_type": "markdown",
   "metadata": {},
   "source": [
    "## Feature Engineering"
   ]
  },
  {
   "cell_type": "code",
   "execution_count": 29,
   "metadata": {},
   "outputs": [
    {
     "data": {
      "text/plain": [
       "0.0     338272\n",
       "1.0      49739\n",
       "2.0       5476\n",
       "3.0       1521\n",
       "4.0        527\n",
       "5.0        237\n",
       "6.0        122\n",
       "7.0         56\n",
       "8.0         34\n",
       "9.0         12\n",
       "10.0        11\n",
       "11.0         8\n",
       "13.0         4\n",
       "12.0         4\n",
       "19.0         2\n",
       "40.0         1\n",
       "17.0         1\n",
       "86.0         1\n",
       "24.0         1\n",
       "15.0         1\n",
       "Name: pub_rec, dtype: int64"
      ]
     },
     "execution_count": 29,
     "metadata": {},
     "output_type": "execute_result"
    }
   ],
   "source": [
    "data['pub_rec'].value_counts()"
   ]
  },
  {
   "cell_type": "code",
   "execution_count": 30,
   "metadata": {
    "execution": {
     "iopub.execute_input": "2023-06-07T14:20:11.347522Z",
     "iopub.status.busy": "2023-06-07T14:20:11.346396Z",
     "iopub.status.idle": "2023-06-07T14:20:11.356183Z",
     "shell.execute_reply": "2023-06-07T14:20:11.354969Z",
     "shell.execute_reply.started": "2023-06-07T14:20:11.347483Z"
    }
   },
   "outputs": [],
   "source": [
    "#below are high outlier columns. We dont want to delete these records since someone whos taken a loan for the first time may have low bankruptucy record\n",
    "#so im just flagging anything more than 0 as 1\n",
    "\n",
    "def pub_rec(number):\n",
    "    if number == 0.0:\n",
    "        return 0\n",
    "    else:\n",
    "        return 1\n",
    "    \n",
    "def mort_acc(number):\n",
    "    if number == 0.0:\n",
    "        return 0\n",
    "    elif number >= 1.0:\n",
    "        return 1\n",
    "    else:\n",
    "        return number\n",
    "    \n",
    "    \n",
    "def pub_rec_bankruptcies(number):\n",
    "    if number == 0.0:\n",
    "        return 0\n",
    "    elif number >= 1.0:\n",
    "        return 1\n",
    "    else:\n",
    "        return number\n",
    "    \n",
    "    "
   ]
  },
  {
   "cell_type": "code",
   "execution_count": 31,
   "metadata": {
    "execution": {
     "iopub.execute_input": "2023-06-07T14:20:11.358733Z",
     "iopub.status.busy": "2023-06-07T14:20:11.358158Z",
     "iopub.status.idle": "2023-06-07T14:20:12.421334Z",
     "shell.execute_reply": "2023-06-07T14:20:12.419978Z",
     "shell.execute_reply.started": "2023-06-07T14:20:11.358665Z"
    }
   },
   "outputs": [],
   "source": [
    "data['pub_rec']=data.pub_rec.apply(pub_rec)\n",
    "data['mort_acc']=data.mort_acc.apply(mort_acc)\n",
    "data['pub_rec_bankruptcies']=data.pub_rec_bankruptcies.apply(pub_rec_bankruptcies)"
   ]
  },
  {
   "cell_type": "code",
   "execution_count": 32,
   "metadata": {
    "execution": {
     "iopub.execute_input": "2023-06-07T14:20:12.424009Z",
     "iopub.status.busy": "2023-06-07T14:20:12.422898Z",
     "iopub.status.idle": "2023-06-07T14:20:16.141900Z",
     "shell.execute_reply": "2023-06-07T14:20:16.140794Z",
     "shell.execute_reply.started": "2023-06-07T14:20:12.423973Z"
    }
   },
   "outputs": [
    {
     "data": {
      "text/plain": [
       "<AxesSubplot: xlabel='pub_rec_bankruptcies', ylabel='count'>"
      ]
     },
     "execution_count": 32,
     "metadata": {},
     "output_type": "execute_result"
    },
    {
     "data": {
      "image/png": "[encoded data removed]",
      "text/plain": [
       "<Figure size 864x2160 with 5 Axes>"
      ]
     },
     "metadata": {
      "needs_background": "light"
     },
     "output_type": "display_data"
    }
   ],
   "source": [
    "plt.figure(figsize=(12,30))\n",
    "\n",
    "plt.subplot(6,2,1)\n",
    "sns.countplot(x='pub_rec',data=data,hue='loan_status')\n",
    "\n",
    "plt.subplot(6,2,2)\n",
    "sns.countplot(x='initial_list_status',data=data,hue='loan_status')\n",
    "\n",
    "plt.subplot(6,2,3)\n",
    "sns.countplot(x='application_type',data=data,hue='loan_status')\n",
    "\n",
    "plt.subplot(6,2,4)\n",
    "sns.countplot(x='mort_acc',data=data,hue='loan_status')\n",
    "\n",
    "plt.subplot(6,2,5)\n",
    "sns.countplot(x='pub_rec_bankruptcies',data=data,hue='loan_status')\n"
   ]
  },
  {
   "cell_type": "code",
   "execution_count": 33,
   "metadata": {
    "execution": {
     "iopub.execute_input": "2023-06-07T14:20:16.143391Z",
     "iopub.status.busy": "2023-06-07T14:20:16.143078Z",
     "iopub.status.idle": "2023-06-07T14:20:16.290559Z",
     "shell.execute_reply": "2023-06-07T14:20:16.289390Z",
     "shell.execute_reply.started": "2023-06-07T14:20:16.143364Z"
    }
   },
   "outputs": [],
   "source": [
    "# Mapping of target variable \n",
    "data['loan_status']=data.loan_status.map({'Fully Paid':0, 'Charged Off':1})"
   ]
  },
  {
   "cell_type": "code",
   "execution_count": 34,
   "metadata": {
    "execution": {
     "iopub.execute_input": "2023-06-07T14:20:16.292350Z",
     "iopub.status.busy": "2023-06-07T14:20:16.292030Z",
     "iopub.status.idle": "2023-06-07T14:20:17.801491Z",
     "shell.execute_reply": "2023-06-07T14:20:17.800316Z",
     "shell.execute_reply.started": "2023-06-07T14:20:16.292323Z"
    }
   },
   "outputs": [
    {
     "data": {
      "text/plain": [
       "loan_amnt               0.000000\n",
       "term                    0.000000\n",
       "int_rate                0.000000\n",
       "grade                   0.000000\n",
       "sub_grade               0.000000\n",
       "emp_title               5.789208\n",
       "emp_length              4.621115\n",
       "home_ownership          0.000000\n",
       "annual_inc              0.000000\n",
       "verification_status     0.000000\n",
       "issue_d                 0.000000\n",
       "loan_status             0.000000\n",
       "purpose                 0.000000\n",
       "title                   0.443148\n",
       "dti                     0.000000\n",
       "earliest_cr_line        0.000000\n",
       "open_acc                0.000000\n",
       "pub_rec                 0.000000\n",
       "revol_bal               0.000000\n",
       "revol_util              0.069692\n",
       "total_acc               0.000000\n",
       "initial_list_status     0.000000\n",
       "application_type        0.000000\n",
       "mort_acc                9.543469\n",
       "pub_rec_bankruptcies    0.135091\n",
       "address                 0.000000\n",
       "dtype: float64"
      ]
     },
     "execution_count": 34,
     "metadata": {},
     "output_type": "execute_result"
    }
   ],
   "source": [
    "data.isnull().sum()/len(data)*100"
   ]
  },
  {
   "cell_type": "markdown",
   "metadata": {},
   "source": [
    "## Mean Target Imputaion"
   ]
  },
  {
   "cell_type": "code",
   "execution_count": 35,
   "metadata": {
    "execution": {
     "iopub.execute_input": "2023-06-07T14:20:17.803095Z",
     "iopub.status.busy": "2023-06-07T14:20:17.802777Z",
     "iopub.status.idle": "2023-06-07T14:20:17.878605Z",
     "shell.execute_reply": "2023-06-07T14:20:17.877758Z",
     "shell.execute_reply.started": "2023-06-07T14:20:17.803069Z"
    }
   },
   "outputs": [
    {
     "data": {
      "text/html": [
       "<div>\n",
       "<style scoped>\n",
       "    .dataframe tbody tr th:only-of-type {\n",
       "        vertical-align: middle;\n",
       "    }\n",
       "\n",
       "    .dataframe tbody tr th {\n",
       "        vertical-align: top;\n",
       "    }\n",
       "\n",
       "    .dataframe thead th {\n",
       "        text-align: right;\n",
       "    }\n",
       "</style>\n",
       "<table border=\"1\" class=\"dataframe\">\n",
       "  <thead>\n",
       "    <tr style=\"text-align: right;\">\n",
       "      <th></th>\n",
       "      <th>loan_amnt</th>\n",
       "      <th>int_rate</th>\n",
       "      <th>annual_inc</th>\n",
       "      <th>loan_status</th>\n",
       "      <th>dti</th>\n",
       "      <th>open_acc</th>\n",
       "      <th>pub_rec</th>\n",
       "      <th>revol_bal</th>\n",
       "      <th>revol_util</th>\n",
       "      <th>mort_acc</th>\n",
       "      <th>pub_rec_bankruptcies</th>\n",
       "    </tr>\n",
       "    <tr>\n",
       "      <th>total_acc</th>\n",
       "      <th></th>\n",
       "      <th></th>\n",
       "      <th></th>\n",
       "      <th></th>\n",
       "      <th></th>\n",
       "      <th></th>\n",
       "      <th></th>\n",
       "      <th></th>\n",
       "      <th></th>\n",
       "      <th></th>\n",
       "      <th></th>\n",
       "    </tr>\n",
       "  </thead>\n",
       "  <tbody>\n",
       "    <tr>\n",
       "      <th>2.0</th>\n",
       "      <td>6672.222222</td>\n",
       "      <td>15.801111</td>\n",
       "      <td>64277.777778</td>\n",
       "      <td>0.222222</td>\n",
       "      <td>2.279444</td>\n",
       "      <td>1.611111</td>\n",
       "      <td>0.000000</td>\n",
       "      <td>2860.166667</td>\n",
       "      <td>53.527778</td>\n",
       "      <td>0.000000</td>\n",
       "      <td>0.000000</td>\n",
       "    </tr>\n",
       "    <tr>\n",
       "      <th>3.0</th>\n",
       "      <td>6042.966361</td>\n",
       "      <td>15.615566</td>\n",
       "      <td>41270.753884</td>\n",
       "      <td>0.220183</td>\n",
       "      <td>6.502813</td>\n",
       "      <td>2.611621</td>\n",
       "      <td>0.033639</td>\n",
       "      <td>3382.807339</td>\n",
       "      <td>49.991022</td>\n",
       "      <td>0.046243</td>\n",
       "      <td>0.015480</td>\n",
       "    </tr>\n",
       "    <tr>\n",
       "      <th>4.0</th>\n",
       "      <td>7587.399031</td>\n",
       "      <td>15.069491</td>\n",
       "      <td>42426.565969</td>\n",
       "      <td>0.214055</td>\n",
       "      <td>8.411963</td>\n",
       "      <td>3.324717</td>\n",
       "      <td>0.033118</td>\n",
       "      <td>4874.231826</td>\n",
       "      <td>58.477400</td>\n",
       "      <td>0.062140</td>\n",
       "      <td>0.019672</td>\n",
       "    </tr>\n",
       "    <tr>\n",
       "      <th>5.0</th>\n",
       "      <td>7845.734714</td>\n",
       "      <td>14.917564</td>\n",
       "      <td>44394.098003</td>\n",
       "      <td>0.203156</td>\n",
       "      <td>10.118328</td>\n",
       "      <td>3.921598</td>\n",
       "      <td>0.055720</td>\n",
       "      <td>5475.253452</td>\n",
       "      <td>56.890311</td>\n",
       "      <td>0.090789</td>\n",
       "      <td>0.039187</td>\n",
       "    </tr>\n",
       "    <tr>\n",
       "      <th>6.0</th>\n",
       "      <td>8529.019843</td>\n",
       "      <td>14.651752</td>\n",
       "      <td>48470.001156</td>\n",
       "      <td>0.215874</td>\n",
       "      <td>11.222542</td>\n",
       "      <td>4.511119</td>\n",
       "      <td>0.076634</td>\n",
       "      <td>6546.374957</td>\n",
       "      <td>57.812483</td>\n",
       "      <td>0.121983</td>\n",
       "      <td>0.050947</td>\n",
       "    </tr>\n",
       "    <tr>\n",
       "      <th>...</th>\n",
       "      <td>...</td>\n",
       "      <td>...</td>\n",
       "      <td>...</td>\n",
       "      <td>...</td>\n",
       "      <td>...</td>\n",
       "      <td>...</td>\n",
       "      <td>...</td>\n",
       "      <td>...</td>\n",
       "      <td>...</td>\n",
       "      <td>...</td>\n",
       "      <td>...</td>\n",
       "    </tr>\n",
       "    <tr>\n",
       "      <th>124.0</th>\n",
       "      <td>23200.000000</td>\n",
       "      <td>17.860000</td>\n",
       "      <td>66000.000000</td>\n",
       "      <td>1.000000</td>\n",
       "      <td>14.040000</td>\n",
       "      <td>43.000000</td>\n",
       "      <td>0.000000</td>\n",
       "      <td>25497.000000</td>\n",
       "      <td>75.400000</td>\n",
       "      <td>1.000000</td>\n",
       "      <td>0.000000</td>\n",
       "    </tr>\n",
       "    <tr>\n",
       "      <th>129.0</th>\n",
       "      <td>25000.000000</td>\n",
       "      <td>7.890000</td>\n",
       "      <td>200000.000000</td>\n",
       "      <td>0.000000</td>\n",
       "      <td>8.900000</td>\n",
       "      <td>48.000000</td>\n",
       "      <td>0.000000</td>\n",
       "      <td>27659.000000</td>\n",
       "      <td>8.300000</td>\n",
       "      <td>1.000000</td>\n",
       "      <td>0.000000</td>\n",
       "    </tr>\n",
       "    <tr>\n",
       "      <th>135.0</th>\n",
       "      <td>24000.000000</td>\n",
       "      <td>15.410000</td>\n",
       "      <td>82000.000000</td>\n",
       "      <td>0.000000</td>\n",
       "      <td>33.850000</td>\n",
       "      <td>57.000000</td>\n",
       "      <td>0.000000</td>\n",
       "      <td>35715.000000</td>\n",
       "      <td>50.800000</td>\n",
       "      <td>1.000000</td>\n",
       "      <td>0.000000</td>\n",
       "    </tr>\n",
       "    <tr>\n",
       "      <th>150.0</th>\n",
       "      <td>35000.000000</td>\n",
       "      <td>8.670000</td>\n",
       "      <td>189000.000000</td>\n",
       "      <td>0.000000</td>\n",
       "      <td>6.630000</td>\n",
       "      <td>40.000000</td>\n",
       "      <td>0.000000</td>\n",
       "      <td>39065.000000</td>\n",
       "      <td>44.400000</td>\n",
       "      <td>1.000000</td>\n",
       "      <td>0.000000</td>\n",
       "    </tr>\n",
       "    <tr>\n",
       "      <th>151.0</th>\n",
       "      <td>35000.000000</td>\n",
       "      <td>13.990000</td>\n",
       "      <td>160000.000000</td>\n",
       "      <td>1.000000</td>\n",
       "      <td>12.650000</td>\n",
       "      <td>26.000000</td>\n",
       "      <td>0.000000</td>\n",
       "      <td>46643.000000</td>\n",
       "      <td>71.500000</td>\n",
       "      <td>0.000000</td>\n",
       "      <td>0.000000</td>\n",
       "    </tr>\n",
       "  </tbody>\n",
       "</table>\n",
       "<p>118 rows × 11 columns</p>\n",
       "</div>"
      ],
      "text/plain": [
       "              loan_amnt   int_rate     annual_inc  loan_status        dti  \\\n",
       "total_acc                                                                   \n",
       "2.0         6672.222222  15.801111   64277.777778     0.222222   2.279444   \n",
       "3.0         6042.966361  15.615566   41270.753884     0.220183   6.502813   \n",
       "4.0         7587.399031  15.069491   42426.565969     0.214055   8.411963   \n",
       "5.0         7845.734714  14.917564   44394.098003     0.203156  10.118328   \n",
       "6.0         8529.019843  14.651752   48470.001156     0.215874  11.222542   \n",
       "...                 ...        ...            ...          ...        ...   \n",
       "124.0      23200.000000  17.860000   66000.000000     1.000000  14.040000   \n",
       "129.0      25000.000000   7.890000  200000.000000     0.000000   8.900000   \n",
       "135.0      24000.000000  15.410000   82000.000000     0.000000  33.850000   \n",
       "150.0      35000.000000   8.670000  189000.000000     0.000000   6.630000   \n",
       "151.0      35000.000000  13.990000  160000.000000     1.000000  12.650000   \n",
       "\n",
       "            open_acc   pub_rec     revol_bal  revol_util  mort_acc  \\\n",
       "total_acc                                                            \n",
       "2.0         1.611111  0.000000   2860.166667   53.527778  0.000000   \n",
       "3.0         2.611621  0.033639   3382.807339   49.991022  0.046243   \n",
       "4.0         3.324717  0.033118   4874.231826   58.477400  0.062140   \n",
       "5.0         3.921598  0.055720   5475.253452   56.890311  0.090789   \n",
       "6.0         4.511119  0.076634   6546.374957   57.812483  0.121983   \n",
       "...              ...       ...           ...         ...       ...   \n",
       "124.0      43.000000  0.000000  25497.000000   75.400000  1.000000   \n",
       "129.0      48.000000  0.000000  27659.000000    8.300000  1.000000   \n",
       "135.0      57.000000  0.000000  35715.000000   50.800000  1.000000   \n",
       "150.0      40.000000  0.000000  39065.000000   44.400000  1.000000   \n",
       "151.0      26.000000  0.000000  46643.000000   71.500000  0.000000   \n",
       "\n",
       "           pub_rec_bankruptcies  \n",
       "total_acc                        \n",
       "2.0                    0.000000  \n",
       "3.0                    0.015480  \n",
       "4.0                    0.019672  \n",
       "5.0                    0.039187  \n",
       "6.0                    0.050947  \n",
       "...                         ...  \n",
       "124.0                  0.000000  \n",
       "129.0                  0.000000  \n",
       "135.0                  0.000000  \n",
       "150.0                  0.000000  \n",
       "151.0                  0.000000  \n",
       "\n",
       "[118 rows x 11 columns]"
      ]
     },
     "execution_count": 35,
     "metadata": {},
     "output_type": "execute_result"
    }
   ],
   "source": [
    "data.groupby(by='total_acc').mean()"
   ]
  },
  {
   "cell_type": "code",
   "execution_count": 36,
   "metadata": {
    "execution": {
     "iopub.execute_input": "2023-06-07T14:20:17.887570Z",
     "iopub.status.busy": "2023-06-07T14:20:17.886830Z",
     "iopub.status.idle": "2023-06-07T14:20:17.940535Z",
     "shell.execute_reply": "2023-06-07T14:20:17.939627Z",
     "shell.execute_reply.started": "2023-06-07T14:20:17.887534Z"
    }
   },
   "outputs": [],
   "source": [
    "# saving mean of mort_acc according to total_acc_avg\n",
    "total_acc_avg=data.groupby(by='total_acc').mean().mort_acc\n"
   ]
  },
  {
   "cell_type": "code",
   "execution_count": 37,
   "metadata": {
    "execution": {
     "iopub.execute_input": "2023-06-07T14:20:17.942396Z",
     "iopub.status.busy": "2023-06-07T14:20:17.942031Z",
     "iopub.status.idle": "2023-06-07T14:20:17.947551Z",
     "shell.execute_reply": "2023-06-07T14:20:17.946386Z",
     "shell.execute_reply.started": "2023-06-07T14:20:17.942368Z"
    }
   },
   "outputs": [],
   "source": [
    "def fill_mort_acc(total_acc,mort_acc):\n",
    "    if np.isnan(mort_acc):\n",
    "        return total_acc_avg[total_acc].round()\n",
    "    else:\n",
    "        return mort_acc"
   ]
  },
  {
   "cell_type": "code",
   "execution_count": 38,
   "metadata": {
    "execution": {
     "iopub.execute_input": "2023-06-07T14:20:17.949882Z",
     "iopub.status.busy": "2023-06-07T14:20:17.949290Z",
     "iopub.status.idle": "2023-06-07T14:20:29.298839Z",
     "shell.execute_reply": "2023-06-07T14:20:29.297862Z",
     "shell.execute_reply.started": "2023-06-07T14:20:17.949850Z"
    }
   },
   "outputs": [],
   "source": [
    "data['mort_acc']=data.apply(lambda x: fill_mort_acc(x['total_acc'],x['mort_acc']),axis=1)"
   ]
  },
  {
   "cell_type": "code",
   "execution_count": 39,
   "metadata": {
    "execution": {
     "iopub.execute_input": "2023-06-07T14:20:29.300794Z",
     "iopub.status.busy": "2023-06-07T14:20:29.300330Z",
     "iopub.status.idle": "2023-06-07T14:20:30.776463Z",
     "shell.execute_reply": "2023-06-07T14:20:30.775256Z",
     "shell.execute_reply.started": "2023-06-07T14:20:29.300754Z"
    }
   },
   "outputs": [
    {
     "data": {
      "text/plain": [
       "loan_amnt               0.000000\n",
       "term                    0.000000\n",
       "int_rate                0.000000\n",
       "grade                   0.000000\n",
       "sub_grade               0.000000\n",
       "emp_title               5.789208\n",
       "emp_length              4.621115\n",
       "home_ownership          0.000000\n",
       "annual_inc              0.000000\n",
       "verification_status     0.000000\n",
       "issue_d                 0.000000\n",
       "loan_status             0.000000\n",
       "purpose                 0.000000\n",
       "title                   0.443148\n",
       "dti                     0.000000\n",
       "earliest_cr_line        0.000000\n",
       "open_acc                0.000000\n",
       "pub_rec                 0.000000\n",
       "revol_bal               0.000000\n",
       "revol_util              0.069692\n",
       "total_acc               0.000000\n",
       "initial_list_status     0.000000\n",
       "application_type        0.000000\n",
       "mort_acc                0.000000\n",
       "pub_rec_bankruptcies    0.135091\n",
       "address                 0.000000\n",
       "dtype: float64"
      ]
     },
     "execution_count": 39,
     "metadata": {},
     "output_type": "execute_result"
    }
   ],
   "source": [
    "data.isnull().sum()/len(data)*100"
   ]
  },
  {
   "cell_type": "code",
   "execution_count": 40,
   "metadata": {
    "execution": {
     "iopub.execute_input": "2023-06-07T14:20:30.780607Z",
     "iopub.status.busy": "2023-06-07T14:20:30.780259Z",
     "iopub.status.idle": "2023-06-07T14:20:30.788061Z",
     "shell.execute_reply": "2023-06-07T14:20:30.786929Z",
     "shell.execute_reply.started": "2023-06-07T14:20:30.780580Z"
    }
   },
   "outputs": [
    {
     "data": {
      "text/plain": [
       "(396030, 26)"
      ]
     },
     "execution_count": 40,
     "metadata": {},
     "output_type": "execute_result"
    }
   ],
   "source": [
    "# Current no. of rows\n",
    "data.shape"
   ]
  },
  {
   "cell_type": "code",
   "execution_count": 41,
   "metadata": {
    "execution": {
     "iopub.execute_input": "2023-06-07T14:20:30.790335Z",
     "iopub.status.busy": "2023-06-07T14:20:30.789690Z",
     "iopub.status.idle": "2023-06-07T14:20:32.357320Z",
     "shell.execute_reply": "2023-06-07T14:20:32.356224Z",
     "shell.execute_reply.started": "2023-06-07T14:20:30.790295Z"
    }
   },
   "outputs": [],
   "source": [
    "# Dropping rows with null values\n",
    "data.dropna(inplace=True)"
   ]
  },
  {
   "cell_type": "code",
   "execution_count": 42,
   "metadata": {
    "execution": {
     "iopub.execute_input": "2023-06-07T14:20:32.359156Z",
     "iopub.status.busy": "2023-06-07T14:20:32.358738Z",
     "iopub.status.idle": "2023-06-07T14:20:32.367305Z",
     "shell.execute_reply": "2023-06-07T14:20:32.366034Z",
     "shell.execute_reply.started": "2023-06-07T14:20:32.359126Z"
    }
   },
   "outputs": [
    {
     "data": {
      "text/plain": [
       "(370622, 26)"
      ]
     },
     "execution_count": 42,
     "metadata": {},
     "output_type": "execute_result"
    }
   ],
   "source": [
    "# Remaining no. of rows\n",
    "data.shape"
   ]
  },
  {
   "cell_type": "markdown",
   "metadata": {},
   "source": [
    "## Outlier Detection & Treatment"
   ]
  },
  {
   "cell_type": "code",
   "execution_count": 43,
   "metadata": {
    "execution": {
     "iopub.execute_input": "2023-06-07T14:20:32.369237Z",
     "iopub.status.busy": "2023-06-07T14:20:32.368880Z",
     "iopub.status.idle": "2023-06-07T14:20:32.389127Z",
     "shell.execute_reply": "2023-06-07T14:20:32.388074Z",
     "shell.execute_reply.started": "2023-06-07T14:20:32.369207Z"
    }
   },
   "outputs": [
    {
     "data": {
      "text/plain": [
       "12"
      ]
     },
     "execution_count": 43,
     "metadata": {},
     "output_type": "execute_result"
    }
   ],
   "source": [
    "numerical_data=data.select_dtypes(include='number')\n",
    "num_cols=numerical_data.columns\n",
    "len(num_cols)"
   ]
  },
  {
   "cell_type": "code",
   "execution_count": 44,
   "metadata": {
    "execution": {
     "iopub.execute_input": "2023-06-07T14:20:32.390478Z",
     "iopub.status.busy": "2023-06-07T14:20:32.390150Z",
     "iopub.status.idle": "2023-06-07T14:20:35.470231Z",
     "shell.execute_reply": "2023-06-07T14:20:35.469006Z",
     "shell.execute_reply.started": "2023-06-07T14:20:32.390436Z"
    }
   },
   "outputs": [
    {
     "data": {
      "image/png": "[encoded data removed]",
      "text/plain": [
       "<Figure size 576x360 with 1 Axes>"
      ]
     },
     "metadata": {
      "needs_background": "light"
     },
     "output_type": "display_data"
    },
    {
     "data": {
      "image/png": "[encoded data removed]",
      "text/plain": [
       "<Figure size 576x360 with 1 Axes>"
      ]
     },
     "metadata": {
      "needs_background": "light"
     },
     "output_type": "display_data"
    },
    {
     "data": {
      "image/png": "[encoded data removed]",
      "text/plain": [
       "<Figure size 576x360 with 1 Axes>"
      ]
     },
     "metadata": {
      "needs_background": "light"
     },
     "output_type": "display_data"
    },
    {
     "data": {
      "image/png": "[encoded data removed]",
      "text/plain": [
       "<Figure size 576x360 with 1 Axes>"
      ]
     },
     "metadata": {
      "needs_background": "light"
     },
     "output_type": "display_data"
    },
    {
     "data": {
      "image/png": "[encoded data removed]",
      "text/plain": [
       "<Figure size 576x360 with 1 Axes>"
      ]
     },
     "metadata": {
      "needs_background": "light"
     },
     "output_type": "display_data"
    },
    {
     "data": {
      "image/png": "[encoded data removed]",
      "text/plain": [
       "<Figure size 576x360 with 1 Axes>"
      ]
     },
     "metadata": {
      "needs_background": "light"
     },
     "output_type": "display_data"
    },
    {
     "data": {
      "image/png": "[encoded data removed]",
      "text/plain": [
       "<Figure size 576x360 with 1 Axes>"
      ]
     },
     "metadata": {
      "needs_background": "light"
     },
     "output_type": "display_data"
    },
    {
     "data": {
      "image/png": "[encoded data removed]",
      "text/plain": [
       "<Figure size 576x360 with 1 Axes>"
      ]
     },
     "metadata": {
      "needs_background": "light"
     },
     "output_type": "display_data"
    },
    {
     "data": {
      "image/png": "[encoded data removed]",
      "text/plain": [
       "<Figure size 576x360 with 1 Axes>"
      ]
     },
     "metadata": {
      "needs_background": "light"
     },
     "output_type": "display_data"
    },
    {
     "data": {
      "image/png": "[encoded data removed]",
      "text/plain": [
       "<Figure size 576x360 with 1 Axes>"
      ]
     },
     "metadata": {
      "needs_background": "light"
     },
     "output_type": "display_data"
    },
    {
     "data": {
      "image/png": "[encoded data removed]",
      "text/plain": [
       "<Figure size 576x360 with 1 Axes>"
      ]
     },
     "metadata": {
      "needs_background": "light"
     },
     "output_type": "display_data"
    },
    {
     "data": {
      "image/png": "[encoded data removed]",
      "text/plain": [
       "<Figure size 576x360 with 1 Axes>"
      ]
     },
     "metadata": {
      "needs_background": "light"
     },
     "output_type": "display_data"
    }
   ],
   "source": [
    "def box_plot(col):\n",
    "    plt.figure(figsize=(8,5))\n",
    "    sns.boxplot(x=data[col])\n",
    "    plt.title('Boxplot')\n",
    "    plt.show()\n",
    "    \n",
    "for col in num_cols:\n",
    "    box_plot(col)"
   ]
  },
  {
   "cell_type": "code",
   "execution_count": 45,
   "metadata": {
    "execution": {
     "iopub.execute_input": "2023-06-07T14:20:35.471841Z",
     "iopub.status.busy": "2023-06-07T14:20:35.471504Z",
     "iopub.status.idle": "2023-06-07T14:20:36.669335Z",
     "shell.execute_reply": "2023-06-07T14:20:36.668335Z",
     "shell.execute_reply.started": "2023-06-07T14:20:35.471813Z"
    }
   },
   "outputs": [
    {
     "data": {
      "text/plain": [
       "(354519, 26)"
      ]
     },
     "execution_count": 45,
     "metadata": {},
     "output_type": "execute_result"
    }
   ],
   "source": [
    "for col in num_cols:\n",
    "    mean=data[col].mean()\n",
    "    std=data[col].std()\n",
    "    \n",
    "    upper_limit=mean+3*std\n",
    "    lower_limit=mean-3*std\n",
    "    \n",
    "    data=data[(data[col]<upper_limit) & (data[col]>lower_limit)]\n",
    "    \n",
    "data.shape"
   ]
  },
  {
   "cell_type": "markdown",
   "metadata": {},
   "source": [
    "## Data Preprocesing"
   ]
  },
  {
   "cell_type": "code",
   "execution_count": 46,
   "metadata": {
    "execution": {
     "iopub.execute_input": "2023-06-07T14:20:36.671169Z",
     "iopub.status.busy": "2023-06-07T14:20:36.670864Z",
     "iopub.status.idle": "2023-06-07T14:20:36.709318Z",
     "shell.execute_reply": "2023-06-07T14:20:36.708014Z",
     "shell.execute_reply.started": "2023-06-07T14:20:36.671144Z"
    }
   },
   "outputs": [
    {
     "data": {
      "text/plain": [
       "array([' 36 months', ' 60 months'], dtype=object)"
      ]
     },
     "execution_count": 46,
     "metadata": {},
     "output_type": "execute_result"
    }
   ],
   "source": [
    "# Term\n",
    "data.term.unique()"
   ]
  },
  {
   "cell_type": "code",
   "execution_count": 47,
   "metadata": {
    "execution": {
     "iopub.execute_input": "2023-06-07T14:20:36.711499Z",
     "iopub.status.busy": "2023-06-07T14:20:36.711056Z",
     "iopub.status.idle": "2023-06-07T14:20:36.807483Z",
     "shell.execute_reply": "2023-06-07T14:20:36.806228Z",
     "shell.execute_reply.started": "2023-06-07T14:20:36.711460Z"
    }
   },
   "outputs": [],
   "source": [
    "term_values={' 36 months': 36, ' 60 months':60}\n",
    "data['term'] = data.term.map(term_values)"
   ]
  },
  {
   "cell_type": "code",
   "execution_count": 48,
   "metadata": {
    "execution": {
     "iopub.execute_input": "2023-06-07T14:20:36.809383Z",
     "iopub.status.busy": "2023-06-07T14:20:36.809014Z",
     "iopub.status.idle": "2023-06-07T14:20:36.845473Z",
     "shell.execute_reply": "2023-06-07T14:20:36.844256Z",
     "shell.execute_reply.started": "2023-06-07T14:20:36.809353Z"
    }
   },
   "outputs": [
    {
     "data": {
      "text/plain": [
       "array(['w', 'f'], dtype=object)"
      ]
     },
     "execution_count": 48,
     "metadata": {},
     "output_type": "execute_result"
    }
   ],
   "source": [
    "# Initial List Status\n",
    "data['initial_list_status'].unique()"
   ]
  },
  {
   "cell_type": "code",
   "execution_count": 49,
   "metadata": {
    "execution": {
     "iopub.execute_input": "2023-06-07T14:20:36.847474Z",
     "iopub.status.busy": "2023-06-07T14:20:36.847136Z",
     "iopub.status.idle": "2023-06-07T14:20:36.930988Z",
     "shell.execute_reply": "2023-06-07T14:20:36.929775Z",
     "shell.execute_reply.started": "2023-06-07T14:20:36.847445Z"
    }
   },
   "outputs": [],
   "source": [
    "list_status = {'w': 0, 'f': 1}\n",
    "data['initial_list_status'] = data.initial_list_status.map(list_status)"
   ]
  },
  {
   "cell_type": "code",
   "execution_count": 50,
   "metadata": {
    "execution": {
     "iopub.execute_input": "2023-06-07T14:20:36.932937Z",
     "iopub.status.busy": "2023-06-07T14:20:36.932552Z",
     "iopub.status.idle": "2023-06-07T14:20:37.088938Z",
     "shell.execute_reply": "2023-06-07T14:20:37.087758Z",
     "shell.execute_reply.started": "2023-06-07T14:20:36.932907Z"
    }
   },
   "outputs": [],
   "source": [
    "# Let's fetch ZIP from address and then drop the remaining details -\n",
    "data['zip_code'] = data.address.apply(lambda x: x[-5:])"
   ]
  },
  {
   "cell_type": "code",
   "execution_count": 51,
   "metadata": {
    "execution": {
     "iopub.execute_input": "2023-06-07T14:20:37.090962Z",
     "iopub.status.busy": "2023-06-07T14:20:37.090475Z",
     "iopub.status.idle": "2023-06-07T14:20:37.179662Z",
     "shell.execute_reply": "2023-06-07T14:20:37.178097Z",
     "shell.execute_reply.started": "2023-06-07T14:20:37.090920Z"
    }
   },
   "outputs": [
    {
     "data": {
      "text/plain": [
       "70466    14.382022\n",
       "30723    14.277373\n",
       "22690    14.268347\n",
       "48052    14.127028\n",
       "00813    11.610097\n",
       "29597    11.537322\n",
       "05113    11.516731\n",
       "93700     2.774746\n",
       "11650     2.772771\n",
       "86630     2.733563\n",
       "Name: zip_code, dtype: float64"
      ]
     },
     "execution_count": 51,
     "metadata": {},
     "output_type": "execute_result"
    }
   ],
   "source": [
    "data['zip_code'].value_counts(normalize=True)*100"
   ]
  },
  {
   "cell_type": "code",
   "execution_count": 52,
   "metadata": {
    "execution": {
     "iopub.execute_input": "2023-06-07T14:20:37.181782Z",
     "iopub.status.busy": "2023-06-07T14:20:37.181372Z",
     "iopub.status.idle": "2023-06-07T14:20:37.241498Z",
     "shell.execute_reply": "2023-06-07T14:20:37.240444Z",
     "shell.execute_reply.started": "2023-06-07T14:20:37.181738Z"
    }
   },
   "outputs": [],
   "source": [
    "# Dropping some variables which we can let go for now \n",
    "data.drop(columns=['issue_d', 'emp_title', 'title', 'sub_grade',\n",
    "                   'address', 'earliest_cr_line', 'emp_length'], \n",
    "                   axis=1, inplace=True)"
   ]
  },
  {
   "cell_type": "markdown",
   "metadata": {},
   "source": [
    "## One-hot Encoding"
   ]
  },
  {
   "cell_type": "code",
   "execution_count": 53,
   "metadata": {
    "execution": {
     "iopub.execute_input": "2023-06-07T14:20:37.243605Z",
     "iopub.status.busy": "2023-06-07T14:20:37.242995Z",
     "iopub.status.idle": "2023-06-07T14:20:37.647768Z",
     "shell.execute_reply": "2023-06-07T14:20:37.646875Z",
     "shell.execute_reply.started": "2023-06-07T14:20:37.243572Z"
    }
   },
   "outputs": [],
   "source": [
    "dummies=['purpose', 'zip_code', 'grade', 'verification_status', 'application_type', 'home_ownership']\n",
    "data=pd.get_dummies(data,columns=dummies,drop_first=True)"
   ]
  },
  {
   "cell_type": "code",
   "execution_count": 54,
   "metadata": {
    "execution": {
     "iopub.execute_input": "2023-06-07T14:20:37.649576Z",
     "iopub.status.busy": "2023-06-07T14:20:37.649063Z",
     "iopub.status.idle": "2023-06-07T14:20:37.689180Z",
     "shell.execute_reply": "2023-06-07T14:20:37.688362Z",
     "shell.execute_reply.started": "2023-06-07T14:20:37.649548Z"
    }
   },
   "outputs": [
    {
     "data": {
      "text/html": [
       "<div>\n",
       "<style scoped>\n",
       "    .dataframe tbody tr th:only-of-type {\n",
       "        vertical-align: middle;\n",
       "    }\n",
       "\n",
       "    .dataframe tbody tr th {\n",
       "        vertical-align: top;\n",
       "    }\n",
       "\n",
       "    .dataframe thead th {\n",
       "        text-align: right;\n",
       "    }\n",
       "</style>\n",
       "<table border=\"1\" class=\"dataframe\">\n",
       "  <thead>\n",
       "    <tr style=\"text-align: right;\">\n",
       "      <th></th>\n",
       "      <th>loan_amnt</th>\n",
       "      <th>term</th>\n",
       "      <th>int_rate</th>\n",
       "      <th>annual_inc</th>\n",
       "      <th>loan_status</th>\n",
       "      <th>dti</th>\n",
       "      <th>open_acc</th>\n",
       "      <th>pub_rec</th>\n",
       "      <th>revol_bal</th>\n",
       "      <th>revol_util</th>\n",
       "      <th>total_acc</th>\n",
       "      <th>initial_list_status</th>\n",
       "      <th>mort_acc</th>\n",
       "      <th>pub_rec_bankruptcies</th>\n",
       "      <th>purpose_credit_card</th>\n",
       "      <th>purpose_debt_consolidation</th>\n",
       "      <th>purpose_educational</th>\n",
       "      <th>purpose_home_improvement</th>\n",
       "      <th>purpose_house</th>\n",
       "      <th>purpose_major_purchase</th>\n",
       "      <th>purpose_medical</th>\n",
       "      <th>purpose_moving</th>\n",
       "      <th>purpose_other</th>\n",
       "      <th>purpose_renewable_energy</th>\n",
       "      <th>purpose_small_business</th>\n",
       "      <th>purpose_vacation</th>\n",
       "      <th>purpose_wedding</th>\n",
       "      <th>zip_code_05113</th>\n",
       "      <th>zip_code_11650</th>\n",
       "      <th>zip_code_22690</th>\n",
       "      <th>zip_code_29597</th>\n",
       "      <th>zip_code_30723</th>\n",
       "      <th>zip_code_48052</th>\n",
       "      <th>zip_code_70466</th>\n",
       "      <th>zip_code_86630</th>\n",
       "      <th>zip_code_93700</th>\n",
       "      <th>grade_B</th>\n",
       "      <th>grade_C</th>\n",
       "      <th>grade_D</th>\n",
       "      <th>grade_E</th>\n",
       "      <th>grade_F</th>\n",
       "      <th>grade_G</th>\n",
       "      <th>verification_status_Source Verified</th>\n",
       "      <th>verification_status_Verified</th>\n",
       "      <th>application_type_INDIVIDUAL</th>\n",
       "      <th>application_type_JOINT</th>\n",
       "      <th>home_ownership_OTHER</th>\n",
       "      <th>home_ownership_OWN</th>\n",
       "      <th>home_ownership_RENT</th>\n",
       "    </tr>\n",
       "  </thead>\n",
       "  <tbody>\n",
       "    <tr>\n",
       "      <th>0</th>\n",
       "      <td>10000.0</td>\n",
       "      <td>36</td>\n",
       "      <td>11.44</td>\n",
       "      <td>117000.0</td>\n",
       "      <td>0</td>\n",
       "      <td>26.24</td>\n",
       "      <td>16.0</td>\n",
       "      <td>0</td>\n",
       "      <td>36369.0</td>\n",
       "      <td>41.8</td>\n",
       "      <td>25.0</td>\n",
       "      <td>0</td>\n",
       "      <td>0.0</td>\n",
       "      <td>0.0</td>\n",
       "      <td>0</td>\n",
       "      <td>0</td>\n",
       "      <td>0</td>\n",
       "      <td>0</td>\n",
       "      <td>0</td>\n",
       "      <td>0</td>\n",
       "      <td>0</td>\n",
       "      <td>0</td>\n",
       "      <td>0</td>\n",
       "      <td>0</td>\n",
       "      <td>0</td>\n",
       "      <td>1</td>\n",
       "      <td>0</td>\n",
       "      <td>0</td>\n",
       "      <td>0</td>\n",
       "      <td>1</td>\n",
       "      <td>0</td>\n",
       "      <td>0</td>\n",
       "      <td>0</td>\n",
       "      <td>0</td>\n",
       "      <td>0</td>\n",
       "      <td>0</td>\n",
       "      <td>1</td>\n",
       "      <td>0</td>\n",
       "      <td>0</td>\n",
       "      <td>0</td>\n",
       "      <td>0</td>\n",
       "      <td>0</td>\n",
       "      <td>0</td>\n",
       "      <td>0</td>\n",
       "      <td>1</td>\n",
       "      <td>0</td>\n",
       "      <td>0</td>\n",
       "      <td>0</td>\n",
       "      <td>1</td>\n",
       "    </tr>\n",
       "    <tr>\n",
       "      <th>1</th>\n",
       "      <td>8000.0</td>\n",
       "      <td>36</td>\n",
       "      <td>11.99</td>\n",
       "      <td>65000.0</td>\n",
       "      <td>0</td>\n",
       "      <td>22.05</td>\n",
       "      <td>17.0</td>\n",
       "      <td>0</td>\n",
       "      <td>20131.0</td>\n",
       "      <td>53.3</td>\n",
       "      <td>27.0</td>\n",
       "      <td>1</td>\n",
       "      <td>1.0</td>\n",
       "      <td>0.0</td>\n",
       "      <td>0</td>\n",
       "      <td>1</td>\n",
       "      <td>0</td>\n",
       "      <td>0</td>\n",
       "      <td>0</td>\n",
       "      <td>0</td>\n",
       "      <td>0</td>\n",
       "      <td>0</td>\n",
       "      <td>0</td>\n",
       "      <td>0</td>\n",
       "      <td>0</td>\n",
       "      <td>0</td>\n",
       "      <td>0</td>\n",
       "      <td>1</td>\n",
       "      <td>0</td>\n",
       "      <td>0</td>\n",
       "      <td>0</td>\n",
       "      <td>0</td>\n",
       "      <td>0</td>\n",
       "      <td>0</td>\n",
       "      <td>0</td>\n",
       "      <td>0</td>\n",
       "      <td>1</td>\n",
       "      <td>0</td>\n",
       "      <td>0</td>\n",
       "      <td>0</td>\n",
       "      <td>0</td>\n",
       "      <td>0</td>\n",
       "      <td>0</td>\n",
       "      <td>0</td>\n",
       "      <td>1</td>\n",
       "      <td>0</td>\n",
       "      <td>0</td>\n",
       "      <td>0</td>\n",
       "      <td>0</td>\n",
       "    </tr>\n",
       "    <tr>\n",
       "      <th>2</th>\n",
       "      <td>15600.0</td>\n",
       "      <td>36</td>\n",
       "      <td>10.49</td>\n",
       "      <td>43057.0</td>\n",
       "      <td>0</td>\n",
       "      <td>12.79</td>\n",
       "      <td>13.0</td>\n",
       "      <td>0</td>\n",
       "      <td>11987.0</td>\n",
       "      <td>92.2</td>\n",
       "      <td>26.0</td>\n",
       "      <td>1</td>\n",
       "      <td>0.0</td>\n",
       "      <td>0.0</td>\n",
       "      <td>1</td>\n",
       "      <td>0</td>\n",
       "      <td>0</td>\n",
       "      <td>0</td>\n",
       "      <td>0</td>\n",
       "      <td>0</td>\n",
       "      <td>0</td>\n",
       "      <td>0</td>\n",
       "      <td>0</td>\n",
       "      <td>0</td>\n",
       "      <td>0</td>\n",
       "      <td>0</td>\n",
       "      <td>0</td>\n",
       "      <td>1</td>\n",
       "      <td>0</td>\n",
       "      <td>0</td>\n",
       "      <td>0</td>\n",
       "      <td>0</td>\n",
       "      <td>0</td>\n",
       "      <td>0</td>\n",
       "      <td>0</td>\n",
       "      <td>0</td>\n",
       "      <td>1</td>\n",
       "      <td>0</td>\n",
       "      <td>0</td>\n",
       "      <td>0</td>\n",
       "      <td>0</td>\n",
       "      <td>0</td>\n",
       "      <td>1</td>\n",
       "      <td>0</td>\n",
       "      <td>1</td>\n",
       "      <td>0</td>\n",
       "      <td>0</td>\n",
       "      <td>0</td>\n",
       "      <td>1</td>\n",
       "    </tr>\n",
       "    <tr>\n",
       "      <th>3</th>\n",
       "      <td>7200.0</td>\n",
       "      <td>36</td>\n",
       "      <td>6.49</td>\n",
       "      <td>54000.0</td>\n",
       "      <td>0</td>\n",
       "      <td>2.60</td>\n",
       "      <td>6.0</td>\n",
       "      <td>0</td>\n",
       "      <td>5472.0</td>\n",
       "      <td>21.5</td>\n",
       "      <td>13.0</td>\n",
       "      <td>1</td>\n",
       "      <td>0.0</td>\n",
       "      <td>0.0</td>\n",
       "      <td>1</td>\n",
       "      <td>0</td>\n",
       "      <td>0</td>\n",
       "      <td>0</td>\n",
       "      <td>0</td>\n",
       "      <td>0</td>\n",
       "      <td>0</td>\n",
       "      <td>0</td>\n",
       "      <td>0</td>\n",
       "      <td>0</td>\n",
       "      <td>0</td>\n",
       "      <td>0</td>\n",
       "      <td>0</td>\n",
       "      <td>0</td>\n",
       "      <td>0</td>\n",
       "      <td>0</td>\n",
       "      <td>0</td>\n",
       "      <td>0</td>\n",
       "      <td>0</td>\n",
       "      <td>0</td>\n",
       "      <td>0</td>\n",
       "      <td>0</td>\n",
       "      <td>0</td>\n",
       "      <td>0</td>\n",
       "      <td>0</td>\n",
       "      <td>0</td>\n",
       "      <td>0</td>\n",
       "      <td>0</td>\n",
       "      <td>0</td>\n",
       "      <td>0</td>\n",
       "      <td>1</td>\n",
       "      <td>0</td>\n",
       "      <td>0</td>\n",
       "      <td>0</td>\n",
       "      <td>1</td>\n",
       "    </tr>\n",
       "    <tr>\n",
       "      <th>4</th>\n",
       "      <td>24375.0</td>\n",
       "      <td>60</td>\n",
       "      <td>17.27</td>\n",
       "      <td>55000.0</td>\n",
       "      <td>1</td>\n",
       "      <td>33.95</td>\n",
       "      <td>13.0</td>\n",
       "      <td>0</td>\n",
       "      <td>24584.0</td>\n",
       "      <td>69.8</td>\n",
       "      <td>43.0</td>\n",
       "      <td>1</td>\n",
       "      <td>1.0</td>\n",
       "      <td>0.0</td>\n",
       "      <td>1</td>\n",
       "      <td>0</td>\n",
       "      <td>0</td>\n",
       "      <td>0</td>\n",
       "      <td>0</td>\n",
       "      <td>0</td>\n",
       "      <td>0</td>\n",
       "      <td>0</td>\n",
       "      <td>0</td>\n",
       "      <td>0</td>\n",
       "      <td>0</td>\n",
       "      <td>0</td>\n",
       "      <td>0</td>\n",
       "      <td>0</td>\n",
       "      <td>1</td>\n",
       "      <td>0</td>\n",
       "      <td>0</td>\n",
       "      <td>0</td>\n",
       "      <td>0</td>\n",
       "      <td>0</td>\n",
       "      <td>0</td>\n",
       "      <td>0</td>\n",
       "      <td>0</td>\n",
       "      <td>1</td>\n",
       "      <td>0</td>\n",
       "      <td>0</td>\n",
       "      <td>0</td>\n",
       "      <td>0</td>\n",
       "      <td>0</td>\n",
       "      <td>1</td>\n",
       "      <td>1</td>\n",
       "      <td>0</td>\n",
       "      <td>0</td>\n",
       "      <td>0</td>\n",
       "      <td>0</td>\n",
       "    </tr>\n",
       "  </tbody>\n",
       "</table>\n",
       "</div>"
      ],
      "text/plain": [
       "   loan_amnt  term  int_rate  annual_inc  loan_status    dti  open_acc  \\\n",
       "0    10000.0    36     11.44    117000.0            0  26.24      16.0   \n",
       "1     8000.0    36     11.99     65000.0            0  22.05      17.0   \n",
       "2    15600.0    36     10.49     43057.0            0  12.79      13.0   \n",
       "3     7200.0    36      6.49     54000.0            0   2.60       6.0   \n",
       "4    24375.0    60     17.27     55000.0            1  33.95      13.0   \n",
       "\n",
       "   pub_rec  revol_bal  revol_util  total_acc  initial_list_status  mort_acc  \\\n",
       "0        0    36369.0        41.8       25.0                    0       0.0   \n",
       "1        0    20131.0        53.3       27.0                    1       1.0   \n",
       "2        0    11987.0        92.2       26.0                    1       0.0   \n",
       "3        0     5472.0        21.5       13.0                    1       0.0   \n",
       "4        0    24584.0        69.8       43.0                    1       1.0   \n",
       "\n",
       "   pub_rec_bankruptcies  purpose_credit_card  purpose_debt_consolidation  \\\n",
       "0                   0.0                    0                           0   \n",
       "1                   0.0                    0                           1   \n",
       "2                   0.0                    1                           0   \n",
       "3                   0.0                    1                           0   \n",
       "4                   0.0                    1                           0   \n",
       "\n",
       "   purpose_educational  purpose_home_improvement  purpose_house  \\\n",
       "0                    0                         0              0   \n",
       "1                    0                         0              0   \n",
       "2                    0                         0              0   \n",
       "3                    0                         0              0   \n",
       "4                    0                         0              0   \n",
       "\n",
       "   purpose_major_purchase  purpose_medical  purpose_moving  purpose_other  \\\n",
       "0                       0                0               0              0   \n",
       "1                       0                0               0              0   \n",
       "2                       0                0               0              0   \n",
       "3                       0                0               0              0   \n",
       "4                       0                0               0              0   \n",
       "\n",
       "   purpose_renewable_energy  purpose_small_business  purpose_vacation  \\\n",
       "0                         0                       0                 1   \n",
       "1                         0                       0                 0   \n",
       "2                         0                       0                 0   \n",
       "3                         0                       0                 0   \n",
       "4                         0                       0                 0   \n",
       "\n",
       "   purpose_wedding  zip_code_05113  zip_code_11650  zip_code_22690  \\\n",
       "0                0               0               0               1   \n",
       "1                0               1               0               0   \n",
       "2                0               1               0               0   \n",
       "3                0               0               0               0   \n",
       "4                0               0               1               0   \n",
       "\n",
       "   zip_code_29597  zip_code_30723  zip_code_48052  zip_code_70466  \\\n",
       "0               0               0               0               0   \n",
       "1               0               0               0               0   \n",
       "2               0               0               0               0   \n",
       "3               0               0               0               0   \n",
       "4               0               0               0               0   \n",
       "\n",
       "   zip_code_86630  zip_code_93700  grade_B  grade_C  grade_D  grade_E  \\\n",
       "0               0               0        1        0        0        0   \n",
       "1               0               0        1        0        0        0   \n",
       "2               0               0        1        0        0        0   \n",
       "3               0               0        0        0        0        0   \n",
       "4               0               0        0        1        0        0   \n",
       "\n",
       "   grade_F  grade_G  verification_status_Source Verified  \\\n",
       "0        0        0                                    0   \n",
       "1        0        0                                    0   \n",
       "2        0        0                                    1   \n",
       "3        0        0                                    0   \n",
       "4        0        0                                    0   \n",
       "\n",
       "   verification_status_Verified  application_type_INDIVIDUAL  \\\n",
       "0                             0                            1   \n",
       "1                             0                            1   \n",
       "2                             0                            1   \n",
       "3                             0                            1   \n",
       "4                             1                            1   \n",
       "\n",
       "   application_type_JOINT  home_ownership_OTHER  home_ownership_OWN  \\\n",
       "0                       0                     0                   0   \n",
       "1                       0                     0                   0   \n",
       "2                       0                     0                   0   \n",
       "3                       0                     0                   0   \n",
       "4                       0                     0                   0   \n",
       "\n",
       "   home_ownership_RENT  \n",
       "0                    1  \n",
       "1                    0  \n",
       "2                    1  \n",
       "3                    1  \n",
       "4                    0  "
      ]
     },
     "execution_count": 54,
     "metadata": {},
     "output_type": "execute_result"
    }
   ],
   "source": [
    "pd.set_option('display.max_columns',None)\n",
    "pd.set_option('display.max_rows',None)\n",
    "\n",
    "data.head()"
   ]
  },
  {
   "cell_type": "code",
   "execution_count": 55,
   "metadata": {
    "execution": {
     "iopub.execute_input": "2023-06-07T14:20:37.690924Z",
     "iopub.status.busy": "2023-06-07T14:20:37.690404Z",
     "iopub.status.idle": "2023-06-07T14:20:37.697177Z",
     "shell.execute_reply": "2023-06-07T14:20:37.695965Z",
     "shell.execute_reply.started": "2023-06-07T14:20:37.690896Z"
    }
   },
   "outputs": [
    {
     "data": {
      "text/plain": [
       "(354519, 49)"
      ]
     },
     "execution_count": 55,
     "metadata": {},
     "output_type": "execute_result"
    }
   ],
   "source": [
    "data.shape"
   ]
  },
  {
   "cell_type": "markdown",
   "metadata": {},
   "source": [
    "## Data Preparation for Modelling"
   ]
  },
  {
   "cell_type": "code",
   "execution_count": 56,
   "metadata": {
    "execution": {
     "iopub.execute_input": "2023-06-07T14:20:37.699557Z",
     "iopub.status.busy": "2023-06-07T14:20:37.698810Z",
     "iopub.status.idle": "2023-06-07T14:20:37.728322Z",
     "shell.execute_reply": "2023-06-07T14:20:37.727008Z",
     "shell.execute_reply.started": "2023-06-07T14:20:37.699515Z"
    }
   },
   "outputs": [],
   "source": [
    "X=data.drop('loan_status',axis=1)\n",
    "y=data['loan_status']"
   ]
  },
  {
   "cell_type": "code",
   "execution_count": 57,
   "metadata": {
    "execution": {
     "iopub.execute_input": "2023-06-07T14:20:37.730482Z",
     "iopub.status.busy": "2023-06-07T14:20:37.730135Z",
     "iopub.status.idle": "2023-06-07T14:20:38.044776Z",
     "shell.execute_reply": "2023-06-07T14:20:38.043377Z",
     "shell.execute_reply.started": "2023-06-07T14:20:37.730445Z"
    }
   },
   "outputs": [],
   "source": [
    "X_train, X_test, y_train, y_test =train_test_split(X,y,test_size=0.30,stratify=y,random_state=42)"
   ]
  },
  {
   "cell_type": "code",
   "execution_count": 58,
   "metadata": {
    "execution": {
     "iopub.execute_input": "2023-06-07T14:20:38.046784Z",
     "iopub.status.busy": "2023-06-07T14:20:38.046339Z",
     "iopub.status.idle": "2023-06-07T14:20:38.052254Z",
     "shell.execute_reply": "2023-06-07T14:20:38.051439Z",
     "shell.execute_reply.started": "2023-06-07T14:20:38.046751Z"
    }
   },
   "outputs": [
    {
     "name": "stdout",
     "output_type": "stream",
     "text": [
      "(248163, 48)\n",
      "(106356, 48)\n"
     ]
    }
   ],
   "source": [
    "print(X_train.shape)\n",
    "print(X_test.shape)"
   ]
  },
  {
   "cell_type": "markdown",
   "metadata": {},
   "source": [
    "#### MinMaxScaler -\n",
    "\n",
    "For each value in a feature, MinMaxScaler subtracts the minimum value in the feature and then divides by the range. The range is the difference between the original maximum and original minimum.\n",
    "\n",
    "MinMaxScaler preserves the shape of the original distribution. It doesn’t meaningfully change the information embedded in the original data."
   ]
  },
  {
   "cell_type": "code",
   "execution_count": 59,
   "metadata": {
    "execution": {
     "iopub.execute_input": "2023-06-07T14:20:38.054441Z",
     "iopub.status.busy": "2023-06-07T14:20:38.053705Z",
     "iopub.status.idle": "2023-06-07T14:20:38.265003Z",
     "shell.execute_reply": "2023-06-07T14:20:38.263870Z",
     "shell.execute_reply.started": "2023-06-07T14:20:38.054411Z"
    }
   },
   "outputs": [],
   "source": [
    "scaler = MinMaxScaler()\n",
    "X_train = scaler.fit_transform(X_train)\n",
    "X_test = scaler.transform(X_test)"
   ]
  },
  {
   "cell_type": "markdown",
   "metadata": {},
   "source": [
    "## Logistic Regression"
   ]
  },
  {
   "cell_type": "code",
   "execution_count": 60,
   "metadata": {
    "execution": {
     "iopub.execute_input": "2023-06-07T14:20:38.266774Z",
     "iopub.status.busy": "2023-06-07T14:20:38.266425Z",
     "iopub.status.idle": "2023-06-07T14:20:51.677488Z",
     "shell.execute_reply": "2023-06-07T14:20:51.676372Z",
     "shell.execute_reply.started": "2023-06-07T14:20:38.266744Z"
    }
   },
   "outputs": [
    {
     "data": {
      "text/html": [
       "<style>#sk-container-id-1 {color: black;background-color: white;}#sk-container-id-1 pre{padding: 0;}#sk-container-id-1 div.sk-toggleable {background-color: white;}#sk-container-id-1 label.sk-toggleable__label {cursor: pointer;display: block;width: 100%;margin-bottom: 0;padding: 0.3em;box-sizing: border-box;text-align: center;}#sk-container-id-1 label.sk-toggleable__label-arrow:before {content: \"▸\";float: left;margin-right: 0.25em;color: #696969;}#sk-container-id-1 label.sk-toggleable__label-arrow:hover:before {color: black;}#sk-container-id-1 div.sk-estimator:hover label.sk-toggleable__label-arrow:before {color: black;}#sk-container-id-1 div.sk-toggleable__content {max-height: 0;max-width: 0;overflow: hidden;text-align: left;background-color: #f0f8ff;}#sk-container-id-1 div.sk-toggleable__content pre {margin: 0.2em;color: black;border-radius: 0.25em;background-color: #f0f8ff;}#sk-container-id-1 input.sk-toggleable__control:checked~div.sk-toggleable__content {max-height: 200px;max-width: 100%;overflow: auto;}#sk-container-id-1 input.sk-toggleable__control:checked~label.sk-toggleable__label-arrow:before {content: \"▾\";}#sk-container-id-1 div.sk-estimator input.sk-toggleable__control:checked~label.sk-toggleable__label {background-color: #d4ebff;}#sk-container-id-1 div.sk-label input.sk-toggleable__control:checked~label.sk-toggleable__label {background-color: #d4ebff;}#sk-container-id-1 input.sk-hidden--visually {border: 0;clip: rect(1px 1px 1px 1px);clip: rect(1px, 1px, 1px, 1px);height: 1px;margin: -1px;overflow: hidden;padding: 0;position: absolute;width: 1px;}#sk-container-id-1 div.sk-estimator {font-family: monospace;background-color: #f0f8ff;border: 1px dotted black;border-radius: 0.25em;box-sizing: border-box;margin-bottom: 0.5em;}#sk-container-id-1 div.sk-estimator:hover {background-color: #d4ebff;}#sk-container-id-1 div.sk-parallel-item::after {content: \"\";width: 100%;border-bottom: 1px solid gray;flex-grow: 1;}#sk-container-id-1 div.sk-label:hover label.sk-toggleable__label {background-color: #d4ebff;}#sk-container-id-1 div.sk-serial::before {content: \"\";position: absolute;border-left: 1px solid gray;box-sizing: border-box;top: 0;bottom: 0;left: 50%;z-index: 0;}#sk-container-id-1 div.sk-serial {display: flex;flex-direction: column;align-items: center;background-color: white;padding-right: 0.2em;padding-left: 0.2em;position: relative;}#sk-container-id-1 div.sk-item {position: relative;z-index: 1;}#sk-container-id-1 div.sk-parallel {display: flex;align-items: stretch;justify-content: center;background-color: white;position: relative;}#sk-container-id-1 div.sk-item::before, #sk-container-id-1 div.sk-parallel-item::before {content: \"\";position: absolute;border-left: 1px solid gray;box-sizing: border-box;top: 0;bottom: 0;left: 50%;z-index: -1;}#sk-container-id-1 div.sk-parallel-item {display: flex;flex-direction: column;z-index: 1;position: relative;background-color: white;}#sk-container-id-1 div.sk-parallel-item:first-child::after {align-self: flex-end;width: 50%;}#sk-container-id-1 div.sk-parallel-item:last-child::after {align-self: flex-start;width: 50%;}#sk-container-id-1 div.sk-parallel-item:only-child::after {width: 0;}#sk-container-id-1 div.sk-dashed-wrapped {border: 1px dashed gray;margin: 0 0.4em 0.5em 0.4em;box-sizing: border-box;padding-bottom: 0.4em;background-color: white;}#sk-container-id-1 div.sk-label label {font-family: monospace;font-weight: bold;display: inline-block;line-height: 1.2em;}#sk-container-id-1 div.sk-label-container {text-align: center;}#sk-container-id-1 div.sk-container {/* jupyter's `normalize.less` sets `[hidden] { display: none; }` but bootstrap.min.css set `[hidden] { display: none !important; }` so we also need the `!important` here to be able to override the default hidden behavior on the sphinx rendered scikit-learn.org. See: https://github.com/scikit-learn/scikit-learn/issues/21755 */display: inline-block !important;position: relative;}#sk-container-id-1 div.sk-text-repr-fallback {display: none;}</style><div id=\"sk-container-id-1\" class=\"sk-top-container\"><div class=\"sk-text-repr-fallback\"><pre>LogisticRegression(max_iter=1000)</pre><b>In a Jupyter environment, please rerun this cell to show the HTML representation or trust the notebook. <br />On GitHub, the HTML representation is unable to render, please try loading this page with nbviewer.org.</b></div><div class=\"sk-container\" hidden><div class=\"sk-item\"><div class=\"sk-estimator sk-toggleable\"><input class=\"sk-toggleable__control sk-hidden--visually\" id=\"sk-estimator-id-1\" type=\"checkbox\" checked><label for=\"sk-estimator-id-1\" class=\"sk-toggleable__label sk-toggleable__label-arrow\">LogisticRegression</label><div class=\"sk-toggleable__content\"><pre>LogisticRegression(max_iter=1000)</pre></div></div></div></div></div>"
      ],
      "text/plain": [
       "LogisticRegression(max_iter=1000)"
      ]
     },
     "execution_count": 60,
     "metadata": {},
     "output_type": "execute_result"
    }
   ],
   "source": [
    "logreg=LogisticRegression(max_iter=1000)\n",
    "logreg.fit(X_train,y_train)"
   ]
  },
  {
   "cell_type": "code",
   "execution_count": 61,
   "metadata": {
    "execution": {
     "iopub.execute_input": "2023-06-07T14:20:51.679915Z",
     "iopub.status.busy": "2023-06-07T14:20:51.679211Z",
     "iopub.status.idle": "2023-06-07T14:20:51.723793Z",
     "shell.execute_reply": "2023-06-07T14:20:51.722648Z",
     "shell.execute_reply.started": "2023-06-07T14:20:51.679874Z"
    }
   },
   "outputs": [
    {
     "name": "stdout",
     "output_type": "stream",
     "text": [
      "Accuracy of Logistic Regression Classifier on test set: 0.890\n"
     ]
    }
   ],
   "source": [
    "y_pred = logreg.predict(X_test)\n",
    "print('Accuracy of Logistic Regression Classifier on test set: {:.3f}'.format(logreg.score(X_test, y_test)))"
   ]
  },
  {
   "cell_type": "markdown",
   "metadata": {},
   "source": [
    "## Confusion Matrix "
   ]
  },
  {
   "cell_type": "code",
   "execution_count": 62,
   "metadata": {
    "execution": {
     "iopub.execute_input": "2023-06-07T14:20:51.726590Z",
     "iopub.status.busy": "2023-06-07T14:20:51.725769Z",
     "iopub.status.idle": "2023-06-07T14:20:51.769638Z",
     "shell.execute_reply": "2023-06-07T14:20:51.768514Z",
     "shell.execute_reply.started": "2023-06-07T14:20:51.726547Z"
    }
   },
   "outputs": [
    {
     "name": "stdout",
     "output_type": "stream",
     "text": [
      "[[85363   525]\n",
      " [11130  9338]]\n"
     ]
    }
   ],
   "source": [
    "confusion_matrix=confusion_matrix(y_test,y_pred)\n",
    "print(confusion_matrix)"
   ]
  },
  {
   "cell_type": "markdown",
   "metadata": {},
   "source": [
    "## Classification Report"
   ]
  },
  {
   "cell_type": "code",
   "execution_count": 63,
   "metadata": {
    "execution": {
     "iopub.execute_input": "2023-06-07T14:20:51.772501Z",
     "iopub.status.busy": "2023-06-07T14:20:51.771654Z",
     "iopub.status.idle": "2023-06-07T14:20:51.962495Z",
     "shell.execute_reply": "2023-06-07T14:20:51.961256Z",
     "shell.execute_reply.started": "2023-06-07T14:20:51.772460Z"
    }
   },
   "outputs": [
    {
     "name": "stdout",
     "output_type": "stream",
     "text": [
      "              precision    recall  f1-score   support\n",
      "\n",
      "           0       0.88      0.99      0.94     85888\n",
      "           1       0.95      0.46      0.62     20468\n",
      "\n",
      "    accuracy                           0.89    106356\n",
      "   macro avg       0.92      0.73      0.78    106356\n",
      "weighted avg       0.90      0.89      0.87    106356\n",
      "\n"
     ]
    }
   ],
   "source": [
    "print(classification_report(y_test,y_pred))"
   ]
  },
  {
   "cell_type": "markdown",
   "metadata": {},
   "source": [
    "#### ROC Curve -\n",
    "\n",
    "An ROC curve (receiver operating characteristic curve) is a graph showing the performance of a classification model at all classification thresholds. This curve plots two parameters:\n",
    "\n",
    "- True Positive Rate\n",
    "- False Positive Rate\n",
    "\n",
    "True Positive Rate (TPR) is a synonym for recall and is therefore defined as follows:\n",
    "\n",
    "- TPR=(TP)/(TP+FN)\n",
    "\n",
    "False Positive Rate (FPR) is defined as follows:\n",
    "\n",
    "- FPR=(FP)/(FP+TN) \n",
    "\n",
    "An ROC curve plots TPR vs. FPR at different classification thresholds. Lowering the classification threshold classifies more items as positive, thus increasing both False Positives and True Positives. The following figure shows a typical ROC curve."
   ]
  },
  {
   "cell_type": "markdown",
   "metadata": {},
   "source": [
    "#### AUC (Area under the ROC Curve) -\n",
    "\n",
    "AUC stands for \"Area under the ROC Curve.\" That is, AUC measures the entire two-dimensional area underneath the entire ROC curve (think integral calculus) from (0,0) to (1,1).\n",
    "\n",
    "\n",
    "AUC provides an aggregate measure of performance across all possible classification thresholds. One way of interpreting AUC is as the probability that the model ranks a random positive example more highly than a random negative example. For example, given the following examples, which are arranged from left to right in ascending order of logistic regression predictions."
   ]
  },
  {
   "cell_type": "code",
   "execution_count": 64,
   "metadata": {
    "execution": {
     "iopub.execute_input": "2023-06-07T14:20:51.964610Z",
     "iopub.status.busy": "2023-06-07T14:20:51.964149Z",
     "iopub.status.idle": "2023-06-07T14:20:52.370194Z",
     "shell.execute_reply": "2023-06-07T14:20:52.369036Z",
     "shell.execute_reply.started": "2023-06-07T14:20:51.964570Z"
    }
   },
   "outputs": [
    {
     "data": {
      "image/png": "[encoded data removed]",
      "text/plain": [
       "<Figure size 432x288 with 1 Axes>"
      ]
     },
     "metadata": {
      "needs_background": "light"
     },
     "output_type": "display_data"
    }
   ],
   "source": [
    "logit_roc_auc=roc_auc_score(y_test,logreg.predict(X_test))\n",
    "fpr,tpr,thresholds=roc_curve(y_test,logreg.predict_proba(X_test)[:,1])\n",
    "plt.figure()\n",
    "plt.plot(fpr,tpr,label='Logistic Regression (area = %0.2f)' % logit_roc_auc)\n",
    "plt.plot([0,1],[0,1],'r--')\n",
    "plt.xlim([0.0,1.0])\n",
    "plt.ylim([0.0,1.05])\n",
    "plt.xlabel('False Positive Rate')\n",
    "plt.ylabel('True Positive Rate')\n",
    "plt.title('Receiver operating characteristic')\n",
    "plt.legend(loc=\"lower right\")\n",
    "plt.show()"
   ]
  },
  {
   "cell_type": "code",
   "execution_count": 65,
   "metadata": {
    "execution": {
     "iopub.execute_input": "2023-06-07T14:20:52.373093Z",
     "iopub.status.busy": "2023-06-07T14:20:52.372249Z",
     "iopub.status.idle": "2023-06-07T14:20:53.028826Z",
     "shell.execute_reply": "2023-06-07T14:20:53.027704Z",
     "shell.execute_reply.started": "2023-06-07T14:20:52.373053Z"
    }
   },
   "outputs": [
    {
     "data": {
      "image/png": "[encoded data removed]",
      "text/plain": [
       "<Figure size 432x288 with 1 Axes>"
      ]
     },
     "metadata": {
      "needs_background": "light"
     },
     "output_type": "display_data"
    }
   ],
   "source": [
    "def precission_recall_curve_plot(y_test,pred_proba_c1):\n",
    "    precisions, recalls, thresholds = precision_recall_curve(y_test,pred_proba_c1)\n",
    "    \n",
    "    threshold_boundary = thresholds.shape[0]\n",
    "    #plot precision\n",
    "    plt.plot(thresholds,precisions[0:threshold_boundary],linestyle='--',label='precision')\n",
    "    #plot recall\n",
    "    plt.plot(thresholds,recalls[0:threshold_boundary],label='recalls')\n",
    "    \n",
    "    start,end=plt.xlim()\n",
    "    plt.xticks(np.round(np.arange(start,end,0.1),2))\n",
    "    \n",
    "    plt.xlabel('Threshold Value')\n",
    "    plt.ylabel('Precision and Recall Value')\n",
    "    plt.legend()\n",
    "    plt.grid()\n",
    "    plt.show()\n",
    "\n",
    "precission_recall_curve_plot(y_test,logreg.predict_proba(X_test)[:,1])"
   ]
  },
  {
   "cell_type": "markdown",
   "metadata": {},
   "source": [
    "### Multicollinearity check using Variance Inflation Factor (VIF) -\n",
    "\n",
    "Multicollinearity occurs when two or more independent variables are highly correlated with one another in a regression model. Multicollinearity can be a problem in a regression model because we would not be able to distinguish between the individual effects of the independent variables on the dependent variable.\n",
    "\n",
    "Multicollinearity can be detected via various methods. One such method is Variance Inflation Factor aka VIF.\n",
    "In VIF method, we pick each independent feature and regress it against all of the other independent features.\n",
    "VIF score of an independent variable represents how well the variable is explained by other independent variables.\n",
    "\n",
    "VIF = 1/1-R2"
   ]
  },
  {
   "cell_type": "code",
   "execution_count": 66,
   "metadata": {
    "execution": {
     "iopub.execute_input": "2023-06-07T14:20:53.031779Z",
     "iopub.status.busy": "2023-06-07T14:20:53.030900Z",
     "iopub.status.idle": "2023-06-07T14:23:18.210400Z",
     "shell.execute_reply": "2023-06-07T14:23:18.208656Z",
     "shell.execute_reply.started": "2023-06-07T14:20:53.031738Z"
    }
   },
   "outputs": [
    {
     "data": {
      "text/html": [
       "<div>\n",
       "<style scoped>\n",
       "    .dataframe tbody tr th:only-of-type {\n",
       "        vertical-align: middle;\n",
       "    }\n",
       "\n",
       "    .dataframe tbody tr th {\n",
       "        vertical-align: top;\n",
       "    }\n",
       "\n",
       "    .dataframe thead th {\n",
       "        text-align: right;\n",
       "    }\n",
       "</style>\n",
       "<table border=\"1\" class=\"dataframe\">\n",
       "  <thead>\n",
       "    <tr style=\"text-align: right;\">\n",
       "      <th></th>\n",
       "      <th>Feature</th>\n",
       "      <th>VIF</th>\n",
       "    </tr>\n",
       "  </thead>\n",
       "  <tbody>\n",
       "    <tr>\n",
       "      <th>43</th>\n",
       "      <td>application_type_INDIVIDUAL</td>\n",
       "      <td>156.97</td>\n",
       "    </tr>\n",
       "    <tr>\n",
       "      <th>2</th>\n",
       "      <td>int_rate</td>\n",
       "      <td>122.82</td>\n",
       "    </tr>\n",
       "    <tr>\n",
       "      <th>14</th>\n",
       "      <td>purpose_debt_consolidation</td>\n",
       "      <td>51.00</td>\n",
       "    </tr>\n",
       "    <tr>\n",
       "      <th>1</th>\n",
       "      <td>term</td>\n",
       "      <td>27.30</td>\n",
       "    </tr>\n",
       "    <tr>\n",
       "      <th>13</th>\n",
       "      <td>purpose_credit_card</td>\n",
       "      <td>18.48</td>\n",
       "    </tr>\n",
       "  </tbody>\n",
       "</table>\n",
       "</div>"
      ],
      "text/plain": [
       "                        Feature     VIF\n",
       "43  application_type_INDIVIDUAL  156.97\n",
       "2                      int_rate  122.82\n",
       "14   purpose_debt_consolidation   51.00\n",
       "1                          term   27.30\n",
       "13          purpose_credit_card   18.48"
      ]
     },
     "execution_count": 66,
     "metadata": {},
     "output_type": "execute_result"
    }
   ],
   "source": [
    "def calc_vif(X):\n",
    "    # Calculating the VIF\n",
    "    vif=pd.DataFrame()\n",
    "    vif['Feature']=X.columns\n",
    "    vif['VIF']=[variance_inflation_factor(X.values,i) for i in range(X.shape[1])]\n",
    "    vif['VIF']=round(vif['VIF'],2)\n",
    "    vif=vif.sort_values(by='VIF',ascending=False)\n",
    "    return vif\n",
    "\n",
    "calc_vif(X)[:5]"
   ]
  },
  {
   "cell_type": "code",
   "execution_count": 67,
   "metadata": {
    "execution": {
     "iopub.execute_input": "2023-06-07T14:23:18.214563Z",
     "iopub.status.busy": "2023-06-07T14:23:18.213393Z",
     "iopub.status.idle": "2023-06-07T14:25:34.430547Z",
     "shell.execute_reply": "2023-06-07T14:25:34.428987Z",
     "shell.execute_reply.started": "2023-06-07T14:23:18.214503Z"
    }
   },
   "outputs": [
    {
     "data": {
      "text/html": [
       "<div>\n",
       "<style scoped>\n",
       "    .dataframe tbody tr th:only-of-type {\n",
       "        vertical-align: middle;\n",
       "    }\n",
       "\n",
       "    .dataframe tbody tr th {\n",
       "        vertical-align: top;\n",
       "    }\n",
       "\n",
       "    .dataframe thead th {\n",
       "        text-align: right;\n",
       "    }\n",
       "</style>\n",
       "<table border=\"1\" class=\"dataframe\">\n",
       "  <thead>\n",
       "    <tr style=\"text-align: right;\">\n",
       "      <th></th>\n",
       "      <th>Feature</th>\n",
       "      <th>VIF</th>\n",
       "    </tr>\n",
       "  </thead>\n",
       "  <tbody>\n",
       "    <tr>\n",
       "      <th>2</th>\n",
       "      <td>int_rate</td>\n",
       "      <td>103.43</td>\n",
       "    </tr>\n",
       "    <tr>\n",
       "      <th>14</th>\n",
       "      <td>purpose_debt_consolidation</td>\n",
       "      <td>27.49</td>\n",
       "    </tr>\n",
       "    <tr>\n",
       "      <th>1</th>\n",
       "      <td>term</td>\n",
       "      <td>24.31</td>\n",
       "    </tr>\n",
       "    <tr>\n",
       "      <th>5</th>\n",
       "      <td>open_acc</td>\n",
       "      <td>13.75</td>\n",
       "    </tr>\n",
       "    <tr>\n",
       "      <th>9</th>\n",
       "      <td>total_acc</td>\n",
       "      <td>12.69</td>\n",
       "    </tr>\n",
       "  </tbody>\n",
       "</table>\n",
       "</div>"
      ],
      "text/plain": [
       "                       Feature     VIF\n",
       "2                     int_rate  103.43\n",
       "14  purpose_debt_consolidation   27.49\n",
       "1                         term   24.31\n",
       "5                     open_acc   13.75\n",
       "9                    total_acc   12.69"
      ]
     },
     "execution_count": 67,
     "metadata": {},
     "output_type": "execute_result"
    }
   ],
   "source": [
    "X.drop(columns=['application_type_INDIVIDUAL'],axis=1,inplace=True)\n",
    "calc_vif(X)[:5]"
   ]
  },
  {
   "cell_type": "code",
   "execution_count": 68,
   "metadata": {
    "execution": {
     "iopub.execute_input": "2023-06-07T14:25:34.434562Z",
     "iopub.status.busy": "2023-06-07T14:25:34.433380Z",
     "iopub.status.idle": "2023-06-07T14:27:43.511518Z",
     "shell.execute_reply": "2023-06-07T14:27:43.510079Z",
     "shell.execute_reply.started": "2023-06-07T14:25:34.434500Z"
    }
   },
   "outputs": [
    {
     "data": {
      "text/html": [
       "<div>\n",
       "<style scoped>\n",
       "    .dataframe tbody tr th:only-of-type {\n",
       "        vertical-align: middle;\n",
       "    }\n",
       "\n",
       "    .dataframe tbody tr th {\n",
       "        vertical-align: top;\n",
       "    }\n",
       "\n",
       "    .dataframe thead th {\n",
       "        text-align: right;\n",
       "    }\n",
       "</style>\n",
       "<table border=\"1\" class=\"dataframe\">\n",
       "  <thead>\n",
       "    <tr style=\"text-align: right;\">\n",
       "      <th></th>\n",
       "      <th>Feature</th>\n",
       "      <th>VIF</th>\n",
       "    </tr>\n",
       "  </thead>\n",
       "  <tbody>\n",
       "    <tr>\n",
       "      <th>1</th>\n",
       "      <td>term</td>\n",
       "      <td>23.35</td>\n",
       "    </tr>\n",
       "    <tr>\n",
       "      <th>13</th>\n",
       "      <td>purpose_debt_consolidation</td>\n",
       "      <td>22.35</td>\n",
       "    </tr>\n",
       "    <tr>\n",
       "      <th>4</th>\n",
       "      <td>open_acc</td>\n",
       "      <td>13.64</td>\n",
       "    </tr>\n",
       "    <tr>\n",
       "      <th>8</th>\n",
       "      <td>total_acc</td>\n",
       "      <td>12.69</td>\n",
       "    </tr>\n",
       "    <tr>\n",
       "      <th>7</th>\n",
       "      <td>revol_util</td>\n",
       "      <td>9.06</td>\n",
       "    </tr>\n",
       "  </tbody>\n",
       "</table>\n",
       "</div>"
      ],
      "text/plain": [
       "                       Feature    VIF\n",
       "1                         term  23.35\n",
       "13  purpose_debt_consolidation  22.35\n",
       "4                     open_acc  13.64\n",
       "8                    total_acc  12.69\n",
       "7                   revol_util   9.06"
      ]
     },
     "execution_count": 68,
     "metadata": {},
     "output_type": "execute_result"
    }
   ],
   "source": [
    "X.drop(columns=['int_rate'], axis=1, inplace=True)\n",
    "calc_vif(X)[:5]"
   ]
  },
  {
   "cell_type": "code",
   "execution_count": 69,
   "metadata": {
    "execution": {
     "iopub.execute_input": "2023-06-07T14:27:43.515035Z",
     "iopub.status.busy": "2023-06-07T14:27:43.513989Z",
     "iopub.status.idle": "2023-06-07T14:29:45.610867Z",
     "shell.execute_reply": "2023-06-07T14:29:45.609224Z",
     "shell.execute_reply.started": "2023-06-07T14:27:43.514995Z"
    }
   },
   "outputs": [
    {
     "data": {
      "text/html": [
       "<div>\n",
       "<style scoped>\n",
       "    .dataframe tbody tr th:only-of-type {\n",
       "        vertical-align: middle;\n",
       "    }\n",
       "\n",
       "    .dataframe tbody tr th {\n",
       "        vertical-align: top;\n",
       "    }\n",
       "\n",
       "    .dataframe thead th {\n",
       "        text-align: right;\n",
       "    }\n",
       "</style>\n",
       "<table border=\"1\" class=\"dataframe\">\n",
       "  <thead>\n",
       "    <tr style=\"text-align: right;\">\n",
       "      <th></th>\n",
       "      <th>Feature</th>\n",
       "      <th>VIF</th>\n",
       "    </tr>\n",
       "  </thead>\n",
       "  <tbody>\n",
       "    <tr>\n",
       "      <th>12</th>\n",
       "      <td>purpose_debt_consolidation</td>\n",
       "      <td>18.37</td>\n",
       "    </tr>\n",
       "    <tr>\n",
       "      <th>3</th>\n",
       "      <td>open_acc</td>\n",
       "      <td>13.64</td>\n",
       "    </tr>\n",
       "    <tr>\n",
       "      <th>7</th>\n",
       "      <td>total_acc</td>\n",
       "      <td>12.65</td>\n",
       "    </tr>\n",
       "    <tr>\n",
       "      <th>6</th>\n",
       "      <td>revol_util</td>\n",
       "      <td>9.04</td>\n",
       "    </tr>\n",
       "    <tr>\n",
       "      <th>1</th>\n",
       "      <td>annual_inc</td>\n",
       "      <td>8.03</td>\n",
       "    </tr>\n",
       "  </tbody>\n",
       "</table>\n",
       "</div>"
      ],
      "text/plain": [
       "                       Feature    VIF\n",
       "12  purpose_debt_consolidation  18.37\n",
       "3                     open_acc  13.64\n",
       "7                    total_acc  12.65\n",
       "6                   revol_util   9.04\n",
       "1                   annual_inc   8.03"
      ]
     },
     "execution_count": 69,
     "metadata": {},
     "output_type": "execute_result"
    }
   ],
   "source": [
    "X.drop(columns=['term'], axis=1, inplace=True)\n",
    "calc_vif(X)[:5]"
   ]
  },
  {
   "cell_type": "code",
   "execution_count": 70,
   "metadata": {
    "execution": {
     "iopub.execute_input": "2023-06-07T14:29:45.619057Z",
     "iopub.status.busy": "2023-06-07T14:29:45.616010Z",
     "iopub.status.idle": "2023-06-07T14:31:42.671448Z",
     "shell.execute_reply": "2023-06-07T14:31:42.670084Z",
     "shell.execute_reply.started": "2023-06-07T14:29:45.618986Z"
    }
   },
   "outputs": [
    {
     "data": {
      "text/html": [
       "<div>\n",
       "<style scoped>\n",
       "    .dataframe tbody tr th:only-of-type {\n",
       "        vertical-align: middle;\n",
       "    }\n",
       "\n",
       "    .dataframe tbody tr th {\n",
       "        vertical-align: top;\n",
       "    }\n",
       "\n",
       "    .dataframe thead th {\n",
       "        text-align: right;\n",
       "    }\n",
       "</style>\n",
       "<table border=\"1\" class=\"dataframe\">\n",
       "  <thead>\n",
       "    <tr style=\"text-align: right;\">\n",
       "      <th></th>\n",
       "      <th>Feature</th>\n",
       "      <th>VIF</th>\n",
       "    </tr>\n",
       "  </thead>\n",
       "  <tbody>\n",
       "    <tr>\n",
       "      <th>3</th>\n",
       "      <td>open_acc</td>\n",
       "      <td>13.09</td>\n",
       "    </tr>\n",
       "    <tr>\n",
       "      <th>7</th>\n",
       "      <td>total_acc</td>\n",
       "      <td>12.64</td>\n",
       "    </tr>\n",
       "    <tr>\n",
       "      <th>6</th>\n",
       "      <td>revol_util</td>\n",
       "      <td>8.31</td>\n",
       "    </tr>\n",
       "    <tr>\n",
       "      <th>1</th>\n",
       "      <td>annual_inc</td>\n",
       "      <td>7.70</td>\n",
       "    </tr>\n",
       "    <tr>\n",
       "      <th>2</th>\n",
       "      <td>dti</td>\n",
       "      <td>7.58</td>\n",
       "    </tr>\n",
       "  </tbody>\n",
       "</table>\n",
       "</div>"
      ],
      "text/plain": [
       "      Feature    VIF\n",
       "3    open_acc  13.09\n",
       "7   total_acc  12.64\n",
       "6  revol_util   8.31\n",
       "1  annual_inc   7.70\n",
       "2         dti   7.58"
      ]
     },
     "execution_count": 70,
     "metadata": {},
     "output_type": "execute_result"
    }
   ],
   "source": [
    "X.drop(columns=['purpose_debt_consolidation'], axis=1, inplace=True)\n",
    "calc_vif(X)[:5]"
   ]
  },
  {
   "cell_type": "code",
   "execution_count": 71,
   "metadata": {
    "execution": {
     "iopub.execute_input": "2023-06-07T14:31:42.674008Z",
     "iopub.status.busy": "2023-06-07T14:31:42.673241Z",
     "iopub.status.idle": "2023-06-07T14:33:34.503857Z",
     "shell.execute_reply": "2023-06-07T14:33:34.502260Z",
     "shell.execute_reply.started": "2023-06-07T14:31:42.673975Z"
    }
   },
   "outputs": [
    {
     "data": {
      "text/html": [
       "<div>\n",
       "<style scoped>\n",
       "    .dataframe tbody tr th:only-of-type {\n",
       "        vertical-align: middle;\n",
       "    }\n",
       "\n",
       "    .dataframe tbody tr th {\n",
       "        vertical-align: top;\n",
       "    }\n",
       "\n",
       "    .dataframe thead th {\n",
       "        text-align: right;\n",
       "    }\n",
       "</style>\n",
       "<table border=\"1\" class=\"dataframe\">\n",
       "  <thead>\n",
       "    <tr style=\"text-align: right;\">\n",
       "      <th></th>\n",
       "      <th>Feature</th>\n",
       "      <th>VIF</th>\n",
       "    </tr>\n",
       "  </thead>\n",
       "  <tbody>\n",
       "    <tr>\n",
       "      <th>6</th>\n",
       "      <td>total_acc</td>\n",
       "      <td>8.23</td>\n",
       "    </tr>\n",
       "    <tr>\n",
       "      <th>5</th>\n",
       "      <td>revol_util</td>\n",
       "      <td>8.00</td>\n",
       "    </tr>\n",
       "    <tr>\n",
       "      <th>1</th>\n",
       "      <td>annual_inc</td>\n",
       "      <td>7.60</td>\n",
       "    </tr>\n",
       "    <tr>\n",
       "      <th>2</th>\n",
       "      <td>dti</td>\n",
       "      <td>7.02</td>\n",
       "    </tr>\n",
       "    <tr>\n",
       "      <th>0</th>\n",
       "      <td>loan_amnt</td>\n",
       "      <td>6.72</td>\n",
       "    </tr>\n",
       "  </tbody>\n",
       "</table>\n",
       "</div>"
      ],
      "text/plain": [
       "      Feature   VIF\n",
       "6   total_acc  8.23\n",
       "5  revol_util  8.00\n",
       "1  annual_inc  7.60\n",
       "2         dti  7.02\n",
       "0   loan_amnt  6.72"
      ]
     },
     "execution_count": 71,
     "metadata": {},
     "output_type": "execute_result"
    }
   ],
   "source": [
    "X.drop(columns=['open_acc'], axis=1, inplace=True)\n",
    "calc_vif(X)[:5]"
   ]
  },
  {
   "cell_type": "code",
   "execution_count": 72,
   "metadata": {
    "execution": {
     "iopub.execute_input": "2023-06-07T14:33:34.514823Z",
     "iopub.status.busy": "2023-06-07T14:33:34.511056Z",
     "iopub.status.idle": "2023-06-07T14:34:01.869092Z",
     "shell.execute_reply": "2023-06-07T14:34:01.867557Z",
     "shell.execute_reply.started": "2023-06-07T14:33:34.514757Z"
    }
   },
   "outputs": [
    {
     "name": "stdout",
     "output_type": "stream",
     "text": [
      "Cross Validation accuracy : 0.891\n"
     ]
    }
   ],
   "source": [
    "X=scaler.fit_transform(X)\n",
    "\n",
    "kfold=KFold(n_splits=5)\n",
    "accuracy=np.mean(cross_val_score(logreg,X,y,cv=kfold,scoring='accuracy',n_jobs=-1))\n",
    "print(\"Cross Validation accuracy : {:.3f}\".format(accuracy))"
   ]
  },
  {
   "cell_type": "markdown",
   "metadata": {},
   "source": [
    "# Tradeoff Questions:\n",
    "\n",
    "## Question : How can we make sure that our model can detect real defaulters and there are less false positives? This is important as we can lose out on an opportunity to finance more individuals and earn interest on it.\n",
    "\n",
    "## Answer:  To keep very less False Positives, oversampling techniques like SMOTE should be used in model creation. Also we can use more complex algorithms like SVM, Decision-Trees, Random Forest and also try various hyperparameter tunning. As you can see from the data, the percentage of defaulters is slightly higher than Banking industry.\n",
    "\n",
    "\n",
    "## Question : Since NPA (non-performing asset) is a real problem in this industry, it’s important we play safe and shouldn’t disburse loans to anyone.\n",
    "\n",
    "## Answer : Yes. Company should not disburse loans to everyone. Company’s internal policy and analysis should be in place to identify the correct persons. From data provided, 20% of people default on their loan, which inturn become NPAs for the company.\n",
    "## Low False positive means we should create the model with high Precision values. This can be achieved if we are keeping high threshold value in logistic Regression model.\n",
    "##  But keeping too high values for threshold will increase False Negatives. This intuen may result in opportunity loss. In this case we will not give loans to persons which will not default but our model has predicted that they will default. "
   ]
  },
  {
   "cell_type": "markdown",
   "metadata": {},
   "source": [
    "## Oversampling using SMOTE"
   ]
  },
  {
   "cell_type": "code",
   "execution_count": 73,
   "metadata": {
    "execution": {
     "iopub.execute_input": "2023-06-07T14:34:01.871963Z",
     "iopub.status.busy": "2023-06-07T14:34:01.871453Z",
     "iopub.status.idle": "2023-06-07T14:34:09.581619Z",
     "shell.execute_reply": "2023-06-07T14:34:09.580378Z",
     "shell.execute_reply.started": "2023-06-07T14:34:01.871912Z"
    }
   },
   "outputs": [],
   "source": [
    "sm=SMOTE(random_state=42)\n",
    "X_train_res,y_train_res=sm.fit_resample(X_train,y_train.ravel())"
   ]
  },
  {
   "cell_type": "code",
   "execution_count": 74,
   "metadata": {
    "execution": {
     "iopub.execute_input": "2023-06-07T14:34:09.584388Z",
     "iopub.status.busy": "2023-06-07T14:34:09.583291Z",
     "iopub.status.idle": "2023-06-07T14:34:09.792583Z",
     "shell.execute_reply": "2023-06-07T14:34:09.791203Z",
     "shell.execute_reply.started": "2023-06-07T14:34:09.584343Z"
    }
   },
   "outputs": [
    {
     "name": "stdout",
     "output_type": "stream",
     "text": [
      "After OverSampling, the shape of train_X: (400810, 48)\n",
      "After OverSampling, the shape of train_y: (400810,) \n",
      "\n",
      "After OverSampling, counts of label '1': 200405\n",
      "After OverSampling, counts of label '0': 200405\n"
     ]
    }
   ],
   "source": [
    "print('After OverSampling, the shape of train_X: {}'.format(X_train_res.shape))\n",
    "print('After OverSampling, the shape of train_y: {} \\n'.format(y_train_res.shape))\n",
    "  \n",
    "print(\"After OverSampling, counts of label '1': {}\".format(sum(y_train_res == 1)))\n",
    "print(\"After OverSampling, counts of label '0': {}\".format(sum(y_train_res == 0)))"
   ]
  },
  {
   "cell_type": "code",
   "execution_count": 75,
   "metadata": {
    "execution": {
     "iopub.execute_input": "2023-06-07T14:34:09.794438Z",
     "iopub.status.busy": "2023-06-07T14:34:09.794095Z",
     "iopub.status.idle": "2023-06-07T14:34:35.619005Z",
     "shell.execute_reply": "2023-06-07T14:34:35.617707Z",
     "shell.execute_reply.started": "2023-06-07T14:34:09.794410Z"
    }
   },
   "outputs": [
    {
     "name": "stdout",
     "output_type": "stream",
     "text": [
      "              precision    recall  f1-score   support\n",
      "\n",
      "           0       0.95      0.80      0.87     85888\n",
      "           1       0.49      0.81      0.61     20468\n",
      "\n",
      "    accuracy                           0.80    106356\n",
      "   macro avg       0.72      0.80      0.74    106356\n",
      "weighted avg       0.86      0.80      0.82    106356\n",
      "\n"
     ]
    }
   ],
   "source": [
    "lr1 = LogisticRegression(max_iter=1000)\n",
    "lr1.fit(X_train_res, y_train_res)\n",
    "predictions = lr1.predict(X_test)\n",
    "  \n",
    "# Classification Report\n",
    "print(classification_report(y_test, predictions))"
   ]
  },
  {
   "cell_type": "code",
   "execution_count": 76,
   "metadata": {
    "execution": {
     "iopub.execute_input": "2023-06-07T14:34:35.621277Z",
     "iopub.status.busy": "2023-06-07T14:34:35.620902Z",
     "iopub.status.idle": "2023-06-07T14:34:36.277987Z",
     "shell.execute_reply": "2023-06-07T14:34:36.276780Z",
     "shell.execute_reply.started": "2023-06-07T14:34:35.621238Z"
    }
   },
   "outputs": [
    {
     "data": {
      "image/png": "[encoded data removed]",
      "text/plain": [
       "<Figure size 432x288 with 1 Axes>"
      ]
     },
     "metadata": {
      "needs_background": "light"
     },
     "output_type": "display_data"
    }
   ],
   "source": [
    "def precision_recall_curve_plot(y_test, pred_proba_c1):\n",
    "    precisions, recalls, thresholds = precision_recall_curve(y_test, pred_proba_c1)\n",
    "    \n",
    "    threshold_boundary = thresholds.shape[0]\n",
    "    # plot precision\n",
    "    plt.plot(thresholds, precisions[0:threshold_boundary], linestyle='--', label='precision')\n",
    "    # plot recall\n",
    "    plt.plot(thresholds, recalls[0:threshold_boundary], label='recalls')\n",
    "    \n",
    "    start, end = plt.xlim()\n",
    "    plt.xticks(np.round(np.arange(start, end, 0.1), 2))\n",
    "    \n",
    "    plt.xlabel('Threshold Value'); plt.ylabel('Precision and Recall Value')\n",
    "    plt.legend(); plt.grid()\n",
    "    plt.show()\n",
    "    \n",
    "precision_recall_curve_plot(y_test, lr1.predict_proba(X_test)[:,1])"
   ]
  },
  {
   "cell_type": "markdown",
   "metadata": {},
   "source": [
    "# Actionable Insights & Recommendations:\n",
    "\n",
    "- Around 80.26% of customers have fully paid their Loan Amount. The defaulters are ~ 20%. From Personal loan business perspective this ratio is high. These 20% will contribute in NPAs of Company. To reduce the risk of NPAs:\n",
    "    * Company should add slightly stringent rules to bring down this ratio to 5% to 6%.\n",
    "    * Company should provide loans at slightly higher rate than other Banks. This will offset the risks of defaulters and    maintain the profitability of the business.\n",
    "- Overall Statistics of the Model:\n",
    "    * Accuracy = 89%\n",
    "    * Precision = 88 %\n",
    "    * Recall = 99 %\n",
    "    * F1 -score = 94%\n",
    "- Model created has high values for accuracy, precision, recall & f1-score. This means, this model is a good classifier. Overall, it has good prediction capability in identifying right customers (which can be easily converted).\n",
    "    * However this model has slightly low capability on correctly identifying defaulters. Overall data has 20% defaulters, model is able to predict 10% of them correctly.\n",
    "    * Using this model, Company can easily reduce the ration of defaulters in their portfolio.\n",
    "\n",
    "- Features which have significant impact on outcome are as follow:\n",
    "\n",
    "    * int_rate: Interest Rate\n",
    "    * sub_grade: loan subgrade\n",
    "    * term : number of payments on the loan\n",
    "    * home_ownership\n",
    "    * purpose\n",
    "    * application_type\n",
    "    * pincode (from address)\n",
    "    * emp_title: job title supplied by the Borrower\n",
    "- sub_grade and grade logic to classify persons by Company is well created. From the model it is considered to be significant.\n",
    "- pincode is significant feature.\n",
    "    * Pincodes with Negative Coefficient: 93700, 11650, 86630, 48052, 30723, 70466, 22690\n",
    "    * Pincodes with Positive Coefficient: 05113, 29597\n",
    "    * Company can increase their market presence in Pincodes with Positive Coefficient.\n",
    "    * Company should minimize their marketing/sales expenditure in Pincodes with Negative Coefficient.\n",
    "    * Pincode based market segmentation should be included at strategic levels.\n",
    "- emp_title Owner & Driver has negative Coefficient. emp_title Project Manager has positive Coefficient. Company can also decide their social media based marketing based on person's job-titles.\n",
    "- application_type JOINT has positive Coefficient. Which means Company can promote persons to apply for joint loan. Because of this, chances of default will reduce.\n",
    "- Purpose Renewable energy has negative Coefficient. This means Company should stick to giving loans to conventional purposes like Marriage, car etc.\n",
    "- Term 60 months has negative Coefficient. Which means Company should focus more on Loans for shorter duration (i.e. 36 months). Their social media campaign and marketing strategy should be based on this consideration."
   ]
  },
  {
   "cell_type": "code",
   "execution_count": null,
   "metadata": {},
   "outputs": [],
   "source": []
  }
 ],
 "metadata": {
  "kernelspec": {
   "display_name": "Python 3 (ipykernel)",
   "language": "python",
   "name": "python3"
  },
  "language_info": {
   "codemirror_mode": {
    "name": "ipython",
    "version": 3
   },
   "file_extension": ".py",
   "mimetype": "text/x-python",
   "name": "python",
   "nbconvert_exporter": "python",
   "pygments_lexer": "ipython3",
   "version": "3.10.5"
  }
 },
 "nbformat": 4,
 "nbformat_minor": 4
}
