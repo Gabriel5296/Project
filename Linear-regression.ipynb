{
 "cells": [
  {
   "cell_type": "code",
   "execution_count": 41,
   "id": "0417036b",
   "metadata": {
    "_cell_guid": "b1076dfc-b9ad-4769-8c92-a6c4dae69d19",
    "_uuid": "8f2839f25d086af736a60e9eeb907d3b93b6e0e5",
    "execution": {
     "iopub.execute_input": "2023-06-06T18:41:28.790938Z",
     "iopub.status.busy": "2023-06-06T18:41:28.790447Z",
     "iopub.status.idle": "2023-06-06T18:41:28.810964Z",
     "shell.execute_reply": "2023-06-06T18:41:28.808982Z"
    },
    "papermill": {
     "duration": 0.043589,
     "end_time": "2023-06-06T18:41:28.813940",
     "exception": false,
     "start_time": "2023-06-06T18:41:28.770351",
     "status": "completed"
    },
    "tags": []
   },
   "outputs": [],
   "source": [
    "import pandas as pd"
   ]
  },
  {
   "cell_type": "code",
   "execution_count": 3,
   "id": "e92f58ee",
   "metadata": {
    "execution": {
     "iopub.execute_input": "2023-06-06T18:41:28.852084Z",
     "iopub.status.busy": "2023-06-06T18:41:28.851666Z",
     "iopub.status.idle": "2023-06-06T18:41:28.919973Z",
     "shell.execute_reply": "2023-06-06T18:41:28.918770Z"
    },
    "papermill": {
     "duration": 0.090665,
     "end_time": "2023-06-06T18:41:28.922917",
     "exception": false,
     "start_time": "2023-06-06T18:41:28.832252",
     "status": "completed"
    },
    "tags": []
   },
   "outputs": [
    {
     "data": {
      "text/html": [
       "<div>\n",
       "<style scoped>\n",
       "    .dataframe tbody tr th:only-of-type {\n",
       "        vertical-align: middle;\n",
       "    }\n",
       "\n",
       "    .dataframe tbody tr th {\n",
       "        vertical-align: top;\n",
       "    }\n",
       "\n",
       "    .dataframe thead th {\n",
       "        text-align: right;\n",
       "    }\n",
       "</style>\n",
       "<table border=\"1\" class=\"dataframe\">\n",
       "  <thead>\n",
       "    <tr style=\"text-align: right;\">\n",
       "      <th></th>\n",
       "      <th>Serial No.</th>\n",
       "      <th>GRE Score</th>\n",
       "      <th>TOEFL Score</th>\n",
       "      <th>University Rating</th>\n",
       "      <th>SOP</th>\n",
       "      <th>LOR</th>\n",
       "      <th>CGPA</th>\n",
       "      <th>Research</th>\n",
       "      <th>Chance of Admit</th>\n",
       "    </tr>\n",
       "  </thead>\n",
       "  <tbody>\n",
       "    <tr>\n",
       "      <th>0</th>\n",
       "      <td>1</td>\n",
       "      <td>337</td>\n",
       "      <td>118</td>\n",
       "      <td>4</td>\n",
       "      <td>4.5</td>\n",
       "      <td>4.5</td>\n",
       "      <td>9.65</td>\n",
       "      <td>1</td>\n",
       "      <td>0.92</td>\n",
       "    </tr>\n",
       "    <tr>\n",
       "      <th>1</th>\n",
       "      <td>2</td>\n",
       "      <td>324</td>\n",
       "      <td>107</td>\n",
       "      <td>4</td>\n",
       "      <td>4.0</td>\n",
       "      <td>4.5</td>\n",
       "      <td>8.87</td>\n",
       "      <td>1</td>\n",
       "      <td>0.76</td>\n",
       "    </tr>\n",
       "    <tr>\n",
       "      <th>2</th>\n",
       "      <td>3</td>\n",
       "      <td>316</td>\n",
       "      <td>104</td>\n",
       "      <td>3</td>\n",
       "      <td>3.0</td>\n",
       "      <td>3.5</td>\n",
       "      <td>8.00</td>\n",
       "      <td>1</td>\n",
       "      <td>0.72</td>\n",
       "    </tr>\n",
       "    <tr>\n",
       "      <th>3</th>\n",
       "      <td>4</td>\n",
       "      <td>322</td>\n",
       "      <td>110</td>\n",
       "      <td>3</td>\n",
       "      <td>3.5</td>\n",
       "      <td>2.5</td>\n",
       "      <td>8.67</td>\n",
       "      <td>1</td>\n",
       "      <td>0.80</td>\n",
       "    </tr>\n",
       "    <tr>\n",
       "      <th>4</th>\n",
       "      <td>5</td>\n",
       "      <td>314</td>\n",
       "      <td>103</td>\n",
       "      <td>2</td>\n",
       "      <td>2.0</td>\n",
       "      <td>3.0</td>\n",
       "      <td>8.21</td>\n",
       "      <td>0</td>\n",
       "      <td>0.65</td>\n",
       "    </tr>\n",
       "  </tbody>\n",
       "</table>\n",
       "</div>"
      ],
      "text/plain": [
       "   Serial No.  GRE Score  TOEFL Score  University Rating  SOP  LOR   CGPA  \\\n",
       "0           1        337          118                  4  4.5   4.5  9.65   \n",
       "1           2        324          107                  4  4.0   4.5  8.87   \n",
       "2           3        316          104                  3  3.0   3.5  8.00   \n",
       "3           4        322          110                  3  3.5   2.5  8.67   \n",
       "4           5        314          103                  2  2.0   3.0  8.21   \n",
       "\n",
       "   Research  Chance of Admit   \n",
       "0         1              0.92  \n",
       "1         1              0.76  \n",
       "2         1              0.72  \n",
       "3         1              0.80  \n",
       "4         0              0.65  "
      ]
     },
     "execution_count": 3,
     "metadata": {},
     "output_type": "execute_result"
    }
   ],
   "source": [
    "df=pd.read_csv('data.csv')\n",
    "df.head()"
   ]
  },
  {
   "cell_type": "markdown",
   "id": "243199db",
   "metadata": {},
   "source": [
    "# Problem Statement:"
   ]
  },
  {
   "cell_type": "markdown",
   "id": "f5d26f61",
   "metadata": {},
   "source": [
    "### Analyse the data set that will help in understanding what factors are important in graduate admissions and how these factors are interrelated among themselves.Build a model that will help predict one's chances of admission given the rest of the variables."
   ]
  },
  {
   "cell_type": "code",
   "execution_count": 4,
   "id": "1ee32678",
   "metadata": {
    "execution": {
     "iopub.execute_input": "2023-06-06T18:41:28.962687Z",
     "iopub.status.busy": "2023-06-06T18:41:28.961599Z",
     "iopub.status.idle": "2023-06-06T18:41:28.970864Z",
     "shell.execute_reply": "2023-06-06T18:41:28.969514Z"
    },
    "papermill": {
     "duration": 0.032052,
     "end_time": "2023-06-06T18:41:28.973394",
     "exception": false,
     "start_time": "2023-06-06T18:41:28.941342",
     "status": "completed"
    },
    "tags": []
   },
   "outputs": [
    {
     "data": {
      "text/plain": [
       "(500, 9)"
      ]
     },
     "execution_count": 4,
     "metadata": {},
     "output_type": "execute_result"
    }
   ],
   "source": [
    "df.shape"
   ]
  },
  {
   "cell_type": "markdown",
   "id": "77f378cc",
   "metadata": {
    "papermill": {
     "duration": 0.017355,
     "end_time": "2023-06-06T18:41:29.008633",
     "exception": false,
     "start_time": "2023-06-06T18:41:28.991278",
     "status": "completed"
    },
    "tags": []
   },
   "source": [
    "Now,let us drop the irrelevant column and check if there are any null values in the dataset"
   ]
  },
  {
   "cell_type": "code",
   "execution_count": 5,
   "id": "d20d5db7",
   "metadata": {
    "execution": {
     "iopub.execute_input": "2023-06-06T18:41:29.047810Z",
     "iopub.status.busy": "2023-06-06T18:41:29.046078Z",
     "iopub.status.idle": "2023-06-06T18:41:29.067905Z",
     "shell.execute_reply": "2023-06-06T18:41:29.067069Z"
    },
    "papermill": {
     "duration": 0.04384,
     "end_time": "2023-06-06T18:41:29.070138",
     "exception": false,
     "start_time": "2023-06-06T18:41:29.026298",
     "status": "completed"
    },
    "tags": []
   },
   "outputs": [
    {
     "data": {
      "text/plain": [
       "GRE Score            0\n",
       "TOEFL Score          0\n",
       "University Rating    0\n",
       "SOP                  0\n",
       "LOR                  0\n",
       "CGPA                 0\n",
       "Research             0\n",
       "Chance of Admit      0\n",
       "dtype: int64"
      ]
     },
     "execution_count": 5,
     "metadata": {},
     "output_type": "execute_result"
    }
   ],
   "source": [
    "df=df.drop(['Serial No.'],axis=1)\n",
    "df.isnull().sum()"
   ]
  },
  {
   "cell_type": "markdown",
   "id": "d0707fce",
   "metadata": {
    "papermill": {
     "duration": 0.018309,
     "end_time": "2023-06-06T18:41:29.106932",
     "exception": false,
     "start_time": "2023-06-06T18:41:29.088623",
     "status": "completed"
    },
    "tags": []
   },
   "source": [
    "Lets see the distribution of the variables of graduate applicants."
   ]
  },
  {
   "cell_type": "code",
   "execution_count": 7,
   "id": "0520d1f6",
   "metadata": {
    "execution": {
     "iopub.execute_input": "2023-06-06T18:41:29.146133Z",
     "iopub.status.busy": "2023-06-06T18:41:29.145732Z",
     "iopub.status.idle": "2023-06-06T18:41:32.623980Z",
     "shell.execute_reply": "2023-06-06T18:41:32.622670Z"
    },
    "papermill": {
     "duration": 3.50104,
     "end_time": "2023-06-06T18:41:32.626992",
     "exception": false,
     "start_time": "2023-06-06T18:41:29.125952",
     "status": "completed"
    },
    "tags": []
   },
   "outputs": [
    {
     "data": {
      "image/png": "[encoded data removed]",
      "text/plain": [
       "<Figure size 360x360 with 1 Axes>"
      ]
     },
     "metadata": {
      "needs_background": "light"
     },
     "output_type": "display_data"
    },
    {
     "data": {
      "image/png": "[encoded data removed]",
      "text/plain": [
       "<Figure size 360x360 with 1 Axes>"
      ]
     },
     "metadata": {
      "needs_background": "light"
     },
     "output_type": "display_data"
    },
    {
     "data": {
      "image/png": "[encoded data removed]",
      "text/plain": [
       "<Figure size 360x360 with 1 Axes>"
      ]
     },
     "metadata": {
      "needs_background": "light"
     },
     "output_type": "display_data"
    },
    {
     "data": {
      "image/png": "[encoded data removed]",
      "text/plain": [
       "<Figure size 360x360 with 1 Axes>"
      ]
     },
     "metadata": {
      "needs_background": "light"
     },
     "output_type": "display_data"
    },
    {
     "data": {
      "image/png": "[encoded data removed]",
      "text/plain": [
       "<Figure size 360x360 with 1 Axes>"
      ]
     },
     "metadata": {
      "needs_background": "light"
     },
     "output_type": "display_data"
    }
   ],
   "source": [
    "import matplotlib.pyplot as plt\n",
    "import seaborn as sns\n",
    "\n",
    "fig=sns.displot(df['GRE Score'],kde=False)\n",
    "plt.title(\"Distribution of GRE Scores\")\n",
    "plt.show()\n",
    "\n",
    "fig=sns.displot(df['TOEFL Score'],kde=False)\n",
    "plt.title(\"Distribution of TOEFL Scores\")\n",
    "plt.show()\n",
    "\n",
    "fig=sns.displot(df['University Rating'],kde=False)\n",
    "plt.title(\"Distribution of University Rating\")\n",
    "plt.show()\n",
    "\n",
    "fig=sns.displot(df['SOP'],kde=False)\n",
    "plt.title(\"Distribution of SOP Ratings\")\n",
    "plt.show()\n",
    "\n",
    "fig=sns.displot(df['CGPA'],kde=False)\n",
    "plt.title(\"Distribution of CGPA Ratings\")\n",
    "plt.show()\n",
    "\n",
    "plt.show()\n",
    "\n"
   ]
  },
  {
   "cell_type": "markdown",
   "id": "8a8da391",
   "metadata": {
    "papermill": {
     "duration": 0.020164,
     "end_time": "2023-06-06T18:41:32.669239",
     "exception": false,
     "start_time": "2023-06-06T18:41:32.649075",
     "status": "completed"
    },
    "tags": []
   },
   "source": [
    "It is clear from the distributions, students with varied merit apply for the university.\n",
    "\n",
    "\n",
    "**Understanding the relation between different factors responsible for graduate admissions**"
   ]
  },
  {
   "cell_type": "code",
   "execution_count": 8,
   "id": "72443921",
   "metadata": {
    "execution": {
     "iopub.execute_input": "2023-06-06T18:41:32.715016Z",
     "iopub.status.busy": "2023-06-06T18:41:32.713862Z",
     "iopub.status.idle": "2023-06-06T18:41:33.227454Z",
     "shell.execute_reply": "2023-06-06T18:41:33.225741Z"
    },
    "papermill": {
     "duration": 0.540318,
     "end_time": "2023-06-06T18:41:33.230262",
     "exception": false,
     "start_time": "2023-06-06T18:41:32.689944",
     "status": "completed"
    },
    "tags": []
   },
   "outputs": [
    {
     "data": {
      "image/png": "[encoded data removed]",
      "text/plain": [
       "<Figure size 432x288 with 1 Axes>"
      ]
     },
     "metadata": {
      "needs_background": "light"
     },
     "output_type": "display_data"
    }
   ],
   "source": [
    "fig = sns.regplot(x=\"GRE Score\",y=\"TOEFL Score\",data=df)\n",
    "plt.title(\"GRE Score vs TOEFL Score\")\n",
    "plt.show()"
   ]
  },
  {
   "cell_type": "markdown",
   "id": "bc6056f8",
   "metadata": {
    "papermill": {
     "duration": 0.021383,
     "end_time": "2023-06-06T18:41:33.273850",
     "exception": false,
     "start_time": "2023-06-06T18:41:33.252467",
     "status": "completed"
    },
    "tags": []
   },
   "source": [
    "People with higher GRE Scores also have higher TOEFL Scores which is justified because both TOEFL and GRE have a verbal section which although not similar are relatable"
   ]
  },
  {
   "cell_type": "code",
   "execution_count": 9,
   "id": "833f8fdc",
   "metadata": {
    "execution": {
     "iopub.execute_input": "2023-06-06T18:41:33.318701Z",
     "iopub.status.busy": "2023-06-06T18:41:33.317891Z",
     "iopub.status.idle": "2023-06-06T18:41:33.821422Z",
     "shell.execute_reply": "2023-06-06T18:41:33.820003Z"
    },
    "papermill": {
     "duration": 0.530123,
     "end_time": "2023-06-06T18:41:33.825090",
     "exception": false,
     "start_time": "2023-06-06T18:41:33.294967",
     "status": "completed"
    },
    "tags": []
   },
   "outputs": [
    {
     "data": {
      "image/png": "[encoded data removed]",
      "text/plain": [
       "<Figure size 432x288 with 1 Axes>"
      ]
     },
     "metadata": {
      "needs_background": "light"
     },
     "output_type": "display_data"
    }
   ],
   "source": [
    "fig = sns.regplot(x=\"GRE Score\",y=\"CGPA\",data=df)\n",
    "plt.title(\"GRE Score vs CGPA\")\n",
    "plt.show()"
   ]
  },
  {
   "cell_type": "markdown",
   "id": "2b55404a",
   "metadata": {
    "papermill": {
     "duration": 0.023056,
     "end_time": "2023-06-06T18:41:33.871482",
     "exception": false,
     "start_time": "2023-06-06T18:41:33.848426",
     "status": "completed"
    },
    "tags": []
   },
   "source": [
    "Although there are exceptions, people with higher CGPA usually have higher GRE scores maybe because they are smart or hard working"
   ]
  },
  {
   "cell_type": "code",
   "execution_count": 10,
   "id": "318dc276",
   "metadata": {
    "execution": {
     "iopub.execute_input": "2023-06-06T18:41:33.920038Z",
     "iopub.status.busy": "2023-06-06T18:41:33.919536Z",
     "iopub.status.idle": "2023-06-06T18:41:34.392693Z",
     "shell.execute_reply": "2023-06-06T18:41:34.391235Z"
    },
    "papermill": {
     "duration": 0.500796,
     "end_time": "2023-06-06T18:41:34.396019",
     "exception": false,
     "start_time": "2023-06-06T18:41:33.895223",
     "status": "completed"
    },
    "tags": []
   },
   "outputs": [
    {
     "data": {
      "image/png": "[encoded data removed]",
      "text/plain": [
       "<Figure size 432x288 with 1 Axes>"
      ]
     },
     "metadata": {
      "needs_background": "light"
     },
     "output_type": "display_data"
    }
   ],
   "source": [
    "fig = sns.scatterplot(x=\"CGPA\", y=\"LOR \", data=df, hue=\"Research\")\n",
    "plt.title(\"LOR vs CGPA\")\n",
    "plt.show()"
   ]
  },
  {
   "cell_type": "markdown",
   "id": "fb7091ce",
   "metadata": {
    "papermill": {
     "duration": 0.02219,
     "end_time": "2023-06-06T18:41:34.440991",
     "exception": false,
     "start_time": "2023-06-06T18:41:34.418801",
     "status": "completed"
    },
    "tags": []
   },
   "source": [
    "LORs are not that related with CGPA so it is clear that a persons LOR is not dependent on that persons academic excellence. Having research experience is usually related with a good LOR which might be justified by the fact that supervisors have personal interaction with the students performing research which usually results in good LORs"
   ]
  },
  {
   "cell_type": "code",
   "execution_count": 11,
   "id": "74e23056",
   "metadata": {
    "execution": {
     "iopub.execute_input": "2023-06-06T18:41:34.489432Z",
     "iopub.status.busy": "2023-06-06T18:41:34.488577Z",
     "iopub.status.idle": "2023-06-06T18:41:34.924173Z",
     "shell.execute_reply": "2023-06-06T18:41:34.922745Z"
    },
    "papermill": {
     "duration": 0.462854,
     "end_time": "2023-06-06T18:41:34.926866",
     "exception": false,
     "start_time": "2023-06-06T18:41:34.464012",
     "status": "completed"
    },
    "tags": []
   },
   "outputs": [
    {
     "data": {
      "image/png": "[encoded data removed]",
      "text/plain": [
       "<Figure size 432x288 with 1 Axes>"
      ]
     },
     "metadata": {
      "needs_background": "light"
     },
     "output_type": "display_data"
    }
   ],
   "source": [
    "fig = sns.scatterplot(x=\"GRE Score\", y=\"LOR \", data=df, hue=\"Research\")\n",
    "plt.title(\"GRE Score vs CGPA\")\n",
    "plt.show()"
   ]
  },
  {
   "cell_type": "markdown",
   "id": "6902de6f",
   "metadata": {
    "papermill": {
     "duration": 0.023299,
     "end_time": "2023-06-06T18:41:34.974035",
     "exception": false,
     "start_time": "2023-06-06T18:41:34.950736",
     "status": "completed"
    },
    "tags": []
   },
   "source": [
    "GRE scores and LORs are also not that related. People with different kinds of LORs have all kinds of GRE scores"
   ]
  },
  {
   "cell_type": "code",
   "execution_count": 12,
   "id": "6ea96831",
   "metadata": {
    "execution": {
     "iopub.execute_input": "2023-06-06T18:41:35.023782Z",
     "iopub.status.busy": "2023-06-06T18:41:35.023315Z",
     "iopub.status.idle": "2023-06-06T18:41:35.382196Z",
     "shell.execute_reply": "2023-06-06T18:41:35.380811Z"
    },
    "papermill": {
     "duration": 0.387473,
     "end_time": "2023-06-06T18:41:35.385272",
     "exception": false,
     "start_time": "2023-06-06T18:41:34.997799",
     "status": "completed"
    },
    "tags": []
   },
   "outputs": [
    {
     "data": {
      "image/png": "[encoded data removed]",
      "text/plain": [
       "<Figure size 432x288 with 1 Axes>"
      ]
     },
     "metadata": {
      "needs_background": "light"
     },
     "output_type": "display_data"
    }
   ],
   "source": [
    "fig = sns.scatterplot(x=\"CGPA\", y=\"SOP\", data=df)\n",
    "plt.title(\"SOP vs CGPA\")\n",
    "plt.show()"
   ]
  },
  {
   "cell_type": "markdown",
   "id": "cbccc621",
   "metadata": {
    "papermill": {
     "duration": 0.025027,
     "end_time": "2023-06-06T18:41:35.435894",
     "exception": false,
     "start_time": "2023-06-06T18:41:35.410867",
     "status": "completed"
    },
    "tags": []
   },
   "source": [
    "CGPA and SOP are not that related because Statement of Purpose is related to academic performance, but since people with good CGPA tend to be more hard working so they have good things to say in their SOP which might explain the slight  move towards higher CGPA as along with good SOPs"
   ]
  },
  {
   "cell_type": "code",
   "execution_count": 13,
   "id": "02a281fa",
   "metadata": {
    "execution": {
     "iopub.execute_input": "2023-06-06T18:41:35.489456Z",
     "iopub.status.busy": "2023-06-06T18:41:35.488660Z",
     "iopub.status.idle": "2023-06-06T18:41:35.787803Z",
     "shell.execute_reply": "2023-06-06T18:41:35.786554Z"
    },
    "papermill": {
     "duration": 0.329185,
     "end_time": "2023-06-06T18:41:35.790392",
     "exception": false,
     "start_time": "2023-06-06T18:41:35.461207",
     "status": "completed"
    },
    "tags": []
   },
   "outputs": [
    {
     "data": {
      "image/png": "[encoded data removed]",
      "text/plain": [
       "<Figure size 432x288 with 1 Axes>"
      ]
     },
     "metadata": {
      "needs_background": "light"
     },
     "output_type": "display_data"
    }
   ],
   "source": [
    "fig = sns.scatterplot(x=\"GRE Score\", y=\"SOP\", data=df)\n",
    "plt.title(\"GRE Score vs SOP\")\n",
    "plt.show()"
   ]
  },
  {
   "cell_type": "markdown",
   "id": "c975a9b4",
   "metadata": {
    "papermill": {
     "duration": 0.025098,
     "end_time": "2023-06-06T18:41:35.848421",
     "exception": false,
     "start_time": "2023-06-06T18:41:35.823323",
     "status": "completed"
    },
    "tags": []
   },
   "source": [
    "Similary, GRE Score and SOP is only slightly related"
   ]
  },
  {
   "cell_type": "code",
   "execution_count": 14,
   "id": "3905f7d0",
   "metadata": {
    "execution": {
     "iopub.execute_input": "2023-06-06T18:41:35.902927Z",
     "iopub.status.busy": "2023-06-06T18:41:35.902172Z",
     "iopub.status.idle": "2023-06-06T18:41:36.434558Z",
     "shell.execute_reply": "2023-06-06T18:41:36.433174Z"
    },
    "papermill": {
     "duration": 0.562791,
     "end_time": "2023-06-06T18:41:36.437336",
     "exception": false,
     "start_time": "2023-06-06T18:41:35.874545",
     "status": "completed"
    },
    "tags": []
   },
   "outputs": [
    {
     "data": {
      "image/png": "[encoded data removed]",
      "text/plain": [
       "<Figure size 432x288 with 1 Axes>"
      ]
     },
     "metadata": {
      "needs_background": "light"
     },
     "output_type": "display_data"
    }
   ],
   "source": [
    "fig = sns.scatterplot(x=\"TOEFL Score\", y=\"SOP\", data=df)\n",
    "plt.title(\"TOEFL Score vs SOP\")\n",
    "plt.show()"
   ]
  },
  {
   "cell_type": "markdown",
   "id": "c5ba9af4",
   "metadata": {
    "papermill": {
     "duration": 0.026326,
     "end_time": "2023-06-06T18:41:36.490025",
     "exception": false,
     "start_time": "2023-06-06T18:41:36.463699",
     "status": "completed"
    },
    "tags": []
   },
   "source": [
    "Applicants with different kinds of SOP have different kinds of TOEFL Score. So the quality of SOP is not always related to the applicants English skills."
   ]
  },
  {
   "cell_type": "markdown",
   "id": "6aa72957",
   "metadata": {
    "papermill": {
     "duration": 0.025446,
     "end_time": "2023-06-06T18:41:36.541180",
     "exception": false,
     "start_time": "2023-06-06T18:41:36.515734",
     "status": "completed"
    },
    "tags": []
   },
   "source": [
    "## **Correlation among variables**"
   ]
  },
  {
   "cell_type": "code",
   "execution_count": 15,
   "id": "bc438062",
   "metadata": {
    "execution": {
     "iopub.execute_input": "2023-06-06T18:41:36.594991Z",
     "iopub.status.busy": "2023-06-06T18:41:36.594193Z",
     "iopub.status.idle": "2023-06-06T18:41:37.086317Z",
     "shell.execute_reply": "2023-06-06T18:41:37.084974Z"
    },
    "papermill": {
     "duration": 0.522352,
     "end_time": "2023-06-06T18:41:37.089159",
     "exception": false,
     "start_time": "2023-06-06T18:41:36.566807",
     "status": "completed"
    },
    "tags": []
   },
   "outputs": [
    {
     "data": {
      "image/png": "[encoded data removed]",
      "text/plain": [
       "<Figure size 432x288 with 2 Axes>"
      ]
     },
     "metadata": {
      "needs_background": "light"
     },
     "output_type": "display_data"
    }
   ],
   "source": [
    "corr = df.corr()\n",
    "sns.heatmap(corr, linewidths=.5, annot=True)\n",
    "plt.show()"
   ]
  },
  {
   "cell_type": "markdown",
   "id": "21acfc82",
   "metadata": {
    "papermill": {
     "duration": 0.027301,
     "end_time": "2023-06-06T18:41:37.143654",
     "exception": false,
     "start_time": "2023-06-06T18:41:37.116353",
     "status": "completed"
    },
    "tags": []
   },
   "source": [
    "Lets split the dataset with training and testing set and prepare the inputs and outputs"
   ]
  },
  {
   "cell_type": "code",
   "execution_count": 16,
   "id": "898a05a9",
   "metadata": {
    "execution": {
     "iopub.execute_input": "2023-06-06T18:41:37.201631Z",
     "iopub.status.busy": "2023-06-06T18:41:37.201211Z",
     "iopub.status.idle": "2023-06-06T18:41:37.532344Z",
     "shell.execute_reply": "2023-06-06T18:41:37.530871Z"
    },
    "papermill": {
     "duration": 0.363959,
     "end_time": "2023-06-06T18:41:37.535811",
     "exception": false,
     "start_time": "2023-06-06T18:41:37.171852",
     "status": "completed"
    },
    "tags": []
   },
   "outputs": [],
   "source": [
    "from sklearn.model_selection import train_test_split\n",
    "\n",
    "X = df.drop(['Chance of Admit '], axis=1)\n",
    "y = df['Chance of Admit ']"
   ]
  },
  {
   "cell_type": "code",
   "execution_count": 17,
   "id": "7d9813fc",
   "metadata": {
    "execution": {
     "iopub.execute_input": "2023-06-06T18:41:37.595501Z",
     "iopub.status.busy": "2023-06-06T18:41:37.594844Z",
     "iopub.status.idle": "2023-06-06T18:41:37.603531Z",
     "shell.execute_reply": "2023-06-06T18:41:37.602079Z"
    },
    "papermill": {
     "duration": 0.041743,
     "end_time": "2023-06-06T18:41:37.606593",
     "exception": false,
     "start_time": "2023-06-06T18:41:37.564850",
     "status": "completed"
    },
    "tags": []
   },
   "outputs": [],
   "source": [
    "X_train,X_test,y_train,y_test=train_test_split(X,y,test_size=0.20,shuffle=True)"
   ]
  },
  {
   "cell_type": "code",
   "execution_count": 18,
   "id": "be88123f",
   "metadata": {
    "execution": {
     "iopub.execute_input": "2023-06-06T18:41:37.665841Z",
     "iopub.status.busy": "2023-06-06T18:41:37.664919Z",
     "iopub.status.idle": "2023-06-06T18:41:37.687442Z",
     "shell.execute_reply": "2023-06-06T18:41:37.686050Z"
    },
    "papermill": {
     "duration": 0.054851,
     "end_time": "2023-06-06T18:41:37.690093",
     "exception": false,
     "start_time": "2023-06-06T18:41:37.635242",
     "status": "completed"
    },
    "tags": []
   },
   "outputs": [
    {
     "data": {
      "text/html": [
       "<div>\n",
       "<style scoped>\n",
       "    .dataframe tbody tr th:only-of-type {\n",
       "        vertical-align: middle;\n",
       "    }\n",
       "\n",
       "    .dataframe tbody tr th {\n",
       "        vertical-align: top;\n",
       "    }\n",
       "\n",
       "    .dataframe thead th {\n",
       "        text-align: right;\n",
       "    }\n",
       "</style>\n",
       "<table border=\"1\" class=\"dataframe\">\n",
       "  <thead>\n",
       "    <tr style=\"text-align: right;\">\n",
       "      <th></th>\n",
       "      <th>GRE Score</th>\n",
       "      <th>TOEFL Score</th>\n",
       "      <th>University Rating</th>\n",
       "      <th>SOP</th>\n",
       "      <th>LOR</th>\n",
       "      <th>CGPA</th>\n",
       "      <th>Research</th>\n",
       "    </tr>\n",
       "  </thead>\n",
       "  <tbody>\n",
       "    <tr>\n",
       "      <th>195</th>\n",
       "      <td>307</td>\n",
       "      <td>107</td>\n",
       "      <td>2</td>\n",
       "      <td>3.0</td>\n",
       "      <td>3.5</td>\n",
       "      <td>8.52</td>\n",
       "      <td>1</td>\n",
       "    </tr>\n",
       "    <tr>\n",
       "      <th>233</th>\n",
       "      <td>304</td>\n",
       "      <td>100</td>\n",
       "      <td>2</td>\n",
       "      <td>2.5</td>\n",
       "      <td>3.5</td>\n",
       "      <td>8.07</td>\n",
       "      <td>0</td>\n",
       "    </tr>\n",
       "    <tr>\n",
       "      <th>351</th>\n",
       "      <td>325</td>\n",
       "      <td>110</td>\n",
       "      <td>4</td>\n",
       "      <td>3.5</td>\n",
       "      <td>4.0</td>\n",
       "      <td>8.67</td>\n",
       "      <td>1</td>\n",
       "    </tr>\n",
       "    <tr>\n",
       "      <th>144</th>\n",
       "      <td>325</td>\n",
       "      <td>112</td>\n",
       "      <td>2</td>\n",
       "      <td>3.0</td>\n",
       "      <td>3.5</td>\n",
       "      <td>8.96</td>\n",
       "      <td>1</td>\n",
       "    </tr>\n",
       "    <tr>\n",
       "      <th>213</th>\n",
       "      <td>333</td>\n",
       "      <td>119</td>\n",
       "      <td>5</td>\n",
       "      <td>5.0</td>\n",
       "      <td>4.5</td>\n",
       "      <td>9.78</td>\n",
       "      <td>1</td>\n",
       "    </tr>\n",
       "    <tr>\n",
       "      <th>...</th>\n",
       "      <td>...</td>\n",
       "      <td>...</td>\n",
       "      <td>...</td>\n",
       "      <td>...</td>\n",
       "      <td>...</td>\n",
       "      <td>...</td>\n",
       "      <td>...</td>\n",
       "    </tr>\n",
       "    <tr>\n",
       "      <th>269</th>\n",
       "      <td>308</td>\n",
       "      <td>108</td>\n",
       "      <td>4</td>\n",
       "      <td>4.5</td>\n",
       "      <td>5.0</td>\n",
       "      <td>8.34</td>\n",
       "      <td>0</td>\n",
       "    </tr>\n",
       "    <tr>\n",
       "      <th>458</th>\n",
       "      <td>312</td>\n",
       "      <td>100</td>\n",
       "      <td>1</td>\n",
       "      <td>3.0</td>\n",
       "      <td>3.0</td>\n",
       "      <td>8.53</td>\n",
       "      <td>1</td>\n",
       "    </tr>\n",
       "    <tr>\n",
       "      <th>333</th>\n",
       "      <td>319</td>\n",
       "      <td>108</td>\n",
       "      <td>3</td>\n",
       "      <td>3.0</td>\n",
       "      <td>3.5</td>\n",
       "      <td>8.54</td>\n",
       "      <td>1</td>\n",
       "    </tr>\n",
       "    <tr>\n",
       "      <th>451</th>\n",
       "      <td>324</td>\n",
       "      <td>113</td>\n",
       "      <td>4</td>\n",
       "      <td>4.5</td>\n",
       "      <td>4.5</td>\n",
       "      <td>9.25</td>\n",
       "      <td>1</td>\n",
       "    </tr>\n",
       "    <tr>\n",
       "      <th>353</th>\n",
       "      <td>300</td>\n",
       "      <td>102</td>\n",
       "      <td>3</td>\n",
       "      <td>3.5</td>\n",
       "      <td>2.5</td>\n",
       "      <td>8.17</td>\n",
       "      <td>0</td>\n",
       "    </tr>\n",
       "  </tbody>\n",
       "</table>\n",
       "<p>400 rows × 7 columns</p>\n",
       "</div>"
      ],
      "text/plain": [
       "     GRE Score  TOEFL Score  University Rating  SOP  LOR   CGPA  Research\n",
       "195        307          107                  2  3.0   3.5  8.52         1\n",
       "233        304          100                  2  2.5   3.5  8.07         0\n",
       "351        325          110                  4  3.5   4.0  8.67         1\n",
       "144        325          112                  2  3.0   3.5  8.96         1\n",
       "213        333          119                  5  5.0   4.5  9.78         1\n",
       "..         ...          ...                ...  ...   ...   ...       ...\n",
       "269        308          108                  4  4.5   5.0  8.34         0\n",
       "458        312          100                  1  3.0   3.0  8.53         1\n",
       "333        319          108                  3  3.0   3.5  8.54         1\n",
       "451        324          113                  4  4.5   4.5  9.25         1\n",
       "353        300          102                  3  3.5   2.5  8.17         0\n",
       "\n",
       "[400 rows x 7 columns]"
      ]
     },
     "execution_count": 18,
     "metadata": {},
     "output_type": "execute_result"
    }
   ],
   "source": [
    "X_train"
   ]
  },
  {
   "cell_type": "code",
   "execution_count": 19,
   "id": "475b236e",
   "metadata": {
    "execution": {
     "iopub.execute_input": "2023-06-06T18:41:37.747605Z",
     "iopub.status.busy": "2023-06-06T18:41:37.747167Z",
     "iopub.status.idle": "2023-06-06T18:41:37.758566Z",
     "shell.execute_reply": "2023-06-06T18:41:37.757195Z"
    },
    "papermill": {
     "duration": 0.043479,
     "end_time": "2023-06-06T18:41:37.760882",
     "exception": false,
     "start_time": "2023-06-06T18:41:37.717403",
     "status": "completed"
    },
    "tags": []
   },
   "outputs": [
    {
     "data": {
      "text/plain": [
       "195    0.78\n",
       "233    0.64\n",
       "351    0.73\n",
       "144    0.80\n",
       "213    0.96\n",
       "       ... \n",
       "269    0.77\n",
       "458    0.69\n",
       "333    0.71\n",
       "451    0.89\n",
       "353    0.63\n",
       "Name: Chance of Admit , Length: 400, dtype: float64"
      ]
     },
     "execution_count": 19,
     "metadata": {},
     "output_type": "execute_result"
    }
   ],
   "source": [
    "y_train"
   ]
  },
  {
   "cell_type": "code",
   "execution_count": 20,
   "id": "4eb1b485",
   "metadata": {
    "execution": {
     "iopub.execute_input": "2023-06-06T18:41:37.818342Z",
     "iopub.status.busy": "2023-06-06T18:41:37.817560Z",
     "iopub.status.idle": "2023-06-06T18:41:37.827486Z",
     "shell.execute_reply": "2023-06-06T18:41:37.826511Z"
    },
    "papermill": {
     "duration": 0.042299,
     "end_time": "2023-06-06T18:41:37.830278",
     "exception": false,
     "start_time": "2023-06-06T18:41:37.787979",
     "status": "completed"
    },
    "tags": []
   },
   "outputs": [],
   "source": [
    "# Standarization\n",
    "from sklearn.preprocessing import StandardScaler\n",
    "X_train_columns=X_train.columns\n",
    "std=StandardScaler()\n",
    "X_train_std=std.fit_transform(X_train)"
   ]
  },
  {
   "cell_type": "code",
   "execution_count": 21,
   "id": "92fea951",
   "metadata": {
    "execution": {
     "iopub.execute_input": "2023-06-06T18:41:37.887810Z",
     "iopub.status.busy": "2023-06-06T18:41:37.886933Z",
     "iopub.status.idle": "2023-06-06T18:41:37.896190Z",
     "shell.execute_reply": "2023-06-06T18:41:37.894525Z"
    },
    "papermill": {
     "duration": 0.041549,
     "end_time": "2023-06-06T18:41:37.899084",
     "exception": false,
     "start_time": "2023-06-06T18:41:37.857535",
     "status": "completed"
    },
    "tags": []
   },
   "outputs": [
    {
     "data": {
      "text/plain": [
       "array([[-0.79159464, -0.00570796, -0.96690042, ...,  0.03308502,\n",
       "        -0.05965866,  0.90911166],\n",
       "       [-1.05234501, -1.14730069, -0.96690042, ...,  0.03308502,\n",
       "        -0.79017291, -1.09997489],\n",
       "       [ 0.77290754,  0.48354606,  0.7752625 , ...,  0.56244542,\n",
       "         0.18384609,  0.90911166],\n",
       "       ...,\n",
       "       [ 0.25140681,  0.15737671, -0.09581896, ...,  0.03308502,\n",
       "        -0.02719136,  0.90911166],\n",
       "       [ 0.68599075,  0.97280009,  0.7752625 , ...,  1.09180581,\n",
       "         1.12539778,  0.90911166],\n",
       "       [-1.40001216, -0.82113134, -0.09581896, ..., -1.02563576,\n",
       "        -0.62783641, -1.09997489]])"
      ]
     },
     "execution_count": 21,
     "metadata": {},
     "output_type": "execute_result"
    }
   ],
   "source": [
    "X_train_std"
   ]
  },
  {
   "cell_type": "code",
   "execution_count": 22,
   "id": "711c989e",
   "metadata": {
    "execution": {
     "iopub.execute_input": "2023-06-06T18:41:37.957675Z",
     "iopub.status.busy": "2023-06-06T18:41:37.957203Z",
     "iopub.status.idle": "2023-06-06T18:41:37.963276Z",
     "shell.execute_reply": "2023-06-06T18:41:37.961801Z"
    },
    "papermill": {
     "duration": 0.038686,
     "end_time": "2023-06-06T18:41:37.965835",
     "exception": false,
     "start_time": "2023-06-06T18:41:37.927149",
     "status": "completed"
    },
    "tags": []
   },
   "outputs": [],
   "source": [
    "X_train=pd.DataFrame(X_train_std,columns=X_train_columns)"
   ]
  },
  {
   "cell_type": "code",
   "execution_count": 23,
   "id": "0a3a9712",
   "metadata": {
    "execution": {
     "iopub.execute_input": "2023-06-06T18:41:38.023964Z",
     "iopub.status.busy": "2023-06-06T18:41:38.022460Z",
     "iopub.status.idle": "2023-06-06T18:41:38.045330Z",
     "shell.execute_reply": "2023-06-06T18:41:38.044132Z"
    },
    "papermill": {
     "duration": 0.054467,
     "end_time": "2023-06-06T18:41:38.047816",
     "exception": false,
     "start_time": "2023-06-06T18:41:37.993349",
     "status": "completed"
    },
    "tags": []
   },
   "outputs": [
    {
     "data": {
      "text/html": [
       "<div>\n",
       "<style scoped>\n",
       "    .dataframe tbody tr th:only-of-type {\n",
       "        vertical-align: middle;\n",
       "    }\n",
       "\n",
       "    .dataframe tbody tr th {\n",
       "        vertical-align: top;\n",
       "    }\n",
       "\n",
       "    .dataframe thead th {\n",
       "        text-align: right;\n",
       "    }\n",
       "</style>\n",
       "<table border=\"1\" class=\"dataframe\">\n",
       "  <thead>\n",
       "    <tr style=\"text-align: right;\">\n",
       "      <th></th>\n",
       "      <th>GRE Score</th>\n",
       "      <th>TOEFL Score</th>\n",
       "      <th>University Rating</th>\n",
       "      <th>SOP</th>\n",
       "      <th>LOR</th>\n",
       "      <th>CGPA</th>\n",
       "      <th>Research</th>\n",
       "    </tr>\n",
       "  </thead>\n",
       "  <tbody>\n",
       "    <tr>\n",
       "      <th>0</th>\n",
       "      <td>-0.791595</td>\n",
       "      <td>-0.005708</td>\n",
       "      <td>-0.966900</td>\n",
       "      <td>-0.381799</td>\n",
       "      <td>0.033085</td>\n",
       "      <td>-0.059659</td>\n",
       "      <td>0.909112</td>\n",
       "    </tr>\n",
       "    <tr>\n",
       "      <th>1</th>\n",
       "      <td>-1.052345</td>\n",
       "      <td>-1.147301</td>\n",
       "      <td>-0.966900</td>\n",
       "      <td>-0.884165</td>\n",
       "      <td>0.033085</td>\n",
       "      <td>-0.790173</td>\n",
       "      <td>-1.099975</td>\n",
       "    </tr>\n",
       "    <tr>\n",
       "      <th>2</th>\n",
       "      <td>0.772908</td>\n",
       "      <td>0.483546</td>\n",
       "      <td>0.775263</td>\n",
       "      <td>0.120568</td>\n",
       "      <td>0.562445</td>\n",
       "      <td>0.183846</td>\n",
       "      <td>0.909112</td>\n",
       "    </tr>\n",
       "    <tr>\n",
       "      <th>3</th>\n",
       "      <td>0.772908</td>\n",
       "      <td>0.809715</td>\n",
       "      <td>-0.966900</td>\n",
       "      <td>-0.381799</td>\n",
       "      <td>0.033085</td>\n",
       "      <td>0.654622</td>\n",
       "      <td>0.909112</td>\n",
       "    </tr>\n",
       "    <tr>\n",
       "      <th>4</th>\n",
       "      <td>1.468242</td>\n",
       "      <td>1.951308</td>\n",
       "      <td>1.646344</td>\n",
       "      <td>1.627668</td>\n",
       "      <td>1.091806</td>\n",
       "      <td>1.985781</td>\n",
       "      <td>0.909112</td>\n",
       "    </tr>\n",
       "    <tr>\n",
       "      <th>...</th>\n",
       "      <td>...</td>\n",
       "      <td>...</td>\n",
       "      <td>...</td>\n",
       "      <td>...</td>\n",
       "      <td>...</td>\n",
       "      <td>...</td>\n",
       "      <td>...</td>\n",
       "    </tr>\n",
       "    <tr>\n",
       "      <th>395</th>\n",
       "      <td>-0.704678</td>\n",
       "      <td>0.157377</td>\n",
       "      <td>0.775263</td>\n",
       "      <td>1.125301</td>\n",
       "      <td>1.621166</td>\n",
       "      <td>-0.351864</td>\n",
       "      <td>-1.099975</td>\n",
       "    </tr>\n",
       "    <tr>\n",
       "      <th>396</th>\n",
       "      <td>-0.357011</td>\n",
       "      <td>-1.147301</td>\n",
       "      <td>-1.837982</td>\n",
       "      <td>-0.381799</td>\n",
       "      <td>-0.496275</td>\n",
       "      <td>-0.043425</td>\n",
       "      <td>0.909112</td>\n",
       "    </tr>\n",
       "    <tr>\n",
       "      <th>397</th>\n",
       "      <td>0.251407</td>\n",
       "      <td>0.157377</td>\n",
       "      <td>-0.095819</td>\n",
       "      <td>-0.381799</td>\n",
       "      <td>0.033085</td>\n",
       "      <td>-0.027191</td>\n",
       "      <td>0.909112</td>\n",
       "    </tr>\n",
       "    <tr>\n",
       "      <th>398</th>\n",
       "      <td>0.685991</td>\n",
       "      <td>0.972800</td>\n",
       "      <td>0.775263</td>\n",
       "      <td>1.125301</td>\n",
       "      <td>1.091806</td>\n",
       "      <td>1.125398</td>\n",
       "      <td>0.909112</td>\n",
       "    </tr>\n",
       "    <tr>\n",
       "      <th>399</th>\n",
       "      <td>-1.400012</td>\n",
       "      <td>-0.821131</td>\n",
       "      <td>-0.095819</td>\n",
       "      <td>0.120568</td>\n",
       "      <td>-1.025636</td>\n",
       "      <td>-0.627836</td>\n",
       "      <td>-1.099975</td>\n",
       "    </tr>\n",
       "  </tbody>\n",
       "</table>\n",
       "<p>400 rows × 7 columns</p>\n",
       "</div>"
      ],
      "text/plain": [
       "     GRE Score  TOEFL Score  University Rating       SOP      LOR       CGPA  \\\n",
       "0    -0.791595    -0.005708          -0.966900 -0.381799  0.033085 -0.059659   \n",
       "1    -1.052345    -1.147301          -0.966900 -0.884165  0.033085 -0.790173   \n",
       "2     0.772908     0.483546           0.775263  0.120568  0.562445  0.183846   \n",
       "3     0.772908     0.809715          -0.966900 -0.381799  0.033085  0.654622   \n",
       "4     1.468242     1.951308           1.646344  1.627668  1.091806  1.985781   \n",
       "..         ...          ...                ...       ...       ...       ...   \n",
       "395  -0.704678     0.157377           0.775263  1.125301  1.621166 -0.351864   \n",
       "396  -0.357011    -1.147301          -1.837982 -0.381799 -0.496275 -0.043425   \n",
       "397   0.251407     0.157377          -0.095819 -0.381799  0.033085 -0.027191   \n",
       "398   0.685991     0.972800           0.775263  1.125301  1.091806  1.125398   \n",
       "399  -1.400012    -0.821131          -0.095819  0.120568 -1.025636 -0.627836   \n",
       "\n",
       "     Research  \n",
       "0    0.909112  \n",
       "1   -1.099975  \n",
       "2    0.909112  \n",
       "3    0.909112  \n",
       "4    0.909112  \n",
       "..        ...  \n",
       "395 -1.099975  \n",
       "396  0.909112  \n",
       "397  0.909112  \n",
       "398  0.909112  \n",
       "399 -1.099975  \n",
       "\n",
       "[400 rows x 7 columns]"
      ]
     },
     "execution_count": 23,
     "metadata": {},
     "output_type": "execute_result"
    }
   ],
   "source": [
    "X_train"
   ]
  },
  {
   "cell_type": "markdown",
   "id": "a6f46e64",
   "metadata": {
    "papermill": {
     "duration": 0.027347,
     "end_time": "2023-06-06T18:41:38.102883",
     "exception": false,
     "start_time": "2023-06-06T18:41:38.075536",
     "status": "completed"
    },
    "tags": []
   },
   "source": [
    "Lets use a bunch of different algorithms to see which model performs better"
   ]
  },
  {
   "cell_type": "code",
   "execution_count": 24,
   "id": "5895ee32",
   "metadata": {
    "execution": {
     "iopub.execute_input": "2023-06-06T18:41:38.162693Z",
     "iopub.status.busy": "2023-06-06T18:41:38.161918Z",
     "iopub.status.idle": "2023-06-06T18:41:38.349056Z",
     "shell.execute_reply": "2023-06-06T18:41:38.347067Z"
    },
    "papermill": {
     "duration": 0.221622,
     "end_time": "2023-06-06T18:41:38.352175",
     "exception": false,
     "start_time": "2023-06-06T18:41:38.130553",
     "status": "completed"
    },
    "tags": []
   },
   "outputs": [
    {
     "name": "stdout",
     "output_type": "stream",
     "text": [
      "Results without removing features with multicollinearity ...\n",
      "Linear Regression : 0.06574701097298369\n",
      "Lasso Regression : 0.11866366473264615\n",
      "Ridge Regression : 0.06573068447794275\n"
     ]
    },
    {
     "name": "stderr",
     "output_type": "stream",
     "text": [
      "C:\\Users\\user\\AppData\\Local\\Programs\\Python\\Python310\\lib\\site-packages\\sklearn\\base.py:420: UserWarning: X does not have valid feature names, but LinearRegression was fitted with feature names\n",
      "  warnings.warn(\n",
      "C:\\Users\\user\\AppData\\Local\\Programs\\Python\\Python310\\lib\\site-packages\\sklearn\\base.py:420: UserWarning: X does not have valid feature names, but Lasso was fitted with feature names\n",
      "  warnings.warn(\n",
      "C:\\Users\\user\\AppData\\Local\\Programs\\Python\\Python310\\lib\\site-packages\\sklearn\\base.py:420: UserWarning: X does not have valid feature names, but Ridge was fitted with feature names\n",
      "  warnings.warn(\n"
     ]
    }
   ],
   "source": [
    "import numpy as np\n",
    "from sklearn.metrics import accuracy_score\n",
    "from sklearn.linear_model import LinearRegression\n",
    "from sklearn.linear_model import Lasso,Ridge,LinearRegression\n",
    "from sklearn.metrics import mean_squared_error\n",
    "\n",
    "models = [\n",
    "           ['Linear Regression :', LinearRegression()],\n",
    "         \n",
    "          ['Lasso Regression :', Lasso(alpha=0.1)], #try with different alpha values\n",
    "          ['Ridge Regression :', Ridge(alpha=1.0)] #try with different alpha values\n",
    "          ]\n",
    "\n",
    "print(\"Results without removing features with multicollinearity ...\")\n",
    "\n",
    "\n",
    "for name,model in models:\n",
    "    model.fit(X_train, y_train.values)\n",
    "    predictions = model.predict(std.transform(X_test))\n",
    "    print(name, (np.sqrt(mean_squared_error(y_test, predictions))))"
   ]
  },
  {
   "cell_type": "markdown",
   "id": "ca6abb23",
   "metadata": {
    "papermill": {
     "duration": 0.029039,
     "end_time": "2023-06-06T18:41:38.409187",
     "exception": false,
     "start_time": "2023-06-06T18:41:38.380148",
     "status": "completed"
    },
    "tags": []
   },
   "source": [
    "## Linear Regression using Statsmodel library"
   ]
  },
  {
   "cell_type": "code",
   "execution_count": 25,
   "id": "b89a2632",
   "metadata": {
    "execution": {
     "iopub.execute_input": "2023-06-06T18:41:38.471125Z",
     "iopub.status.busy": "2023-06-06T18:41:38.470366Z",
     "iopub.status.idle": "2023-06-06T18:41:40.362871Z",
     "shell.execute_reply": "2023-06-06T18:41:40.361222Z"
    },
    "papermill": {
     "duration": 1.926702,
     "end_time": "2023-06-06T18:41:40.366080",
     "exception": false,
     "start_time": "2023-06-06T18:41:38.439378",
     "status": "completed"
    },
    "tags": []
   },
   "outputs": [
    {
     "name": "stdout",
     "output_type": "stream",
     "text": [
      "                            OLS Regression Results                            \n",
      "==============================================================================\n",
      "Dep. Variable:                      y   R-squared:                       0.833\n",
      "Model:                            OLS   Adj. R-squared:                  0.830\n",
      "Method:                 Least Squares   F-statistic:                     278.6\n",
      "Date:                Sat, 29 Jul 2023   Prob (F-statistic):          7.11e-148\n",
      "Time:                        22:41:55   Log-Likelihood:                 571.40\n",
      "No. Observations:                 400   AIC:                            -1127.\n",
      "Df Residuals:                     392   BIC:                            -1095.\n",
      "Df Model:                           7                                         \n",
      "Covariance Type:            nonrobust                                         \n",
      "=====================================================================================\n",
      "                        coef    std err          t      P>|t|      [0.025      0.975]\n",
      "-------------------------------------------------------------------------------------\n",
      "const                 0.7184      0.003    245.275      0.000       0.713       0.724\n",
      "GRE Score             0.0207      0.006      3.344      0.001       0.009       0.033\n",
      "TOEFL Score           0.0192      0.006      3.265      0.001       0.008       0.031\n",
      "University Rating     0.0050      0.005      1.086      0.278      -0.004       0.014\n",
      "SOP                   0.0035      0.005      0.710      0.478      -0.006       0.013\n",
      "LOR                   0.0125      0.004      2.946      0.003       0.004       0.021\n",
      "CGPA                  0.0747      0.006     11.931      0.000       0.062       0.087\n",
      "Research              0.0098      0.004      2.710      0.007       0.003       0.017\n",
      "==============================================================================\n",
      "Omnibus:                       84.690   Durbin-Watson:                   1.902\n",
      "Prob(Omnibus):                  0.000   Jarque-Bera (JB):              192.538\n",
      "Skew:                          -1.074   Prob(JB):                     1.55e-42\n",
      "Kurtosis:                       5.633   Cond. No.                         5.64\n",
      "==============================================================================\n",
      "\n",
      "Notes:\n",
      "[1] Standard Errors assume that the covariance matrix of the errors is correctly specified.\n"
     ]
    }
   ],
   "source": [
    "import statsmodels.api as sm\n",
    "X_train=sm.add_constant(X_train)\n",
    "model=sm.OLS(y_train.values,X_train).fit()\n",
    "print(model.summary())"
   ]
  },
  {
   "cell_type": "code",
   "execution_count": 26,
   "id": "1d157151",
   "metadata": {
    "execution": {
     "iopub.execute_input": "2023-06-06T18:41:40.425438Z",
     "iopub.status.busy": "2023-06-06T18:41:40.423839Z",
     "iopub.status.idle": "2023-06-06T18:41:40.431969Z",
     "shell.execute_reply": "2023-06-06T18:41:40.430805Z"
    },
    "papermill": {
     "duration": 0.040053,
     "end_time": "2023-06-06T18:41:40.434625",
     "exception": false,
     "start_time": "2023-06-06T18:41:40.394572",
     "status": "completed"
    },
    "tags": []
   },
   "outputs": [],
   "source": [
    "X_train_new=X_train.drop(columns='SOP')"
   ]
  },
  {
   "cell_type": "code",
   "execution_count": 27,
   "id": "9ae649c5",
   "metadata": {
    "execution": {
     "iopub.execute_input": "2023-06-06T18:41:40.494209Z",
     "iopub.status.busy": "2023-06-06T18:41:40.492952Z",
     "iopub.status.idle": "2023-06-06T18:41:40.516129Z",
     "shell.execute_reply": "2023-06-06T18:41:40.514005Z"
    },
    "papermill": {
     "duration": 0.056043,
     "end_time": "2023-06-06T18:41:40.519357",
     "exception": false,
     "start_time": "2023-06-06T18:41:40.463314",
     "status": "completed"
    },
    "tags": []
   },
   "outputs": [
    {
     "name": "stdout",
     "output_type": "stream",
     "text": [
      "                            OLS Regression Results                            \n",
      "==============================================================================\n",
      "Dep. Variable:                      y   R-squared:                       0.832\n",
      "Model:                            OLS   Adj. R-squared:                  0.830\n",
      "Method:                 Least Squares   F-statistic:                     325.4\n",
      "Date:                Sat, 29 Jul 2023   Prob (F-statistic):          4.85e-149\n",
      "Time:                        22:42:14   Log-Likelihood:                 571.15\n",
      "No. Observations:                 400   AIC:                            -1128.\n",
      "Df Residuals:                     393   BIC:                            -1100.\n",
      "Df Model:                           6                                         \n",
      "Covariance Type:            nonrobust                                         \n",
      "=====================================================================================\n",
      "                        coef    std err          t      P>|t|      [0.025      0.975]\n",
      "-------------------------------------------------------------------------------------\n",
      "const                 0.7184      0.003    245.430      0.000       0.713       0.724\n",
      "GRE Score             0.0207      0.006      3.345      0.001       0.009       0.033\n",
      "TOEFL Score           0.0196      0.006      3.332      0.001       0.008       0.031\n",
      "University Rating     0.0063      0.004      1.466      0.143      -0.002       0.015\n",
      "LOR                   0.0133      0.004      3.255      0.001       0.005       0.021\n",
      "CGPA                  0.0756      0.006     12.326      0.000       0.064       0.088\n",
      "Research              0.0097      0.004      2.704      0.007       0.003       0.017\n",
      "==============================================================================\n",
      "Omnibus:                       83.190   Durbin-Watson:                   1.906\n",
      "Prob(Omnibus):                  0.000   Jarque-Bera (JB):              188.145\n",
      "Skew:                          -1.058   Prob(JB):                     1.40e-41\n",
      "Kurtosis:                       5.609   Cond. No.                         5.22\n",
      "==============================================================================\n",
      "\n",
      "Notes:\n",
      "[1] Standard Errors assume that the covariance matrix of the errors is correctly specified.\n"
     ]
    }
   ],
   "source": [
    "model1=sm.OLS(y_train.values,X_train_new).fit()\n",
    "print(model1.summary())"
   ]
  },
  {
   "cell_type": "markdown",
   "id": "f09f8c0e",
   "metadata": {
    "papermill": {
     "duration": 0.030117,
     "end_time": "2023-06-06T18:41:40.579588",
     "exception": false,
     "start_time": "2023-06-06T18:41:40.549471",
     "status": "completed"
    },
    "tags": []
   },
   "source": [
    "## VIF(Variance Inflation Factor)\n",
    "\n",
    "-  VIF score of an independent variable represents how well the variable is explained by other independent variables. \n",
    "\n",
    "- So, the closer the R^2 value to 1, the higher the value of VIF and the higher the multicollinearity with the particular independent variable."
   ]
  },
  {
   "cell_type": "code",
   "execution_count": 28,
   "id": "d5bc44d0",
   "metadata": {
    "execution": {
     "iopub.execute_input": "2023-06-06T18:41:40.643251Z",
     "iopub.status.busy": "2023-06-06T18:41:40.642789Z",
     "iopub.status.idle": "2023-06-06T18:41:40.661913Z",
     "shell.execute_reply": "2023-06-06T18:41:40.660402Z"
    },
    "papermill": {
     "duration": 0.054889,
     "end_time": "2023-06-06T18:41:40.665408",
     "exception": false,
     "start_time": "2023-06-06T18:41:40.610519",
     "status": "completed"
    },
    "tags": []
   },
   "outputs": [],
   "source": [
    "from statsmodels.stats.outliers_influence import variance_inflation_factor\n",
    "\n",
    "def calculate_vif(dataset,col):\n",
    "    dataset=dataset.drop(columns=col,axis=1)\n",
    "    vif=pd.DataFrame()\n",
    "    vif['features']=dataset.columns\n",
    "    vif['VIF_Value']=[variance_inflation_factor(dataset.values,i) for i in range(dataset.shape[1])]\n",
    "    return vif"
   ]
  },
  {
   "cell_type": "code",
   "execution_count": 29,
   "id": "986004c2",
   "metadata": {
    "execution": {
     "iopub.execute_input": "2023-06-06T18:41:40.727454Z",
     "iopub.status.busy": "2023-06-06T18:41:40.727001Z",
     "iopub.status.idle": "2023-06-06T18:41:40.748133Z",
     "shell.execute_reply": "2023-06-06T18:41:40.746405Z"
    },
    "papermill": {
     "duration": 0.055503,
     "end_time": "2023-06-06T18:41:40.751117",
     "exception": false,
     "start_time": "2023-06-06T18:41:40.695614",
     "status": "completed"
    },
    "tags": []
   },
   "outputs": [
    {
     "data": {
      "text/html": [
       "<div>\n",
       "<style scoped>\n",
       "    .dataframe tbody tr th:only-of-type {\n",
       "        vertical-align: middle;\n",
       "    }\n",
       "\n",
       "    .dataframe tbody tr th {\n",
       "        vertical-align: top;\n",
       "    }\n",
       "\n",
       "    .dataframe thead th {\n",
       "        text-align: right;\n",
       "    }\n",
       "</style>\n",
       "<table border=\"1\" class=\"dataframe\">\n",
       "  <thead>\n",
       "    <tr style=\"text-align: right;\">\n",
       "      <th></th>\n",
       "      <th>features</th>\n",
       "      <th>VIF_Value</th>\n",
       "    </tr>\n",
       "  </thead>\n",
       "  <tbody>\n",
       "    <tr>\n",
       "      <th>0</th>\n",
       "      <td>const</td>\n",
       "      <td>1.000000</td>\n",
       "    </tr>\n",
       "    <tr>\n",
       "      <th>1</th>\n",
       "      <td>GRE Score</td>\n",
       "      <td>4.450032</td>\n",
       "    </tr>\n",
       "    <tr>\n",
       "      <th>2</th>\n",
       "      <td>TOEFL Score</td>\n",
       "      <td>4.022025</td>\n",
       "    </tr>\n",
       "    <tr>\n",
       "      <th>3</th>\n",
       "      <td>University Rating</td>\n",
       "      <td>2.157060</td>\n",
       "    </tr>\n",
       "    <tr>\n",
       "      <th>4</th>\n",
       "      <td>LOR</td>\n",
       "      <td>1.935188</td>\n",
       "    </tr>\n",
       "    <tr>\n",
       "      <th>5</th>\n",
       "      <td>CGPA</td>\n",
       "      <td>4.393716</td>\n",
       "    </tr>\n",
       "    <tr>\n",
       "      <th>6</th>\n",
       "      <td>Research</td>\n",
       "      <td>1.510150</td>\n",
       "    </tr>\n",
       "  </tbody>\n",
       "</table>\n",
       "</div>"
      ],
      "text/plain": [
       "            features  VIF_Value\n",
       "0              const   1.000000\n",
       "1          GRE Score   4.450032\n",
       "2        TOEFL Score   4.022025\n",
       "3  University Rating   2.157060\n",
       "4               LOR    1.935188\n",
       "5               CGPA   4.393716\n",
       "6           Research   1.510150"
      ]
     },
     "execution_count": 29,
     "metadata": {},
     "output_type": "execute_result"
    }
   ],
   "source": [
    "calculate_vif(X_train_new,[])"
   ]
  },
  {
   "cell_type": "markdown",
   "id": "9061350d",
   "metadata": {
    "papermill": {
     "duration": 0.030691,
     "end_time": "2023-06-06T18:41:40.811935",
     "exception": false,
     "start_time": "2023-06-06T18:41:40.781244",
     "status": "completed"
    },
    "tags": []
   },
   "source": [
    "### VIF looks fine and hence, we can go ahead with the predictions"
   ]
  },
  {
   "cell_type": "code",
   "execution_count": 30,
   "id": "12749777",
   "metadata": {
    "execution": {
     "iopub.execute_input": "2023-06-06T18:41:40.876382Z",
     "iopub.status.busy": "2023-06-06T18:41:40.875917Z",
     "iopub.status.idle": "2023-06-06T18:41:40.883567Z",
     "shell.execute_reply": "2023-06-06T18:41:40.882640Z"
    },
    "papermill": {
     "duration": 0.04218,
     "end_time": "2023-06-06T18:41:40.885633",
     "exception": false,
     "start_time": "2023-06-06T18:41:40.843453",
     "status": "completed"
    },
    "tags": []
   },
   "outputs": [],
   "source": [
    "X_test_std=std.transform(X_test)"
   ]
  },
  {
   "cell_type": "code",
   "execution_count": 31,
   "id": "7067bf32",
   "metadata": {
    "execution": {
     "iopub.execute_input": "2023-06-06T18:41:40.948973Z",
     "iopub.status.busy": "2023-06-06T18:41:40.948214Z",
     "iopub.status.idle": "2023-06-06T18:41:40.953654Z",
     "shell.execute_reply": "2023-06-06T18:41:40.952298Z"
    },
    "papermill": {
     "duration": 0.040754,
     "end_time": "2023-06-06T18:41:40.956189",
     "exception": false,
     "start_time": "2023-06-06T18:41:40.915435",
     "status": "completed"
    },
    "tags": []
   },
   "outputs": [],
   "source": [
    "X_test=pd.DataFrame(X_test_std,columns=X_train_columns)"
   ]
  },
  {
   "cell_type": "code",
   "execution_count": 32,
   "id": "2f6fc554",
   "metadata": {
    "execution": {
     "iopub.execute_input": "2023-06-06T18:41:41.019986Z",
     "iopub.status.busy": "2023-06-06T18:41:41.019210Z",
     "iopub.status.idle": "2023-06-06T18:41:41.029826Z",
     "shell.execute_reply": "2023-06-06T18:41:41.028216Z"
    },
    "papermill": {
     "duration": 0.045932,
     "end_time": "2023-06-06T18:41:41.033119",
     "exception": false,
     "start_time": "2023-06-06T18:41:40.987187",
     "status": "completed"
    },
    "tags": []
   },
   "outputs": [],
   "source": [
    "X_test=sm.add_constant(X_test)"
   ]
  },
  {
   "cell_type": "code",
   "execution_count": 33,
   "id": "94c94bcf",
   "metadata": {
    "execution": {
     "iopub.execute_input": "2023-06-06T18:41:41.097217Z",
     "iopub.status.busy": "2023-06-06T18:41:41.096790Z",
     "iopub.status.idle": "2023-06-06T18:41:41.102637Z",
     "shell.execute_reply": "2023-06-06T18:41:41.101523Z"
    },
    "papermill": {
     "duration": 0.041186,
     "end_time": "2023-06-06T18:41:41.105402",
     "exception": false,
     "start_time": "2023-06-06T18:41:41.064216",
     "status": "completed"
    },
    "tags": []
   },
   "outputs": [],
   "source": [
    "X_test_del=list(set(X_test.columns).difference(set(X_train_new.columns)))"
   ]
  },
  {
   "cell_type": "code",
   "execution_count": 34,
   "id": "6825ba5c",
   "metadata": {
    "execution": {
     "iopub.execute_input": "2023-06-06T18:41:41.166483Z",
     "iopub.status.busy": "2023-06-06T18:41:41.166050Z",
     "iopub.status.idle": "2023-06-06T18:41:41.172083Z",
     "shell.execute_reply": "2023-06-06T18:41:41.170817Z"
    },
    "papermill": {
     "duration": 0.039625,
     "end_time": "2023-06-06T18:41:41.174708",
     "exception": false,
     "start_time": "2023-06-06T18:41:41.135083",
     "status": "completed"
    },
    "tags": []
   },
   "outputs": [
    {
     "name": "stdout",
     "output_type": "stream",
     "text": [
      "Dropping ['SOP'] from test set\n"
     ]
    }
   ],
   "source": [
    "print(f'Dropping {X_test_del} from test set')"
   ]
  },
  {
   "cell_type": "code",
   "execution_count": 35,
   "id": "f3d6b304",
   "metadata": {
    "execution": {
     "iopub.execute_input": "2023-06-06T18:41:41.239470Z",
     "iopub.status.busy": "2023-06-06T18:41:41.239001Z",
     "iopub.status.idle": "2023-06-06T18:41:41.246427Z",
     "shell.execute_reply": "2023-06-06T18:41:41.244776Z"
    },
    "papermill": {
     "duration": 0.043632,
     "end_time": "2023-06-06T18:41:41.249169",
     "exception": false,
     "start_time": "2023-06-06T18:41:41.205537",
     "status": "completed"
    },
    "tags": []
   },
   "outputs": [],
   "source": [
    "X_test_new=X_test.drop(columns=X_test_del)"
   ]
  },
  {
   "cell_type": "code",
   "execution_count": 42,
   "id": "33fc2d97",
   "metadata": {
    "execution": {
     "iopub.execute_input": "2023-06-06T18:41:41.311778Z",
     "iopub.status.busy": "2023-06-06T18:41:41.311279Z",
     "iopub.status.idle": "2023-06-06T18:41:41.322312Z",
     "shell.execute_reply": "2023-06-06T18:41:41.320626Z"
    },
    "papermill": {
     "duration": 0.046143,
     "end_time": "2023-06-06T18:41:41.325241",
     "exception": false,
     "start_time": "2023-06-06T18:41:41.279098",
     "status": "completed"
    },
    "tags": []
   },
   "outputs": [
    {
     "name": "stdout",
     "output_type": "stream",
     "text": [
      "Mean Absolute Error  0.045469317027565605\n",
      "Root Mean Square Error  0.06562347130264569\n",
      "R2 Score  0.7709218583004861\n"
     ]
    }
   ],
   "source": [
    "#Prediction from the clean model\n",
    "pred=model1.predict(X_test_new)\n",
    "\n",
    "from sklearn.metrics import mean_squared_error,r2_score,mean_absolute_error\n",
    "\n",
    "print('Mean Absolute Error ',mean_absolute_error(y_test.values,pred))\n",
    "print('Root Mean Square Error ',np.sqrt(mean_squared_error(y_test.values,pred)))\n",
    "print('R2 Score ',r2_score(y_test.values,pred))"
   ]
  },
  {
   "cell_type": "markdown",
   "id": "71c2476a",
   "metadata": {
    "papermill": {
     "duration": 0.03037,
     "end_time": "2023-06-06T18:41:41.386011",
     "exception": false,
     "start_time": "2023-06-06T18:41:41.355641",
     "status": "completed"
    },
    "tags": []
   },
   "source": [
    "## Mean of Residuals"
   ]
  },
  {
   "cell_type": "code",
   "execution_count": 37,
   "id": "63fb89d7",
   "metadata": {
    "execution": {
     "iopub.execute_input": "2023-06-06T18:41:41.449191Z",
     "iopub.status.busy": "2023-06-06T18:41:41.448786Z",
     "iopub.status.idle": "2023-06-06T18:41:41.456201Z",
     "shell.execute_reply": "2023-06-06T18:41:41.454871Z"
    },
    "papermill": {
     "duration": 0.042221,
     "end_time": "2023-06-06T18:41:41.458607",
     "exception": false,
     "start_time": "2023-06-06T18:41:41.416386",
     "status": "completed"
    },
    "tags": []
   },
   "outputs": [
    {
     "name": "stdout",
     "output_type": "stream",
     "text": [
      "Mean of Residuals -0.0036893548274747018\n"
     ]
    }
   ],
   "source": [
    "residuals = y_test.values-pred\n",
    "mean_residuals = np.mean(residuals)\n",
    "print(\"Mean of Residuals {}\".format(mean_residuals))"
   ]
  },
  {
   "cell_type": "markdown",
   "id": "a24a5a8a",
   "metadata": {
    "papermill": {
     "duration": 0.029643,
     "end_time": "2023-06-06T18:41:41.518053",
     "exception": false,
     "start_time": "2023-06-06T18:41:41.488410",
     "status": "completed"
    },
    "tags": []
   },
   "source": [
    "## Test for Hommoscedasticity"
   ]
  },
  {
   "cell_type": "code",
   "execution_count": 38,
   "id": "4fb9c9a4",
   "metadata": {
    "execution": {
     "iopub.execute_input": "2023-06-06T18:41:41.581556Z",
     "iopub.status.busy": "2023-06-06T18:41:41.581144Z",
     "iopub.status.idle": "2023-06-06T18:41:41.923550Z",
     "shell.execute_reply": "2023-06-06T18:41:41.922318Z"
    },
    "papermill": {
     "duration": 0.377403,
     "end_time": "2023-06-06T18:41:41.926197",
     "exception": false,
     "start_time": "2023-06-06T18:41:41.548794",
     "status": "completed"
    },
    "tags": []
   },
   "outputs": [
    {
     "data": {
      "text/plain": [
       "(0.0, 1.0)"
      ]
     },
     "execution_count": 38,
     "metadata": {},
     "output_type": "execute_result"
    },
    {
     "data": {
      "image/png": "[encoded data removed]",
      "text/plain": [
       "<Figure size 432x288 with 1 Axes>"
      ]
     },
     "metadata": {
      "needs_background": "light"
     },
     "output_type": "display_data"
    }
   ],
   "source": [
    "import seaborn as sns\n",
    "p = sns.scatterplot(x=pred,y=residuals)\n",
    "plt.xlabel('predicted values')\n",
    "plt.ylabel('Residuals')\n",
    "plt.ylim(-0.4,0.4)\n",
    "plt.xlim(0,1)\n",
    "#p = sns.lineplot([0,26],[0,0],color='blue')\n",
    "#p = plt.title('Residuals vs fitted values plot for homoscedasticity check')"
   ]
  },
  {
   "cell_type": "code",
   "execution_count": 39,
   "id": "60f6046b",
   "metadata": {
    "execution": {
     "iopub.execute_input": "2023-06-06T18:41:41.990337Z",
     "iopub.status.busy": "2023-06-06T18:41:41.989874Z",
     "iopub.status.idle": "2023-06-06T18:41:42.000418Z",
     "shell.execute_reply": "2023-06-06T18:41:41.999250Z"
    },
    "papermill": {
     "duration": 0.046722,
     "end_time": "2023-06-06T18:41:42.003017",
     "exception": false,
     "start_time": "2023-06-06T18:41:41.956295",
     "status": "completed"
    },
    "tags": []
   },
   "outputs": [
    {
     "data": {
      "text/plain": [
       "[('F statistics', 2.1139760855427285), ('p-value', 0.008559995643444451)]"
      ]
     },
     "execution_count": 39,
     "metadata": {},
     "output_type": "execute_result"
    }
   ],
   "source": [
    "import statsmodels.stats.api as sns\n",
    "from statsmodels.compat import lzip\n",
    "name=['F statistics','p-value']\n",
    "test=sns.het_goldfeldquandt(residuals,X_test)\n",
    "lzip(name,test)"
   ]
  },
  {
   "cell_type": "markdown",
   "id": "a215d8c2",
   "metadata": {
    "papermill": {
     "duration": 0.030502,
     "end_time": "2023-06-06T18:41:42.065201",
     "exception": false,
     "start_time": "2023-06-06T18:41:42.034699",
     "status": "completed"
    },
    "tags": []
   },
   "source": [
    "#### Here `null hypothesis` is - error terms are homoscedastic and since p-values <0.05, we  reject the null hypothesis "
   ]
  },
  {
   "cell_type": "markdown",
   "id": "4522f5ee",
   "metadata": {
    "papermill": {
     "duration": 0.030534,
     "end_time": "2023-06-06T18:41:42.126615",
     "exception": false,
     "start_time": "2023-06-06T18:41:42.096081",
     "status": "completed"
    },
    "tags": []
   },
   "source": [
    "## Normality of residuals"
   ]
  },
  {
   "cell_type": "code",
   "execution_count": 38,
   "id": "c26b07d9",
   "metadata": {
    "execution": {
     "iopub.execute_input": "2023-06-06T18:41:42.190574Z",
     "iopub.status.busy": "2023-06-06T18:41:42.190054Z",
     "iopub.status.idle": "2023-06-06T18:41:42.194370Z",
     "shell.execute_reply": "2023-06-06T18:41:42.193332Z"
    },
    "papermill": {
     "duration": 0.039314,
     "end_time": "2023-06-06T18:41:42.196880",
     "exception": false,
     "start_time": "2023-06-06T18:41:42.157566",
     "status": "completed"
    },
    "tags": []
   },
   "outputs": [],
   "source": [
    "# sns.displot(x=residuals,kde=True)\n",
    "# plt.title('Normality of error terms/residuals')"
   ]
  },
  {
   "cell_type": "code",
   "execution_count": 40,
   "id": "e15a80eb",
   "metadata": {
    "execution": {
     "iopub.execute_input": "2023-06-06T18:41:42.261952Z",
     "iopub.status.busy": "2023-06-06T18:41:42.261105Z",
     "iopub.status.idle": "2023-06-06T18:41:42.590227Z",
     "shell.execute_reply": "2023-06-06T18:41:42.589035Z"
    },
    "papermill": {
     "duration": 0.363887,
     "end_time": "2023-06-06T18:41:42.592914",
     "exception": false,
     "start_time": "2023-06-06T18:41:42.229027",
     "status": "completed"
    },
    "tags": []
   },
   "outputs": [
    {
     "data": {
      "text/plain": [
       "Text(0, 0.5, 'y_pred')"
      ]
     },
     "execution_count": 40,
     "metadata": {},
     "output_type": "execute_result"
    },
    {
     "data": {
      "image/png": "[encoded data removed]",
      "text/plain": [
       "<Figure size 432x288 with 1 Axes>"
      ]
     },
     "metadata": {
      "needs_background": "light"
     },
     "output_type": "display_data"
    }
   ],
   "source": [
    "# Plotting y_test and y_pred to understand the spread.\n",
    "fig = plt.figure()\n",
    "plt.scatter(y_test.values, pred)\n",
    "fig.suptitle('y_test vs y_pred', fontsize=20)              # Plot heading \n",
    "plt.xlabel('y_test', fontsize=18)                          # X-label\n",
    "plt.ylabel('y_pred', fontsize=16)                          # Y-label"
   ]
  },
  {
   "cell_type": "markdown",
   "id": "6cf3ebf2",
   "metadata": {
    "papermill": {
     "duration": 0.030435,
     "end_time": "2023-06-06T18:41:42.715074",
     "exception": false,
     "start_time": "2023-06-06T18:41:42.684639",
     "status": "completed"
    },
    "tags": []
   },
   "source": [
    "## Actionable Insights & Recommendations"
   ]
  },
  {
   "cell_type": "markdown",
   "id": "7ddc7fb8",
   "metadata": {
    "papermill": {
     "duration": 0.029499,
     "end_time": "2023-06-06T18:41:42.777374",
     "exception": false,
     "start_time": "2023-06-06T18:41:42.747875",
     "status": "completed"
    },
    "tags": []
   },
   "source": [
    "- Bias is as a result of over simplified model assumptions\n",
    "- Variance occurs when the assumptions are too complex"
   ]
  },
  {
   "cell_type": "markdown",
   "id": "72beedc9",
   "metadata": {
    "papermill": {
     "duration": 0.030337,
     "end_time": "2023-06-06T18:41:42.837799",
     "exception": false,
     "start_time": "2023-06-06T18:41:42.807462",
     "status": "completed"
    },
    "tags": []
   },
   "source": [
    "- The more preferred model is one with low bias and low varinace.\n",
    "\n",
    "- Dimensionality reduction and feature selection can decrease variance by simplifying models. \n",
    "\n",
    "- Similarly, a larger training set tends to decrease variance.\n",
    "\n",
    "- For reducing Bias: Change the model, Ensure the date is truly representative(Ensure that the training data is diverse and represents all possible groups or outcomes.), Parameter tuning.\n",
    "\n",
    "- The bias–variance decomposition forms the conceptual basis for regression regularization methods such as Lasso and ridge regression. \n",
    "\n",
    "- Regularization methods introduce bias into the regression solution that can reduce variance considerably relative to the ordinary least squares (OLS) solution. \n",
    "\n",
    "- Although the OLS solution provides non-biased regression estimates, the lower variance solutions produced by regularization techniques provide superior MSE performance. \n",
    "\n",
    "- Linear and Generalized linear models can be regularized to decrease their variance at the cost of increasing their bias."
   ]
  },
  {
   "cell_type": "code",
   "execution_count": null,
   "id": "881e3cee",
   "metadata": {
    "papermill": {
     "duration": 0.030937,
     "end_time": "2023-06-06T18:41:42.898820",
     "exception": false,
     "start_time": "2023-06-06T18:41:42.867883",
     "status": "completed"
    },
    "tags": []
   },
   "outputs": [],
   "source": []
  }
 ],
 "metadata": {
  "kernelspec": {
   "display_name": "Python 3 (ipykernel)",
   "language": "python",
   "name": "python3"
  },
  "language_info": {
   "codemirror_mode": {
    "name": "ipython",
    "version": 3
   },
   "file_extension": ".py",
   "mimetype": "text/x-python",
   "name": "python",
   "nbconvert_exporter": "python",
   "pygments_lexer": "ipython3",
   "version": "3.10.5"
  },
  "papermill": {
   "default_parameters": {},
   "duration": 30.43557,
   "end_time": "2023-06-06T18:41:44.660469",
   "environment_variables": {},
   "exception": null,
   "input_path": "__notebook__.ipynb",
   "output_path": "__notebook__.ipynb",
   "parameters": {},
   "start_time": "2023-06-06T18:41:14.224899",
   "version": "2.4.0"
  }
 },
 "nbformat": 4,
 "nbformat_minor": 5
}
